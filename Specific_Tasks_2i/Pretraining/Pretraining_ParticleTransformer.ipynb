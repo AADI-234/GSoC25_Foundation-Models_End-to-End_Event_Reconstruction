{
 "cells": [
  {
   "cell_type": "code",
   "execution_count": null,
   "id": "15c62fce",
   "metadata": {
    "_cell_guid": "b1076dfc-b9ad-4769-8c92-a6c4dae69d19",
    "_uuid": "8f2839f25d086af736a60e9eeb907d3b93b6e0e5",
    "execution": {
     "iopub.execute_input": "2025-03-26T07:21:08.741882Z",
     "iopub.status.busy": "2025-03-26T07:21:08.741577Z",
     "iopub.status.idle": "2025-03-26T07:21:17.209500Z",
     "shell.execute_reply": "2025-03-26T07:21:17.208298Z"
    },
    "papermill": {
     "duration": 8.474622,
     "end_time": "2025-03-26T07:21:17.211405",
     "exception": false,
     "start_time": "2025-03-26T07:21:08.736783",
     "status": "completed"
    },
    "tags": []
   },
   "outputs": [],
   "source": [
    "import os\n",
    "import random\n",
    "import warnings\n",
    "import h5py\n",
    "import numpy as np\n",
    "import torch\n",
    "import torch.nn as nn\n",
    "import torch.nn.functional as F\n",
    "from torch.utils.data import Dataset, DataLoader, TensorDataset\n",
    "from torchvision import transforms\n",
    "import torch.optim as optim\n",
    "from einops import rearrange\n",
    "from tqdm import tqdm\n",
    "from torchvision.transforms import GaussianBlur\n",
    "import matplotlib.pyplot as plt\n",
    "from sklearn.metrics import roc_curve, auc, mean_squared_error, f1_score, confusion_matrix, r2_score\n",
    "from sklearn.model_selection import train_test_split\n",
    "from sklearn.preprocessing import StandardScaler, KBinsDiscretizer\n",
    "from scipy.stats import gaussian_kde\n",
    "from torch.optim.lr_scheduler import CosineAnnealingLR\n",
    "from torch.amp import autocast, GradScaler\n",
    "\n",
    "# Device configuration and seeding\n",
    "device = torch.device(\"cuda\" if torch.cuda.is_available() else \"cpu\")\n",
    "torch.manual_seed(42)\n",
    "np.random.seed(42)\n",
    "if torch.cuda.is_available():\n",
    "    torch.cuda.manual_seed_all(42)"
   ]
  },
  {
   "cell_type": "code",
   "execution_count": null,
   "id": "866c0f44",
   "metadata": {
    "execution": {
     "iopub.execute_input": "2025-03-26T07:21:17.231255Z",
     "iopub.status.busy": "2025-03-26T07:21:17.231055Z",
     "iopub.status.idle": "2025-03-26T07:21:17.237001Z",
     "shell.execute_reply": "2025-03-26T07:21:17.236375Z"
    },
    "papermill": {
     "duration": 0.010713,
     "end_time": "2025-03-26T07:21:17.238109",
     "exception": false,
     "start_time": "2025-03-26T07:21:17.227396",
     "status": "completed"
    },
    "tags": []
   },
   "outputs": [],
   "source": [
    "\n",
    "class Augmentation:\n",
    "    def __init__(self, size=112, crop_scale=(0.8, 1.0), brightness=(0.8, 1.2)):\n",
    "        self.size = size\n",
    "        self.crop_scale = crop_scale\n",
    "        self.brightness = brightness\n",
    "\n",
    "    def __call__(self, x):\n",
    "        # x is a torch tensor image of shape (C, H, W)\n",
    "        _, h, w = x.shape\n",
    "        \n",
    "        # Random Resized Crop\n",
    "        scale = random.uniform(self.crop_scale[0], self.crop_scale[1])\n",
    "        new_h = int(h * scale)\n",
    "        new_w = int(w * scale)\n",
    "        if h > new_h and w > new_w:\n",
    "            top = random.randint(0, h - new_h)\n",
    "            left = random.randint(0, w - new_w)\n",
    "            x = x[:, top:top+new_h, left:left+new_w]\n",
    "        # Resize to the target size\n",
    "        x = F.interpolate(x.unsqueeze(0), size=(self.size, self.size),\n",
    "                          mode='bilinear', align_corners=False).squeeze(0)\n",
    "        \n",
    "        # Random Horizontal Flip\n",
    "        if random.random() < 0.5:\n",
    "            x = torch.flip(x, dims=[2])\n",
    "            \n",
    "        # Random brightness jitter\n",
    "        if random.random() < 0.5:\n",
    "            factor = random.uniform(self.brightness[0], self.brightness[1])\n",
    "            x = x * factor\n",
    "            x = torch.clamp(x, 0, 1)\n",
    "        return x\n"
   ]
  },
  {
   "cell_type": "code",
   "execution_count": null,
   "id": "c5803a05",
   "metadata": {
    "execution": {
     "iopub.execute_input": "2025-03-26T07:21:17.245096Z",
     "iopub.status.busy": "2025-03-26T07:21:17.244896Z",
     "iopub.status.idle": "2025-03-26T07:21:17.249424Z",
     "shell.execute_reply": "2025-03-26T07:21:17.248842Z"
    },
    "papermill": {
     "duration": 0.009141,
     "end_time": "2025-03-26T07:21:17.250501",
     "exception": false,
     "start_time": "2025-03-26T07:21:17.241360",
     "status": "completed"
    },
    "tags": []
   },
   "outputs": [],
   "source": [
    "\n",
    "class JetDatasetSSL(Dataset):\n",
    "    def __init__(self, file_path, key, transform=None):\n",
    "        self.file_path = file_path\n",
    "        self.key = key\n",
    "        with h5py.File(file_path, 'r') as f:\n",
    "            self.length = f[key].shape[0]\n",
    "        self.transform = transforms.Compose([Augmentation()]) if transform is None else transform\n",
    "\n",
    "    def __len__(self):\n",
    "        return self.length\n",
    "\n",
    "    def __getitem__(self, idx):\n",
    "        with h5py.File(self.file_path, 'r') as f:\n",
    "            jet = f[self.key][idx]  # Expected shape: [125, 125, 8]\n",
    "        # Convert shape to [channels, eta, phi]\n",
    "        jet = torch.tensor(jet, dtype=torch.float32).permute(2, 0, 1)\n",
    "        # Create two augmented views for contrastive learning\n",
    "        view1 = self.transform(jet)\n",
    "        view2 = self.transform(jet)\n",
    "        return view1, view2"
   ]
  },
  {
   "cell_type": "code",
   "execution_count": 5,
   "id": "3fd9db6e",
   "metadata": {
    "execution": {
     "iopub.execute_input": "2025-03-26T07:21:17.257284Z",
     "iopub.status.busy": "2025-03-26T07:21:17.257087Z",
     "iopub.status.idle": "2025-03-26T07:21:17.262165Z",
     "shell.execute_reply": "2025-03-26T07:21:17.261601Z"
    },
    "papermill": {
     "duration": 0.009805,
     "end_time": "2025-03-26T07:21:17.263355",
     "exception": false,
     "start_time": "2025-03-26T07:21:17.253550",
     "status": "completed"
    },
    "tags": []
   },
   "outputs": [],
   "source": [
    "# New class for labeled dataset\n",
    "class JetDatasetLabeled(Dataset):\n",
    "    def __init__(self, file_path, jet_key=\"jet\", y_key=\"Y\", pt_key=\"pT\", m_key=\"m\"):\n",
    "        self.file_path = file_path\n",
    "        self.jet_key = jet_key\n",
    "        self.y_key = y_key\n",
    "        self.pt_key = pt_key\n",
    "        self.m_key = m_key\n",
    "        \n",
    "        with h5py.File(file_path, 'r') as f:\n",
    "            self.length = f[jet_key].shape[0]\n",
    "            \n",
    "    def __len__(self):\n",
    "        return self.length\n",
    "\n",
    "    def __getitem__(self, idx):\n",
    "        with h5py.File(self.file_path, 'r') as f:\n",
    "            jet = f[self.jet_key][idx]\n",
    "            y = f[self.y_key][idx]\n",
    "            pt = f[self.pt_key][idx]\n",
    "            m = f[self.m_key][idx]\n",
    "            \n",
    "        # Convert shape to [channels, eta, phi]\n",
    "        jet = torch.tensor(jet, dtype=torch.float32).permute(2, 0, 1)\n",
    "        y = torch.tensor(y, dtype=torch.long)\n",
    "        pt = torch.tensor(pt, dtype=torch.float32)\n",
    "        m = torch.tensor(m, dtype=torch.float32)\n",
    "        \n",
    "        return jet, y, pt, m"
   ]
  },
  {
   "cell_type": "code",
   "execution_count": null,
   "id": "5091769b",
   "metadata": {
    "execution": {
     "iopub.execute_input": "2025-03-26T07:21:17.270227Z",
     "iopub.status.busy": "2025-03-26T07:21:17.270027Z",
     "iopub.status.idle": "2025-03-26T07:21:17.276461Z",
     "shell.execute_reply": "2025-03-26T07:21:17.275875Z"
    },
    "papermill": {
     "duration": 0.011117,
     "end_time": "2025-03-26T07:21:17.277547",
     "exception": false,
     "start_time": "2025-03-26T07:21:17.266430",
     "status": "completed"
    },
    "tags": []
   },
   "outputs": [],
   "source": [
    "class ParticleTransformer(nn.Module):\n",
    "    def __init__(self, in_channels=8, latent_dim=256):\n",
    "        super().__init__()\n",
    "        \n",
    "        self.cnn = nn.Sequential(\n",
    "            nn.Conv2d(8, 64, kernel_size=3, padding=1),\n",
    "            nn.GELU(),\n",
    "            nn.BatchNorm2d(64),\n",
    "            nn.MaxPool2d(2),\n",
    "\n",
    "            nn.Conv2d(64, 128, kernel_size=3, padding=1),\n",
    "            nn.GELU(),\n",
    "            nn.BatchNorm2d(128),\n",
    "            nn.MaxPool2d(2),\n",
    "\n",
    "            nn.Conv2d(128, 256, kernel_size=3, padding=1),\n",
    "            nn.GELU(),\n",
    "            nn.BatchNorm2d(256),\n",
    "            nn.AdaptiveAvgPool2d((4, 4))\n",
    "        )\n",
    "        \n",
    "        self.pos_embedding = nn.Parameter(torch.randn(1, 16, 256) * 0.02)\n",
    "        \n",
    "        self.transformer = nn.TransformerEncoder(\n",
    "            nn.TransformerEncoderLayer(\n",
    "                d_model=256,\n",
    "                nhead=8,\n",
    "                dim_feedforward=1024,\n",
    "                dropout=0.1,\n",
    "                activation='gelu',\n",
    "                batch_first=True,\n",
    "                norm_first=True\n",
    "            ),\n",
    "            num_layers=2\n",
    "        )\n",
    "        \n",
    "        self.head = nn.Sequential(\n",
    "            nn.Linear(256, 512),\n",
    "            nn.GELU(),\n",
    "            nn.LayerNorm(512),\n",
    "            nn.Dropout(0.1),\n",
    "            nn.Linear(512, latent_dim)\n",
    "        )\n",
    "    \n",
    "    def forward(self, x):\n",
    "        x = self.cnn(x)\n",
    "        x = rearrange(x, 'b c h w -> b (h w) c')\n",
    "        x = x + self.pos_embedding\n",
    "        x = self.transformer(x)\n",
    "        x = x.mean(dim=1)\n",
    "        return self.head(x)"
   ]
  },
  {
   "cell_type": "code",
   "execution_count": 7,
   "id": "f76ff85c",
   "metadata": {
    "execution": {
     "iopub.execute_input": "2025-03-26T07:21:17.284266Z",
     "iopub.status.busy": "2025-03-26T07:21:17.284068Z",
     "iopub.status.idle": "2025-03-26T07:21:17.288347Z",
     "shell.execute_reply": "2025-03-26T07:21:17.287557Z"
    },
    "papermill": {
     "duration": 0.008948,
     "end_time": "2025-03-26T07:21:17.289495",
     "exception": false,
     "start_time": "2025-03-26T07:21:17.280547",
     "status": "completed"
    },
    "tags": []
   },
   "outputs": [],
   "source": [
    "class SimCLRModel(nn.Module):\n",
    "    def __init__(self, latent_dim=256, projection_dim=128):\n",
    "        super().__init__()\n",
    "        self.encoder = ParticleTransformer(latent_dim=latent_dim)\n",
    "        self.projector = nn.Sequential(\n",
    "            nn.Linear(latent_dim, latent_dim),\n",
    "            nn.GELU(),\n",
    "            nn.LayerNorm(latent_dim),\n",
    "            nn.Linear(latent_dim, projection_dim)\n",
    "        )\n",
    "\n",
    "    def forward(self, x):\n",
    "        features = self.encoder(x)\n",
    "        projections = self.projector(features)\n",
    "        return features, projections       "
   ]
  },
  {
   "cell_type": "code",
   "execution_count": 8,
   "id": "63ad01cd",
   "metadata": {
    "execution": {
     "iopub.execute_input": "2025-03-26T07:21:17.296239Z",
     "iopub.status.busy": "2025-03-26T07:21:17.296022Z",
     "iopub.status.idle": "2025-03-26T07:21:17.301390Z",
     "shell.execute_reply": "2025-03-26T07:21:17.300597Z"
    },
    "papermill": {
     "duration": 0.010078,
     "end_time": "2025-03-26T07:21:17.302642",
     "exception": false,
     "start_time": "2025-03-26T07:21:17.292564",
     "status": "completed"
    },
    "tags": []
   },
   "outputs": [],
   "source": [
    "class LARS(optim.Optimizer):\n",
    "    def __init__(self, optimizer, eps=1e-9, trust_coef=0.002):\n",
    "        \"\"\"\n",
    "        LARS wrapper for an optimizer with updated hyperparameters.\n",
    "\n",
    "        Args:\n",
    "            optimizer: The inner optimizer (e.g. AdamW).\n",
    "            eps: Small value for numerical stability.\n",
    "            trust_coef: Coefficient for computing the local learning rate.\n",
    "        \"\"\"\n",
    "        self.optimizer = optimizer\n",
    "        self.eps = eps\n",
    "        self.trust_coef = trust_coef\n",
    "\n",
    "    def step(self, closure=None):\n",
    "        for group in self.optimizer.param_groups:\n",
    "            weight_decay = group.get(\"weight_decay\", 0)\n",
    "            for p in group[\"params\"]:\n",
    "                if p.grad is None:\n",
    "                    continue\n",
    "                d_p = p.grad.data\n",
    "                if weight_decay != 0:\n",
    "                    d_p = d_p.add(p.data, alpha=weight_decay)\n",
    "                w_norm = p.data.norm()\n",
    "                g_norm = d_p.norm()\n",
    "                if w_norm > 0 and g_norm > 0:\n",
    "                    local_lr = self.trust_coef * w_norm / (g_norm + self.eps)\n",
    "                    d_p.mul_(local_lr)\n",
    "        self.optimizer.step(closure)\n",
    "\n",
    "    def zero_grad(self):\n",
    "        self.optimizer.zero_grad()"
   ]
  },
  {
   "cell_type": "code",
   "execution_count": 9,
   "id": "72604a08",
   "metadata": {
    "execution": {
     "iopub.execute_input": "2025-03-26T07:21:17.309208Z",
     "iopub.status.busy": "2025-03-26T07:21:17.309013Z",
     "iopub.status.idle": "2025-03-26T07:21:17.314595Z",
     "shell.execute_reply": "2025-03-26T07:21:17.313994Z"
    },
    "papermill": {
     "duration": 0.010307,
     "end_time": "2025-03-26T07:21:17.315917",
     "exception": false,
     "start_time": "2025-03-26T07:21:17.305610",
     "status": "completed"
    },
    "tags": []
   },
   "outputs": [],
   "source": [
    "class NTXentLoss(nn.Module):\n",
    "    def __init__(self, temperature=0.05, eps=1e-6):\n",
    "        super(NTXentLoss, self).__init__()\n",
    "        self.temperature = temperature\n",
    "        self.eps = eps\n",
    "\n",
    "    def forward(self, z_i, z_j):\n",
    "        batch_size = z_i.size(0)\n",
    "\n",
    "        # Normalize the input embeddings\n",
    "        z_i = F.normalize(z_i, dim=1, eps=self.eps)\n",
    "        z_j = F.normalize(z_j, dim=1, eps=self.eps)\n",
    "\n",
    "        # Concatenate the embeddings\n",
    "        representations = torch.cat([z_i, z_j], dim=0)\n",
    "\n",
    "        # Compute similarity matrix (use float32 for stability)\n",
    "        similarity_matrix = torch.mm(representations, representations.t()) / self.temperature\n",
    "        similarity_matrix = similarity_matrix.float()\n",
    "\n",
    "        # Mask out self-similarity using a safer mask value\n",
    "        mask = torch.eye(2 * batch_size, device=z_i.device).bool()\n",
    "        similarity_matrix = similarity_matrix.masked_fill(mask, -1e4)\n",
    "\n",
    "        # Compute positive and negative samples\n",
    "        positives = torch.cat([\n",
    "            torch.diag(similarity_matrix, batch_size),\n",
    "            torch.diag(similarity_matrix, -batch_size)\n",
    "        ])\n",
    "\n",
    "        negatives = similarity_matrix[~mask].view(2 * batch_size, -1)\n",
    "\n",
    "        # Calculate the loss using logsumexp for numerical stability\n",
    "        logsumexp_negatives = torch.logsumexp(negatives, dim=1)\n",
    "        loss = -torch.log(torch.exp(positives) / (torch.exp(logsumexp_negatives) + self.eps)).mean()\n",
    "\n",
    "        return loss"
   ]
  },
  {
   "cell_type": "code",
   "execution_count": 10,
   "id": "4d39f082",
   "metadata": {
    "execution": {
     "iopub.execute_input": "2025-03-26T07:21:17.322752Z",
     "iopub.status.busy": "2025-03-26T07:21:17.322557Z",
     "iopub.status.idle": "2025-03-26T07:21:17.335402Z",
     "shell.execute_reply": "2025-03-26T07:21:17.334762Z"
    },
    "papermill": {
     "duration": 0.017481,
     "end_time": "2025-03-26T07:21:17.336429",
     "exception": false,
     "start_time": "2025-03-26T07:21:17.318948",
     "status": "completed"
    },
    "tags": []
   },
   "outputs": [],
   "source": [
    "def train_ssl(model, train_loader, num_epochs=100, save_dir=\"./models\", validation_loader=None, patience=5, use_lars=True):\n",
    "    \"\"\"\n",
    "    Train the SSL model with improved monitoring, validation, early stopping, and optional LARS.\n",
    "    \n",
    "    Args:\n",
    "        model: The SimCLR model to train.\n",
    "        train_loader: DataLoader for training data.\n",
    "        num_epochs: Number of training epochs.\n",
    "        save_dir: Directory to save model checkpoints.\n",
    "        validation_loader: Optional loader for validation.\n",
    "        patience: Number of epochs with no improvement after which training will be stopped.\n",
    "        use_lars: If True, wraps the underlying optimizer with LARS.\n",
    "        \n",
    "    Returns:\n",
    "        Trained model and training history.\n",
    "    \"\"\"\n",
    "    os.makedirs(save_dir, exist_ok=True)\n",
    "    \n",
    "    # Setup base optimizer using AdamW\n",
    "    base_optimizer = optim.AdamW(model.parameters(), lr=3e-4, weight_decay=4e-5)\n",
    "    optimizer = LARS(base_optimizer, eps=1e-9, trust_coef=0.002) if use_lars else base_optimizer\n",
    "    \n",
    "    # Use the inner optimizer for the scheduler if LARS wrapper is used\n",
    "    scheduler = CosineAnnealingLR(optimizer.optimizer if use_lars else optimizer, T_max=num_epochs)\n",
    "    \n",
    "    # Contrastive loss with temperature scaling\n",
    "    criterion = NTXentLoss(temperature=0.05)\n",
    "    \n",
    "    best_loss = float('inf')\n",
    "    history = {'train_loss': [], 'val_loss': []}\n",
    "    early_stop_counter = 0\n",
    "    scaler = GradScaler(device=device) if device.type == \"cuda\" else GradScaler()\n",
    "    \n",
    "    for epoch in range(num_epochs):\n",
    "        model.train()\n",
    "        total_loss = 0.0\n",
    "        pbar = tqdm(train_loader, desc=f\"Epoch {epoch+1}/{num_epochs}\")\n",
    "\n",
    "        for view1, view2 in pbar:\n",
    "            x1, x2 = view1.to(device), view2.to(device)\n",
    "            optimizer.zero_grad()\n",
    "            \n",
    "            with autocast(device_type=device.type):\n",
    "                _, proj1 = model(x1)\n",
    "                _, proj2 = model(x2)\n",
    "                loss = criterion(proj1, proj2)\n",
    "            scaler.scale(loss).backward()\n",
    "            torch.nn.utils.clip_grad_norm_(model.parameters(), 1.0)\n",
    "            scaler.step(optimizer.optimizer if use_lars else optimizer)\n",
    "            scaler.update()\n",
    "            \n",
    "            total_loss += loss.item()\n",
    "            current_lr = (optimizer.optimizer.param_groups[0]['lr'] if use_lars \n",
    "                          else optimizer.param_groups[0]['lr'])\n",
    "            pbar.set_postfix({'loss': loss.item(), 'lr': current_lr})\n",
    "        \n",
    "        avg_loss = total_loss / len(train_loader)\n",
    "        history['train_loss'].append(avg_loss)\n",
    "        \n",
    "        current_loss = avg_loss\n",
    "        if validation_loader is not None:\n",
    "            model.eval()\n",
    "            val_total_loss = 0.0\n",
    "            with torch.no_grad():\n",
    "                for view1, view2 in validation_loader:\n",
    "                    x1, x2 = view1.to(device), view2.to(device)\n",
    "                    _, proj1 = model(x1)\n",
    "                    _, proj2 = model(x2)\n",
    "                    loss = criterion(proj1, proj2)\n",
    "                    val_total_loss += loss.item()\n",
    "            val_loss = val_total_loss / len(validation_loader)\n",
    "            history['val_loss'].append(val_loss)\n",
    "            print(f\"Epoch {epoch+1} - Train Loss: {avg_loss:.4f}, Val Loss: {val_loss:.4f}\")\n",
    "            current_loss = val_loss\n",
    "        else:\n",
    "            print(f\"Epoch {epoch+1} - Train Loss: {avg_loss:.4f}\")\n",
    "        \n",
    "        if val_loss < best_loss:\n",
    "            best_loss = val_loss\n",
    "            early_stop_counter = 0\n",
    "            torch.save({\n",
    "                'epoch': epoch,\n",
    "                'model_state_dict': model.state_dict(),\n",
    "                'optimizer_state_dict': (optimizer.optimizer.state_dict() if use_lars \n",
    "                                         else optimizer.state_dict()),\n",
    "                'loss': best_loss,\n",
    "                'history': history,\n",
    "            }, os.path.join(save_dir, \"best_model.pt\"))\n",
    "            print(f\"New best model saved! Loss: {best_loss:.4f}\")\n",
    "        else:\n",
    "            early_stop_counter += 1\n",
    "            if early_stop_counter >= patience:\n",
    "                print(f\"Early stopping triggered at epoch {epoch+1} with best loss {best_loss:.4f}\")\n",
    "                break\n",
    "        \n",
    "        torch.save({\n",
    "            'epoch': epoch,\n",
    "            'model_state_dict': model.state_dict(),\n",
    "            'optimizer_state_dict': (optimizer.optimizer.state_dict() if use_lars \n",
    "                                     else optimizer.state_dict()),\n",
    "            'scheduler_state_dict': scheduler.state_dict(),\n",
    "            'loss': current_loss,\n",
    "            'history': history,\n",
    "        }, os.path.join(save_dir, f\"checkpoint_epoch_{epoch+1}.pt\"))\n",
    "            \n",
    "        scheduler.step()\n",
    "    \n",
    "    # Plot training curve\n",
    "    plt.figure(figsize=(12, 4))\n",
    "    plt.subplot(1, 2, 1)\n",
    "    plt.plot(history['train_loss'], label='Training Loss')\n",
    "    if history['val_loss']:\n",
    "        plt.plot(history['val_loss'], label='Validation Loss')\n",
    "    plt.xlabel('Epoch')\n",
    "    plt.ylabel('Loss')\n",
    "    plt.legend()\n",
    "    plt.title('Training and Validation Loss')\n",
    "    \n",
    "    plt.subplot(1, 2, 2)\n",
    "    plt.semilogy(history['train_loss'], label='Training Loss')\n",
    "    if history['val_loss']:\n",
    "        plt.semilogy(history['val_loss'], label='Validation Loss')\n",
    "    plt.xlabel('Epoch')\n",
    "    plt.ylabel('Loss (log scale)')\n",
    "    plt.legend()\n",
    "    plt.title('Loss on Log Scale')\n",
    "    \n",
    "    plt.tight_layout()\n",
    "    plt.savefig(os.path.join(save_dir, \"training_curve.png\"))\n",
    "    plt.close()\n",
    "    \n",
    "    return model, history"
   ]
  },
  {
   "cell_type": "code",
   "execution_count": 11,
   "id": "18c5ef07",
   "metadata": {
    "execution": {
     "iopub.execute_input": "2025-03-26T07:21:17.343211Z",
     "iopub.status.busy": "2025-03-26T07:21:17.343016Z",
     "iopub.status.idle": "2025-03-26T07:21:17.347375Z",
     "shell.execute_reply": "2025-03-26T07:21:17.346766Z"
    },
    "papermill": {
     "duration": 0.009168,
     "end_time": "2025-03-26T07:21:17.348563",
     "exception": false,
     "start_time": "2025-03-26T07:21:17.339395",
     "status": "completed"
    },
    "tags": []
   },
   "outputs": [],
   "source": [
    "\n",
    "# Extract features using the pre-trained encoder\n",
    "def extract_features(model, dataloader):\n",
    "    model.eval()\n",
    "    features_list = []\n",
    "    y_list = []\n",
    "    pt_list = []\n",
    "    m_list = []\n",
    "    \n",
    "    with torch.no_grad():\n",
    "        for jets, y, pt, m in tqdm(dataloader, desc=\"Extracting features\"):\n",
    "            jets = jets.to(device)\n",
    "            features, _ = model(jets)\n",
    "            features_list.append(features.cpu())\n",
    "            y_list.append(y)\n",
    "            pt_list.append(pt)\n",
    "            m_list.append(m)\n",
    "    \n",
    "    # Concatenate all batches\n",
    "    features = torch.cat(features_list, dim=0)\n",
    "    y = torch.cat(y_list, dim=0)\n",
    "    pt = torch.cat(pt_list, dim=0)\n",
    "    m = torch.cat(m_list, dim=0)\n",
    "    \n",
    "    return features, y, pt, m\n",
    "\n"
   ]
  },
  {
   "cell_type": "code",
   "execution_count": 12,
   "id": "2a41c361",
   "metadata": {
    "execution": {
     "iopub.execute_input": "2025-03-26T07:21:17.355322Z",
     "iopub.status.busy": "2025-03-26T07:21:17.355128Z",
     "iopub.status.idle": "2025-03-26T09:19:48.560067Z",
     "shell.execute_reply": "2025-03-26T09:19:48.559092Z"
    },
    "papermill": {
     "duration": 7111.865803,
     "end_time": "2025-03-26T09:19:49.217365",
     "exception": false,
     "start_time": "2025-03-26T07:21:17.351562",
     "status": "completed"
    },
    "tags": []
   },
   "outputs": [
    {
     "name": "stdout",
     "output_type": "stream",
     "text": [
      "Loading SSL dataset...\n",
      "Dataset loaded with 60000 samples\n",
      "Initializing SimCLR model on cuda\n"
     ]
    },
    {
     "name": "stderr",
     "output_type": "stream",
     "text": [
      "/usr/local/lib/python3.10/dist-packages/torch/nn/modules/transformer.py:379: UserWarning: enable_nested_tensor is True, but self.use_nested_tensor is False because encoder_layer.norm_first was True\n",
      "  warnings.warn(\n"
     ]
    },
    {
     "name": "stdout",
     "output_type": "stream",
     "text": [
      "Model created with 2,321,344 parameters\n",
      "Starting SSL training...\n"
     ]
    },
    {
     "name": "stderr",
     "output_type": "stream",
     "text": [
      "Epoch 1/30: 100%|██████████| 421/421 [04:32<00:00,  1.55it/s, loss=4.05, lr=0.0003]\n"
     ]
    },
    {
     "name": "stdout",
     "output_type": "stream",
     "text": [
      "Epoch 1 - Train Loss: 4.7785, Val Loss: 5.6166\n",
      "New best model saved! Loss: 5.6166\n"
     ]
    },
    {
     "name": "stderr",
     "output_type": "stream",
     "text": [
      "Epoch 2/30: 100%|██████████| 421/421 [04:09<00:00,  1.69it/s, loss=3.02, lr=0.000299]\n"
     ]
    },
    {
     "name": "stdout",
     "output_type": "stream",
     "text": [
      "Epoch 2 - Train Loss: 3.4739, Val Loss: 4.0090\n",
      "New best model saved! Loss: 4.0090\n"
     ]
    },
    {
     "name": "stderr",
     "output_type": "stream",
     "text": [
      "Epoch 3/30: 100%|██████████| 421/421 [03:30<00:00,  2.00it/s, loss=2.44, lr=0.000297]\n"
     ]
    },
    {
     "name": "stdout",
     "output_type": "stream",
     "text": [
      "Epoch 3 - Train Loss: 2.9188, Val Loss: 11.1161\n"
     ]
    },
    {
     "name": "stderr",
     "output_type": "stream",
     "text": [
      "Epoch 4/30: 100%|██████████| 421/421 [03:29<00:00,  2.01it/s, loss=1.8, lr=0.000293]\n"
     ]
    },
    {
     "name": "stdout",
     "output_type": "stream",
     "text": [
      "Epoch 4 - Train Loss: 2.2420, Val Loss: 3.0492\n",
      "New best model saved! Loss: 3.0492\n"
     ]
    },
    {
     "name": "stderr",
     "output_type": "stream",
     "text": [
      "Epoch 5/30: 100%|██████████| 421/421 [03:25<00:00,  2.05it/s, loss=1.22, lr=0.000287]\n"
     ]
    },
    {
     "name": "stdout",
     "output_type": "stream",
     "text": [
      "Epoch 5 - Train Loss: 1.6156, Val Loss: 2.0525\n",
      "New best model saved! Loss: 2.0525\n"
     ]
    },
    {
     "name": "stderr",
     "output_type": "stream",
     "text": [
      "Epoch 6/30: 100%|██████████| 421/421 [03:32<00:00,  1.98it/s, loss=0.725, lr=0.00028]\n"
     ]
    },
    {
     "name": "stdout",
     "output_type": "stream",
     "text": [
      "Epoch 6 - Train Loss: 1.0695, Val Loss: 1.1865\n",
      "New best model saved! Loss: 1.1865\n"
     ]
    },
    {
     "name": "stderr",
     "output_type": "stream",
     "text": [
      "Epoch 7/30: 100%|██████████| 421/421 [03:33<00:00,  1.97it/s, loss=0.744, lr=0.000271]\n"
     ]
    },
    {
     "name": "stdout",
     "output_type": "stream",
     "text": [
      "Epoch 7 - Train Loss: 0.9892, Val Loss: 3.6994\n"
     ]
    },
    {
     "name": "stderr",
     "output_type": "stream",
     "text": [
      "Epoch 8/30: 100%|██████████| 421/421 [03:32<00:00,  1.98it/s, loss=0.655, lr=0.000261]\n"
     ]
    },
    {
     "name": "stdout",
     "output_type": "stream",
     "text": [
      "Epoch 8 - Train Loss: 0.7230, Val Loss: 5.7851\n"
     ]
    },
    {
     "name": "stderr",
     "output_type": "stream",
     "text": [
      "Epoch 9/30: 100%|██████████| 421/421 [03:23<00:00,  2.07it/s, loss=0.671, lr=0.00025]\n"
     ]
    },
    {
     "name": "stdout",
     "output_type": "stream",
     "text": [
      "Epoch 9 - Train Loss: 0.6023, Val Loss: 2.9267\n"
     ]
    },
    {
     "name": "stderr",
     "output_type": "stream",
     "text": [
      "Epoch 10/30: 100%|██████████| 421/421 [03:25<00:00,  2.05it/s, loss=0.296, lr=0.000238]\n"
     ]
    },
    {
     "name": "stdout",
     "output_type": "stream",
     "text": [
      "Epoch 10 - Train Loss: 0.4459, Val Loss: 0.9301\n",
      "New best model saved! Loss: 0.9301\n"
     ]
    },
    {
     "name": "stderr",
     "output_type": "stream",
     "text": [
      "Epoch 11/30: 100%|██████████| 421/421 [03:24<00:00,  2.06it/s, loss=0.271, lr=0.000225]\n"
     ]
    },
    {
     "name": "stdout",
     "output_type": "stream",
     "text": [
      "Epoch 11 - Train Loss: 0.3265, Val Loss: 0.3724\n",
      "New best model saved! Loss: 0.3724\n"
     ]
    },
    {
     "name": "stderr",
     "output_type": "stream",
     "text": [
      "Epoch 12/30: 100%|██████████| 421/421 [03:28<00:00,  2.02it/s, loss=0.254, lr=0.000211]\n"
     ]
    },
    {
     "name": "stdout",
     "output_type": "stream",
     "text": [
      "Epoch 12 - Train Loss: 0.3233, Val Loss: 0.1862\n",
      "New best model saved! Loss: 0.1862\n"
     ]
    },
    {
     "name": "stderr",
     "output_type": "stream",
     "text": [
      "Epoch 13/30: 100%|██████████| 421/421 [03:27<00:00,  2.03it/s, loss=0.205, lr=0.000196]\n"
     ]
    },
    {
     "name": "stdout",
     "output_type": "stream",
     "text": [
      "Epoch 13 - Train Loss: 0.2373, Val Loss: 0.2413\n"
     ]
    },
    {
     "name": "stderr",
     "output_type": "stream",
     "text": [
      "Epoch 14/30: 100%|██████████| 421/421 [03:24<00:00,  2.06it/s, loss=0.154, lr=0.000181]\n"
     ]
    },
    {
     "name": "stdout",
     "output_type": "stream",
     "text": [
      "Epoch 14 - Train Loss: 0.1712, Val Loss: 0.1550\n",
      "New best model saved! Loss: 0.1550\n"
     ]
    },
    {
     "name": "stderr",
     "output_type": "stream",
     "text": [
      "Epoch 15/30: 100%|██████████| 421/421 [03:29<00:00,  2.01it/s, loss=0.17, lr=0.000166]\n"
     ]
    },
    {
     "name": "stdout",
     "output_type": "stream",
     "text": [
      "Epoch 15 - Train Loss: 0.1433, Val Loss: 0.3746\n"
     ]
    },
    {
     "name": "stderr",
     "output_type": "stream",
     "text": [
      "Epoch 16/30: 100%|██████████| 421/421 [03:24<00:00,  2.06it/s, loss=0.147, lr=0.00015]\n"
     ]
    },
    {
     "name": "stdout",
     "output_type": "stream",
     "text": [
      "Epoch 16 - Train Loss: 0.1144, Val Loss: 0.1190\n",
      "New best model saved! Loss: 0.1190\n"
     ]
    },
    {
     "name": "stderr",
     "output_type": "stream",
     "text": [
      "Epoch 17/30: 100%|██████████| 421/421 [03:28<00:00,  2.02it/s, loss=0.102, lr=0.000134]\n"
     ]
    },
    {
     "name": "stdout",
     "output_type": "stream",
     "text": [
      "Epoch 17 - Train Loss: 0.0836, Val Loss: 0.0629\n",
      "New best model saved! Loss: 0.0629\n"
     ]
    },
    {
     "name": "stderr",
     "output_type": "stream",
     "text": [
      "Epoch 18/30: 100%|██████████| 421/421 [03:30<00:00,  2.00it/s, loss=0.0728, lr=0.000119]\n"
     ]
    },
    {
     "name": "stdout",
     "output_type": "stream",
     "text": [
      "Epoch 18 - Train Loss: 0.0752, Val Loss: 0.0967\n"
     ]
    },
    {
     "name": "stderr",
     "output_type": "stream",
     "text": [
      "Epoch 19/30: 100%|██████████| 421/421 [03:27<00:00,  2.03it/s, loss=0.0958, lr=0.000104]\n"
     ]
    },
    {
     "name": "stdout",
     "output_type": "stream",
     "text": [
      "Epoch 19 - Train Loss: 0.0692, Val Loss: 0.0485\n",
      "New best model saved! Loss: 0.0485\n"
     ]
    },
    {
     "name": "stderr",
     "output_type": "stream",
     "text": [
      "Epoch 20/30: 100%|██████████| 421/421 [03:28<00:00,  2.02it/s, loss=0.0514, lr=8.9e-5]\n"
     ]
    },
    {
     "name": "stdout",
     "output_type": "stream",
     "text": [
      "Epoch 20 - Train Loss: 0.0643, Val Loss: 0.0406\n",
      "New best model saved! Loss: 0.0406\n"
     ]
    },
    {
     "name": "stderr",
     "output_type": "stream",
     "text": [
      "Epoch 21/30: 100%|██████████| 421/421 [03:26<00:00,  2.04it/s, loss=0.0758, lr=7.5e-5]\n"
     ]
    },
    {
     "name": "stdout",
     "output_type": "stream",
     "text": [
      "Epoch 21 - Train Loss: 0.0578, Val Loss: 0.0356\n",
      "New best model saved! Loss: 0.0356\n"
     ]
    },
    {
     "name": "stderr",
     "output_type": "stream",
     "text": [
      "Epoch 22/30: 100%|██████████| 421/421 [03:27<00:00,  2.03it/s, loss=0.0597, lr=6.18e-5]\n"
     ]
    },
    {
     "name": "stdout",
     "output_type": "stream",
     "text": [
      "Epoch 22 - Train Loss: 0.0523, Val Loss: 0.0387\n"
     ]
    },
    {
     "name": "stderr",
     "output_type": "stream",
     "text": [
      "Epoch 23/30: 100%|██████████| 421/421 [03:31<00:00,  1.99it/s, loss=0.0278, lr=4.96e-5]\n"
     ]
    },
    {
     "name": "stdout",
     "output_type": "stream",
     "text": [
      "Epoch 23 - Train Loss: 0.0521, Val Loss: 0.0378\n"
     ]
    },
    {
     "name": "stderr",
     "output_type": "stream",
     "text": [
      "Epoch 24/30: 100%|██████████| 421/421 [03:28<00:00,  2.02it/s, loss=0.0326, lr=3.85e-5]\n"
     ]
    },
    {
     "name": "stdout",
     "output_type": "stream",
     "text": [
      "Epoch 24 - Train Loss: 0.0477, Val Loss: 0.0306\n",
      "New best model saved! Loss: 0.0306\n"
     ]
    },
    {
     "name": "stderr",
     "output_type": "stream",
     "text": [
      "Epoch 25/30: 100%|██████████| 421/421 [03:34<00:00,  1.97it/s, loss=0.0592, lr=2.86e-5]\n"
     ]
    },
    {
     "name": "stdout",
     "output_type": "stream",
     "text": [
      "Epoch 25 - Train Loss: 0.0437, Val Loss: 0.0295\n",
      "New best model saved! Loss: 0.0295\n"
     ]
    },
    {
     "name": "stderr",
     "output_type": "stream",
     "text": [
      "Epoch 26/30: 100%|██████████| 421/421 [03:38<00:00,  1.93it/s, loss=0.0465, lr=2.01e-5]\n"
     ]
    },
    {
     "name": "stdout",
     "output_type": "stream",
     "text": [
      "Epoch 26 - Train Loss: 0.0423, Val Loss: 0.0278\n",
      "New best model saved! Loss: 0.0278\n"
     ]
    },
    {
     "name": "stderr",
     "output_type": "stream",
     "text": [
      "Epoch 27/30: 100%|██████████| 421/421 [03:35<00:00,  1.96it/s, loss=0.0194, lr=1.3e-5]\n"
     ]
    },
    {
     "name": "stdout",
     "output_type": "stream",
     "text": [
      "Epoch 27 - Train Loss: 0.0405, Val Loss: 0.0281\n"
     ]
    },
    {
     "name": "stderr",
     "output_type": "stream",
     "text": [
      "Epoch 28/30: 100%|██████████| 421/421 [03:32<00:00,  1.98it/s, loss=0.0306, lr=7.34e-6]\n"
     ]
    },
    {
     "name": "stdout",
     "output_type": "stream",
     "text": [
      "Epoch 28 - Train Loss: 0.0380, Val Loss: 0.0309\n"
     ]
    },
    {
     "name": "stderr",
     "output_type": "stream",
     "text": [
      "Epoch 29/30: 100%|██████████| 421/421 [03:32<00:00,  1.98it/s, loss=0.0226, lr=3.28e-6]\n"
     ]
    },
    {
     "name": "stdout",
     "output_type": "stream",
     "text": [
      "Epoch 29 - Train Loss: 0.0394, Val Loss: 0.0271\n",
      "New best model saved! Loss: 0.0271\n"
     ]
    },
    {
     "name": "stderr",
     "output_type": "stream",
     "text": [
      "Epoch 30/30: 100%|██████████| 421/421 [03:37<00:00,  1.94it/s, loss=0.0273, lr=8.22e-7]\n"
     ]
    },
    {
     "name": "stdout",
     "output_type": "stream",
     "text": [
      "Epoch 30 - Train Loss: 0.0390, Val Loss: 0.0254\n",
      "New best model saved! Loss: 0.0254\n",
      "SSL training completed!\n"
     ]
    }
   ],
   "source": [
    "\n",
    "def main():\n",
    "    # Configuration\n",
    "    ssl_file_path = \"/kaggle/input/dataset-specific-unlabelled/Dataset_Specific_Unlabelled.h5\"\n",
    "    labeled_file_path = \"/kaggle/input/dataset-specific-labelled-full-only-for-2i/Dataset_Specific_labelled_full_only_for_2i.h5\"\n",
    "    batch_size = 128\n",
    "    num_epochs_ssl = 30  # Increased for better convergence\n",
    "    latent_dim = 256\n",
    "    save_dir = \"./models\"\n",
    "    os.makedirs(save_dir, exist_ok=True)\n",
    "    \n",
    "    # Set random seeds for reproducibility\n",
    "    torch.manual_seed(42)\n",
    "    np.random.seed(42)\n",
    "    if torch.cuda.is_available():\n",
    "        torch.cuda.manual_seed_all(42)\n",
    "    \n",
    "    # Step 1: Self-Supervised Learning Pretraining\n",
    "    print(\"Loading SSL dataset...\")\n",
    "    try:\n",
    "        ssl_dataset = JetDatasetSSL(ssl_file_path, \"jet\")\n",
    "        print(f\"Dataset loaded with {len(ssl_dataset)} samples\")\n",
    "        \n",
    "        # Create train/validation split for SSL\n",
    "        train_size = int(0.9 * len(ssl_dataset))\n",
    "        val_size = len(ssl_dataset) - train_size\n",
    "        ssl_train_dataset, ssl_val_dataset = torch.utils.data.random_split(\n",
    "            ssl_dataset, [train_size, val_size], \n",
    "            generator=torch.Generator().manual_seed(42)\n",
    "        )\n",
    "        \n",
    "        ssl_train_loader = DataLoader(\n",
    "            ssl_train_dataset, \n",
    "            batch_size=batch_size,\n",
    "            shuffle=True,\n",
    "            num_workers=4,\n",
    "            pin_memory=True,\n",
    "            drop_last=True\n",
    "        )\n",
    "        \n",
    "        ssl_val_loader = DataLoader(\n",
    "            ssl_val_dataset, \n",
    "            batch_size=batch_size,\n",
    "            shuffle=False,\n",
    "            num_workers=4,\n",
    "            pin_memory=True,\n",
    "            drop_last=True\n",
    "        )\n",
    "        \n",
    "        # Initialize model\n",
    "        print(f\"Initializing SimCLR model on {device}\")\n",
    "        ssl_model = SimCLRModel(latent_dim=latent_dim).to(device)\n",
    "        \n",
    "        # Print model summary\n",
    "        total_params = sum(p.numel() for p in ssl_model.parameters())\n",
    "        print(f\"Model created with {total_params:,} parameters\")\n",
    "        \n",
    "        # Train model\n",
    "        print(\"Starting SSL training...\")\n",
    "        ssl_model, history = train_ssl(\n",
    "            ssl_model, \n",
    "            ssl_train_loader, \n",
    "            num_epochs=num_epochs_ssl, \n",
    "            save_dir=save_dir,\n",
    "            validation_loader=ssl_val_loader ,use_lars=True)  \n",
    "        \n",
    "        print(\"SSL training completed!\")\n",
    "        \n",
    "    except Exception as e:\n",
    "        print(f\"Error during SSL training: {e}\")\n",
    "        raise\n",
    "\n",
    "if __name__ == \"__main__\":\n",
    "    main()"
   ]
  }
 ],
 "metadata": {
  "kaggle": {
   "accelerator": "none",
   "dataSources": [
    {
     "datasetId": 6809564,
     "sourceId": 10947806,
     "sourceType": "datasetVersion"
    },
    {
     "datasetId": 6898490,
     "sourceId": 11070195,
     "sourceType": "datasetVersion"
    }
   ],
   "dockerImageVersionId": 30919,
   "isGpuEnabled": false,
   "isInternetEnabled": true,
   "language": "python",
   "sourceType": "notebook"
  },
  "kernelspec": {
   "display_name": "Python 3",
   "language": "python",
   "name": "python3"
  },
  "language_info": {
   "codemirror_mode": {
    "name": "ipython",
    "version": 3
   },
   "file_extension": ".py",
   "mimetype": "text/x-python",
   "name": "python",
   "nbconvert_exporter": "python",
   "pygments_lexer": "ipython3",
   "version": "3.10.12"
  },
  "papermill": {
   "default_parameters": {},
   "duration": 7131.82286,
   "end_time": "2025-03-26T09:19:57.970962",
   "environment_variables": {},
   "exception": null,
   "input_path": "__notebook__.ipynb",
   "output_path": "__notebook__.ipynb",
   "parameters": {},
   "start_time": "2025-03-26T07:21:06.148102",
   "version": "2.6.0"
  }
 },
 "nbformat": 4,
 "nbformat_minor": 5
}
