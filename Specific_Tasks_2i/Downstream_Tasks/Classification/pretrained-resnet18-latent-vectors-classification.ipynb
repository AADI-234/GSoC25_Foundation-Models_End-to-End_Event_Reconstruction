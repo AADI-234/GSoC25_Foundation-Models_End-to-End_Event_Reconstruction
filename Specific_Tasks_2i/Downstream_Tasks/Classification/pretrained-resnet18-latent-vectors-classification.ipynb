{
 "cells": [
  {
   "cell_type": "code",
   "execution_count": 1,
   "metadata": {
    "_cell_guid": "b1076dfc-b9ad-4769-8c92-a6c4dae69d19",
    "_uuid": "8f2839f25d086af736a60e9eeb907d3b93b6e0e5",
    "execution": {
     "iopub.execute_input": "2025-04-03T16:48:09.889368Z",
     "iopub.status.busy": "2025-04-03T16:48:09.889064Z",
     "iopub.status.idle": "2025-04-03T16:48:16.277372Z",
     "shell.execute_reply": "2025-04-03T16:48:16.276454Z",
     "shell.execute_reply.started": "2025-04-03T16:48:09.889336Z"
    },
    "trusted": true
   },
   "outputs": [],
   "source": [
    "import os\n",
    "import warnings\n",
    "import h5py\n",
    "import numpy as np\n",
    "import torch\n",
    "import torch.nn as nn\n",
    "import torch.nn.functional as F\n",
    "from torch.utils.data import Dataset, DataLoader, TensorDataset\n",
    "from torchvision import transforms\n",
    "import torch.optim as optim\n",
    "from einops import rearrange\n",
    "from tqdm import tqdm\n",
    "from torchvision.transforms import GaussianBlur\n",
    "import matplotlib.pyplot as plt\n",
    "from sklearn.metrics import roc_curve, auc, mean_squared_error, f1_score, confusion_matrix,r2_score\n",
    "from sklearn.model_selection import train_test_split\n",
    "from sklearn.preprocessing import StandardScaler\n",
    "from torch.optim.lr_scheduler import CosineAnnealingLR\n",
    "\n",
    "from torch.optim.lr_scheduler import CosineAnnealingLR\n",
    "import matplotlib.pyplot as plt\n",
    "from sklearn.metrics import roc_curve, auc\n",
    "\n",
    "from einops import rearrange\n",
    "from tqdm import tqdm\n",
    "from torchvision.transforms import GaussianBlur\n",
    "import matplotlib.pyplot as plt\n",
    "from sklearn.metrics import roc_curve, auc, mean_squared_error, f1_score, confusion_matrix, r2_score\n",
    "from sklearn.model_selection import train_test_split\n",
    "from sklearn.preprocessing import StandardScaler, KBinsDiscretizer\n",
    "from scipy.stats import gaussian_kde\n",
    "import torchvision.models as models\n",
    "\n",
    "\n",
    "# Device configuration and seeding\n",
    "device = torch.device(\"cuda\" if torch.cuda.is_available() else \"cpu\")\n",
    "torch.manual_seed(42)\n",
    "np.random.seed(42)\n",
    "if torch.cuda.is_available():\n",
    "    torch.cuda.manual_seed_all(42)\n"
   ]
  },
  {
   "cell_type": "code",
   "execution_count": 2,
   "metadata": {
    "execution": {
     "iopub.execute_input": "2025-04-03T16:48:16.278932Z",
     "iopub.status.busy": "2025-04-03T16:48:16.278285Z",
     "iopub.status.idle": "2025-04-03T16:48:16.285442Z",
     "shell.execute_reply": "2025-04-03T16:48:16.284753Z",
     "shell.execute_reply.started": "2025-04-03T16:48:16.278895Z"
    },
    "trusted": true
   },
   "outputs": [],
   "source": [
    "\n",
    "# New class for labeled dataset\n",
    "class JetDatasetLabeled(Dataset):\n",
    "    def __init__(self, file_path, jet_key=\"jet\", y_key=\"Y\", pt_key=\"pT\", m_key=\"m\"):\n",
    "        self.file_path = file_path\n",
    "        self.jet_key = jet_key\n",
    "        self.y_key = y_key\n",
    "        self.pt_key = pt_key\n",
    "        self.m_key = m_key\n",
    "        \n",
    "        with h5py.File(file_path, 'r') as f:\n",
    "            self.length = f[jet_key].shape[0]\n",
    "            \n",
    "    def __len__(self):\n",
    "        return self.length\n",
    "\n",
    "    def __getitem__(self, idx):\n",
    "        with h5py.File(self.file_path, 'r') as f:\n",
    "            jet = f[self.jet_key][idx]\n",
    "            y = f[self.y_key][idx]\n",
    "            pt = f[self.pt_key][idx]\n",
    "            m = f[self.m_key][idx]\n",
    "            \n",
    "        # Convert shape to [channels, eta, phi]\n",
    "        jet = torch.tensor(jet, dtype=torch.float32).permute(2, 0, 1)\n",
    "        y = torch.tensor(y, dtype=torch.float32)\n",
    "        pt = torch.tensor(pt, dtype=torch.float32)\n",
    "        m = torch.tensor(m, dtype=torch.float32)\n",
    "        \n",
    "        return jet, y, pt, m"
   ]
  },
  {
   "cell_type": "code",
   "execution_count": 3,
   "metadata": {
    "execution": {
     "iopub.execute_input": "2025-04-03T16:48:16.286528Z",
     "iopub.status.busy": "2025-04-03T16:48:16.286220Z",
     "iopub.status.idle": "2025-04-03T16:48:16.311191Z",
     "shell.execute_reply": "2025-04-03T16:48:16.310384Z",
     "shell.execute_reply.started": "2025-04-03T16:48:16.286497Z"
    },
    "trusted": true
   },
   "outputs": [],
   "source": [
    "import torchvision.models as models\n",
    "\n",
    "class ResNetSSL(nn.Module):\n",
    "    def __init__(self, latent_dim=256, projection_dim=128, resnet_depth=18):\n",
    "        super().__init__()\n",
    "\n",
    "        # Load a standard ResNet, modify first conv layer and remove final FC layer\n",
    "        if resnet_depth == 18:\n",
    "            self.encoder_backbone = models.resnet18(weights=None) # No pretrained weights\n",
    "            num_bottleneck_features = 512\n",
    "        elif resnet_depth == 34:\n",
    "            self.encoder_backbone = models.resnet34(weights=None)\n",
    "            num_bottleneck_features = 512\n",
    "        # Add other depths (e.g., 50) if needed\n",
    "        else:\n",
    "            raise ValueError(\"Unsupported ResNet depth\")\n",
    "\n",
    "        # Modify the first convolutional layer for 8 input channels\n",
    "        original_conv1 = self.encoder_backbone.conv1\n",
    "        self.encoder_backbone.conv1 = nn.Conv2d(\n",
    "            8, # New number of input channels\n",
    "            original_conv1.out_channels,\n",
    "            kernel_size=original_conv1.kernel_size,\n",
    "            stride=original_conv1.stride,\n",
    "            padding=original_conv1.padding,\n",
    "            bias=False # Typically no bias if using BatchNorm\n",
    "        )\n",
    "\n",
    "        # Remove the original fully connected layer (classifier)\n",
    "        self.encoder_backbone.fc = nn.Identity()\n",
    "\n",
    "        # Add your own final layer to output the desired latent_dim\n",
    "        self.final_layer = nn.Linear(num_bottleneck_features, latent_dim)\n",
    "\n",
    "        # Standard SimCLR projector\n",
    "        self.projector = nn.Sequential(\n",
    "            nn.Linear(latent_dim, latent_dim * 2), # Wider intermediate\n",
    "            nn.ReLU(), # ReLU often used in SimCLR projectors\n",
    "            nn.Linear(latent_dim * 2, projection_dim)\n",
    "        )\n",
    "\n",
    "    def forward(self, x):\n",
    "        features_bottleneck = self.encoder_backbone(x) # Output from ResNet backbone\n",
    "        features_latent = self.final_layer(features_bottleneck) # Final latent features\n",
    "        projections = self.projector(features_latent)\n",
    "        return features_latent, projections"
   ]
  },
  {
   "cell_type": "code",
   "execution_count": 4,
   "metadata": {
    "execution": {
     "iopub.execute_input": "2025-04-03T16:48:16.313202Z",
     "iopub.status.busy": "2025-04-03T16:48:16.312974Z",
     "iopub.status.idle": "2025-04-03T16:48:16.328619Z",
     "shell.execute_reply": "2025-04-03T16:48:16.327841Z",
     "shell.execute_reply.started": "2025-04-03T16:48:16.313183Z"
    },
    "trusted": true
   },
   "outputs": [],
   "source": [
    "class SimCLRModel(nn.Module):\n",
    "    def __init__(self, latent_dim=256, projection_dim=128):\n",
    "        super().__init__()\n",
    "        self.encoder = ParticleTransformer(latent_dim=latent_dim)\n",
    "        self.projector = nn.Sequential(\n",
    "            nn.Linear(latent_dim, latent_dim),\n",
    "            nn.GELU(),\n",
    "            nn.LayerNorm(latent_dim),\n",
    "            nn.Linear(latent_dim, projection_dim)\n",
    "        )\n",
    "\n",
    "    def forward(self, x):\n",
    "        features = self.encoder(x)\n",
    "        projections = self.projector(features)\n",
    "        return features, projections       \n"
   ]
  },
  {
   "cell_type": "code",
   "execution_count": 5,
   "metadata": {
    "execution": {
     "iopub.execute_input": "2025-04-03T16:48:16.330355Z",
     "iopub.status.busy": "2025-04-03T16:48:16.330086Z",
     "iopub.status.idle": "2025-04-03T16:48:16.347188Z",
     "shell.execute_reply": "2025-04-03T16:48:16.346506Z",
     "shell.execute_reply.started": "2025-04-03T16:48:16.330312Z"
    },
    "trusted": true
   },
   "outputs": [],
   "source": [
    "\n",
    "def extract_features(model, dataloader):\n",
    "    model.eval()\n",
    "    features_list = []\n",
    "    y_list = []\n",
    "    pt_list = []\n",
    "    m_list = []\n",
    "    \n",
    "    with torch.no_grad():\n",
    "        for jets, y, pt, m in tqdm(dataloader, desc=\"Extracting features\"):\n",
    "            jets = jets.to(device)\n",
    "            features, _ = model(jets)\n",
    "            features_list.append(features.cpu())\n",
    "            y_list.append(y)\n",
    "            pt_list.append(pt)\n",
    "            m_list.append(m)\n",
    "    \n",
    "    # Concatenate all batches\n",
    "    features = torch.cat(features_list, dim=0)\n",
    "    y = torch.cat(y_list, dim=0)\n",
    "    pt = torch.cat(pt_list, dim=0)\n",
    "    m = torch.cat(m_list, dim=0)\n",
    "    \n",
    "    return features, y, pt, m\n",
    "\n"
   ]
  },
  {
   "cell_type": "code",
   "execution_count": 6,
   "metadata": {
    "execution": {
     "iopub.execute_input": "2025-04-03T16:48:16.348135Z",
     "iopub.status.busy": "2025-04-03T16:48:16.347901Z",
     "iopub.status.idle": "2025-04-03T16:48:16.360989Z",
     "shell.execute_reply": "2025-04-03T16:48:16.360271Z",
     "shell.execute_reply.started": "2025-04-03T16:48:16.348105Z"
    },
    "trusted": true
   },
   "outputs": [],
   "source": [
    "\n",
    "class ClassificationModel(nn.Module):\n",
    "    def __init__(self, input_dim, num_classes=1):\n",
    "        super(ClassificationModel, self).__init__()\n",
    "        self.fc = nn.Sequential(\n",
    "            nn.Linear(input_dim, 64),\n",
    "            nn.ReLU(),\n",
    "            nn.Linear(64, num_classes),\n",
    "            nn.Sigmoid()  # Ensure the output is in the range [0, 1] for binary classification\n",
    "        )\n",
    "\n",
    "    def forward(self, x):\n",
    "        return self.fc(x)"
   ]
  },
  {
   "cell_type": "code",
   "execution_count": 7,
   "metadata": {
    "execution": {
     "iopub.execute_input": "2025-04-03T16:48:16.361877Z",
     "iopub.status.busy": "2025-04-03T16:48:16.361688Z",
     "iopub.status.idle": "2025-04-03T16:48:55.306579Z",
     "shell.execute_reply": "2025-04-03T16:48:55.305715Z",
     "shell.execute_reply.started": "2025-04-03T16:48:16.361861Z"
    },
    "trusted": true
   },
   "outputs": [
    {
     "name": "stderr",
     "output_type": "stream",
     "text": [
      "<ipython-input-7-8dfb01a796df>:3: FutureWarning: You are using `torch.load` with `weights_only=False` (the current default value), which uses the default pickle module implicitly. It is possible to construct malicious pickle data which will execute arbitrary code during unpickling (See https://github.com/pytorch/pytorch/blob/main/SECURITY.md#untrusted-models for more details). In a future release, the default value for `weights_only` will be flipped to `True`. This limits the functions that could be executed during unpickling. Arbitrary objects will no longer be allowed to be loaded via this mode unless they are explicitly allowlisted by the user via `torch.serialization.add_safe_globals`. We recommend you start setting `weights_only=True` for any use case where you don't have full control of the loaded file. Please open an issue on GitHub for any issues related to this experimental feature.\n",
      "  checkpoint = torch.load(checkpoint_path, map_location=device)\n"
     ]
    },
    {
     "name": "stdout",
     "output_type": "stream",
     "text": [
      "Loaded model from best_model (20).pt (Epoch 22 with Loss 0.0037)\n",
      "Loading labeled dataset...\n"
     ]
    },
    {
     "name": "stderr",
     "output_type": "stream",
     "text": [
      "Extracting features: 100%|██████████| 157/157 [00:35<00:00,  4.38it/s]\n"
     ]
    }
   ],
   "source": [
    "def load_model(checkpoint_name, model, device):\n",
    "    checkpoint_path = os.path.join(\"/kaggle/input/greattt\", checkpoint_name)\n",
    "    checkpoint = torch.load(checkpoint_path, map_location=device)\n",
    "    model.load_state_dict(checkpoint['model_state_dict'])\n",
    "    print(f\"Loaded model from {checkpoint_name} (Epoch {checkpoint['epoch']} with Loss {checkpoint['loss']:.4f})\")\n",
    "    return model\n",
    "\n",
    "# Initialize model\n",
    "ssl_model = ResNetSSL(latent_dim=256, projection_dim=128, resnet_depth=18).to(device)\n",
    "# Load the best model\n",
    "ssl_model = load_model(\"best_model (20).pt\", ssl_model, device)\n",
    "ssl_model.eval()\n",
    "\n",
    "\n",
    "labeled_file_path = \"/kaggle/input/dataset-specific-labelled-full-only-for-2i/Dataset_Specific_labelled_full_only_for_2i.h5\"\n",
    "batch_size = 64\n",
    "num_epochs_downstream = 30\n",
    "latent_dim = 256\n",
    "print(\"Loading labeled dataset...\")\n",
    "\n",
    "\n",
    "labeled_dataset = JetDatasetLabeled(labeled_file_path)\n",
    "labeled_loader = DataLoader(\n",
    "        labeled_dataset,\n",
    "        batch_size=batch_size,\n",
    "        shuffle=False,\n",
    "        num_workers=4,\n",
    "        pin_memory=True\n",
    ")\n",
    "\n",
    "# Extract features\n",
    "features, y_labels, _, _ = extract_features(ssl_model, labeled_loader)\n",
    "\n",
    "\n",
    "# Split data for training and testing\n",
    "\n"
   ]
  },
  {
   "cell_type": "code",
   "execution_count": 8,
   "metadata": {
    "execution": {
     "iopub.execute_input": "2025-04-03T16:48:55.307661Z",
     "iopub.status.busy": "2025-04-03T16:48:55.307393Z",
     "iopub.status.idle": "2025-04-03T16:48:55.328539Z",
     "shell.execute_reply": "2025-04-03T16:48:55.327695Z",
     "shell.execute_reply.started": "2025-04-03T16:48:55.307638Z"
    },
    "trusted": true
   },
   "outputs": [],
   "source": [
    "X_train, X_val, y_train, y_val= train_test_split(\n",
    "    features, y_labels, test_size=0.2, random_state=42\n",
    ")"
   ]
  },
  {
   "cell_type": "code",
   "execution_count": 9,
   "metadata": {
    "execution": {
     "iopub.execute_input": "2025-04-03T16:48:55.329713Z",
     "iopub.status.busy": "2025-04-03T16:48:55.329395Z",
     "iopub.status.idle": "2025-04-03T16:48:55.335722Z",
     "shell.execute_reply": "2025-04-03T16:48:55.334913Z",
     "shell.execute_reply.started": "2025-04-03T16:48:55.329682Z"
    },
    "trusted": true
   },
   "outputs": [],
   "source": [
    "model = ClassificationModel(features.shape[1], 1).to(device)\n",
    "criterion = nn.BCELoss()\n",
    "optimizer = optim.Adam(model.parameters(), lr=0.0005)\n",
    "scheduler = torch.optim.lr_scheduler.CosineAnnealingLR(optimizer, T_max=70, eta_min=1e-8, last_epoch=-1)\n",
    "\n"
   ]
  },
  {
   "cell_type": "code",
   "execution_count": null,
   "metadata": {
    "execution": {
     "iopub.execute_input": "2025-04-03T16:48:55.336812Z",
     "iopub.status.busy": "2025-04-03T16:48:55.336555Z",
     "iopub.status.idle": "2025-04-03T16:48:55.351983Z",
     "shell.execute_reply": "2025-04-03T16:48:55.351301Z",
     "shell.execute_reply.started": "2025-04-03T16:48:55.336792Z"
    },
    "trusted": true
   },
   "outputs": [],
   "source": [
    "\n",
    "class DatasetLoader:\n",
    "    def __init__(self, X_train, y_train, X_val, y_val, batch_size):\n",
    "        self.batch_size = batch_size\n",
    "        self.train_loader = self.create_dataloader(X_train, y_train, shuffle=True)\n",
    "        self.val_loader = self.create_dataloader(X_val, y_val, shuffle=False)\n",
    "\n",
    "    def create_dataloader(self, X, y, shuffle):\n",
    "        dataset = TensorDataset(X, y)\n",
    "        return DataLoader(dataset, batch_size=batch_size, shuffle=shuffle, drop_last=True)\n",
    "batch_size = 256\n",
    "dataset_loader = DatasetLoader(X_train, y_train, X_val, y_val, 256)"
   ]
  },
  {
   "cell_type": "code",
   "execution_count": null,
   "metadata": {
    "execution": {
     "iopub.execute_input": "2025-04-03T16:48:55.353013Z",
     "iopub.status.busy": "2025-04-03T16:48:55.352732Z",
     "iopub.status.idle": "2025-04-03T16:49:01.623394Z",
     "shell.execute_reply": "2025-04-03T16:49:01.622568Z",
     "shell.execute_reply.started": "2025-04-03T16:48:55.352981Z"
    },
    "trusted": true
   },
   "outputs": [
    {
     "name": "stdout",
     "output_type": "stream",
     "text": [
      "\n",
      "--- Starting Training for 50 epochs ---\n",
      "Early stopping patience: 15 epochs\n"
     ]
    },
    {
     "name": "stderr",
     "output_type": "stream",
     "text": [
      "                                                          \r"
     ]
    },
    {
     "name": "stdout",
     "output_type": "stream",
     "text": [
      "Epoch 1/50 - Train Loss: 0.5521, Val Loss: 0.4304 | Train Acc: 0.8750, Val Acc: 0.8627 | Train ROC-AUC: 0.9206, Val ROC-AUC: 0.9183 | LR: 0.000500\n",
      "Validation loss improved (inf --> 0.4304). Saving model...\n"
     ]
    },
    {
     "name": "stderr",
     "output_type": "stream",
     "text": [
      "                                                       \r"
     ]
    },
    {
     "name": "stdout",
     "output_type": "stream",
     "text": [
      "Epoch 2/50 - Train Loss: 0.3954, Val Loss: 0.3804 | Train Acc: 0.8672, Val Acc: 0.8661 | Train ROC-AUC: 0.9148, Val ROC-AUC: 0.9211 | LR: 0.000500\n",
      "Validation loss improved (0.4304 --> 0.3804). Saving model...\n"
     ]
    },
    {
     "name": "stderr",
     "output_type": "stream",
     "text": [
      "                                                       \r"
     ]
    },
    {
     "name": "stdout",
     "output_type": "stream",
     "text": [
      "Epoch 3/50 - Train Loss: 0.3707, Val Loss: 0.3643 | Train Acc: 0.8555, Val Acc: 0.8627 | Train ROC-AUC: 0.9050, Val ROC-AUC: 0.9242 | LR: 0.000499\n",
      "Validation loss improved (0.3804 --> 0.3643). Saving model...\n"
     ]
    },
    {
     "name": "stderr",
     "output_type": "stream",
     "text": [
      "                                                            \r"
     ]
    },
    {
     "name": "stdout",
     "output_type": "stream",
     "text": [
      "Epoch 4/50 - Train Loss: 0.3562, Val Loss: 0.3519 | Train Acc: 0.8477, Val Acc: 0.8644 | Train ROC-AUC: 0.9089, Val ROC-AUC: 0.9283 | LR: 0.000498\n",
      "Validation loss improved (0.3643 --> 0.3519). Saving model...\n"
     ]
    },
    {
     "name": "stderr",
     "output_type": "stream",
     "text": [
      "                                                       \r"
     ]
    },
    {
     "name": "stdout",
     "output_type": "stream",
     "text": [
      "Epoch 5/50 - Train Loss: 0.3453, Val Loss: 0.3436 | Train Acc: 0.8906, Val Acc: 0.8638 | Train ROC-AUC: 0.9559, Val ROC-AUC: 0.9306 | LR: 0.000496\n",
      "Validation loss improved (0.3519 --> 0.3436). Saving model...\n"
     ]
    },
    {
     "name": "stderr",
     "output_type": "stream",
     "text": [
      "                                                       \r"
     ]
    },
    {
     "name": "stdout",
     "output_type": "stream",
     "text": [
      "Epoch 6/50 - Train Loss: 0.3378, Val Loss: 0.3377 | Train Acc: 0.8438, Val Acc: 0.8650 | Train ROC-AUC: 0.8958, Val ROC-AUC: 0.9318 | LR: 0.000494\n",
      "Validation loss improved (0.3436 --> 0.3377). Saving model...\n"
     ]
    },
    {
     "name": "stderr",
     "output_type": "stream",
     "text": [
      "                                                       \r"
     ]
    },
    {
     "name": "stdout",
     "output_type": "stream",
     "text": [
      "Epoch 7/50 - Train Loss: 0.3331, Val Loss: 0.3353 | Train Acc: 0.8711, Val Acc: 0.8610 | Train ROC-AUC: 0.9393, Val ROC-AUC: 0.9325 | LR: 0.000491\n",
      "Validation loss improved (0.3377 --> 0.3353). Saving model...\n"
     ]
    },
    {
     "name": "stderr",
     "output_type": "stream",
     "text": [
      "                                                       \r"
     ]
    },
    {
     "name": "stdout",
     "output_type": "stream",
     "text": [
      "Epoch 8/50 - Train Loss: 0.3289, Val Loss: 0.3327 | Train Acc: 0.8633, Val Acc: 0.8666 | Train ROC-AUC: 0.9289, Val ROC-AUC: 0.9334 | LR: 0.000488\n",
      "Validation loss improved (0.3353 --> 0.3327). Saving model...\n"
     ]
    },
    {
     "name": "stderr",
     "output_type": "stream",
     "text": [
      "                                                       \r"
     ]
    },
    {
     "name": "stdout",
     "output_type": "stream",
     "text": [
      "Epoch 9/50 - Train Loss: 0.3257, Val Loss: 0.3288 | Train Acc: 0.9062, Val Acc: 0.8638 | Train ROC-AUC: 0.9592, Val ROC-AUC: 0.9341 | LR: 0.000484\n",
      "Validation loss improved (0.3327 --> 0.3288). Saving model...\n"
     ]
    },
    {
     "name": "stderr",
     "output_type": "stream",
     "text": [
      "                                                        \r"
     ]
    },
    {
     "name": "stdout",
     "output_type": "stream",
     "text": [
      "Epoch 10/50 - Train Loss: 0.3237, Val Loss: 0.3271 | Train Acc: 0.8477, Val Acc: 0.8610 | Train ROC-AUC: 0.9344, Val ROC-AUC: 0.9338 | LR: 0.000480\n",
      "Validation loss improved (0.3288 --> 0.3271). Saving model...\n"
     ]
    },
    {
     "name": "stderr",
     "output_type": "stream",
     "text": [
      "                                                        \r"
     ]
    },
    {
     "name": "stdout",
     "output_type": "stream",
     "text": [
      "Epoch 11/50 - Train Loss: 0.3222, Val Loss: 0.3255 | Train Acc: 0.9062, Val Acc: 0.8616 | Train ROC-AUC: 0.9589, Val ROC-AUC: 0.9343 | LR: 0.000475\n",
      "Validation loss improved (0.3271 --> 0.3255). Saving model...\n"
     ]
    },
    {
     "name": "stderr",
     "output_type": "stream",
     "text": [
      "                                                        \r"
     ]
    },
    {
     "name": "stdout",
     "output_type": "stream",
     "text": [
      "Epoch 12/50 - Train Loss: 0.3197, Val Loss: 0.3254 | Train Acc: 0.8672, Val Acc: 0.8616 | Train ROC-AUC: 0.9439, Val ROC-AUC: 0.9343 | LR: 0.000470\n",
      "Validation loss improved (0.3255 --> 0.3254). Saving model...\n"
     ]
    },
    {
     "name": "stderr",
     "output_type": "stream",
     "text": [
      "                                                        \r"
     ]
    },
    {
     "name": "stdout",
     "output_type": "stream",
     "text": [
      "Epoch 13/50 - Train Loss: 0.3185, Val Loss: 0.3270 | Train Acc: 0.8633, Val Acc: 0.8677 | Train ROC-AUC: 0.9139, Val ROC-AUC: 0.9345 | LR: 0.000465\n",
      "No improvement in validation loss for 1 epoch(s).\n"
     ]
    },
    {
     "name": "stderr",
     "output_type": "stream",
     "text": [
      "                                                        \r"
     ]
    },
    {
     "name": "stdout",
     "output_type": "stream",
     "text": [
      "Epoch 14/50 - Train Loss: 0.3183, Val Loss: 0.3246 | Train Acc: 0.8633, Val Acc: 0.8633 | Train ROC-AUC: 0.9408, Val ROC-AUC: 0.9346 | LR: 0.000459\n",
      "Validation loss improved (0.3254 --> 0.3246). Saving model...\n"
     ]
    },
    {
     "name": "stderr",
     "output_type": "stream",
     "text": [
      "                                                        \r"
     ]
    },
    {
     "name": "stdout",
     "output_type": "stream",
     "text": [
      "Epoch 15/50 - Train Loss: 0.3173, Val Loss: 0.3250 | Train Acc: 0.8438, Val Acc: 0.8672 | Train ROC-AUC: 0.9261, Val ROC-AUC: 0.9346 | LR: 0.000452\n",
      "No improvement in validation loss for 1 epoch(s).\n"
     ]
    },
    {
     "name": "stderr",
     "output_type": "stream",
     "text": [
      "                                                        \r"
     ]
    },
    {
     "name": "stdout",
     "output_type": "stream",
     "text": [
      "Epoch 16/50 - Train Loss: 0.3154, Val Loss: 0.3240 | Train Acc: 0.8828, Val Acc: 0.8650 | Train ROC-AUC: 0.9280, Val ROC-AUC: 0.9349 | LR: 0.000445\n",
      "Validation loss improved (0.3246 --> 0.3240). Saving model...\n"
     ]
    },
    {
     "name": "stderr",
     "output_type": "stream",
     "text": [
      "                                                        \r"
     ]
    },
    {
     "name": "stdout",
     "output_type": "stream",
     "text": [
      "Epoch 17/50 - Train Loss: 0.3150, Val Loss: 0.3241 | Train Acc: 0.8789, Val Acc: 0.8661 | Train ROC-AUC: 0.9470, Val ROC-AUC: 0.9348 | LR: 0.000438\n",
      "No improvement in validation loss for 1 epoch(s).\n"
     ]
    },
    {
     "name": "stderr",
     "output_type": "stream",
     "text": [
      "                                                        \r"
     ]
    },
    {
     "name": "stdout",
     "output_type": "stream",
     "text": [
      "Epoch 18/50 - Train Loss: 0.3142, Val Loss: 0.3244 | Train Acc: 0.8750, Val Acc: 0.8655 | Train ROC-AUC: 0.9456, Val ROC-AUC: 0.9350 | LR: 0.000431\n",
      "No improvement in validation loss for 2 epoch(s).\n"
     ]
    },
    {
     "name": "stderr",
     "output_type": "stream",
     "text": [
      "                                                        \r"
     ]
    },
    {
     "name": "stdout",
     "output_type": "stream",
     "text": [
      "Epoch 19/50 - Train Loss: 0.3116, Val Loss: 0.3212 | Train Acc: 0.8750, Val Acc: 0.8627 | Train ROC-AUC: 0.9542, Val ROC-AUC: 0.9351 | LR: 0.000423\n",
      "Validation loss improved (0.3240 --> 0.3212). Saving model...\n"
     ]
    },
    {
     "name": "stderr",
     "output_type": "stream",
     "text": [
      "                                                        \r"
     ]
    },
    {
     "name": "stdout",
     "output_type": "stream",
     "text": [
      "Epoch 20/50 - Train Loss: 0.3124, Val Loss: 0.3211 | Train Acc: 0.8477, Val Acc: 0.8627 | Train ROC-AUC: 0.9298, Val ROC-AUC: 0.9352 | LR: 0.000414\n",
      "Validation loss improved (0.3212 --> 0.3211). Saving model...\n"
     ]
    },
    {
     "name": "stderr",
     "output_type": "stream",
     "text": [
      "                                                        \r"
     ]
    },
    {
     "name": "stdout",
     "output_type": "stream",
     "text": [
      "Epoch 21/50 - Train Loss: 0.3112, Val Loss: 0.3215 | Train Acc: 0.8633, Val Acc: 0.8605 | Train ROC-AUC: 0.9293, Val ROC-AUC: 0.9350 | LR: 0.000406\n",
      "No improvement in validation loss for 1 epoch(s).\n"
     ]
    },
    {
     "name": "stderr",
     "output_type": "stream",
     "text": [
      "                                                        \r"
     ]
    },
    {
     "name": "stdout",
     "output_type": "stream",
     "text": [
      "Epoch 22/50 - Train Loss: 0.3106, Val Loss: 0.3202 | Train Acc: 0.9141, Val Acc: 0.8655 | Train ROC-AUC: 0.9542, Val ROC-AUC: 0.9353 | LR: 0.000397\n",
      "Validation loss improved (0.3211 --> 0.3202). Saving model...\n"
     ]
    },
    {
     "name": "stderr",
     "output_type": "stream",
     "text": [
      "                                                        \r"
     ]
    },
    {
     "name": "stdout",
     "output_type": "stream",
     "text": [
      "Epoch 23/50 - Train Loss: 0.3106, Val Loss: 0.3200 | Train Acc: 0.8672, Val Acc: 0.8638 | Train ROC-AUC: 0.9331, Val ROC-AUC: 0.9354 | LR: 0.000388\n",
      "Validation loss improved (0.3202 --> 0.3200). Saving model...\n"
     ]
    },
    {
     "name": "stderr",
     "output_type": "stream",
     "text": [
      "                                                        \r"
     ]
    },
    {
     "name": "stdout",
     "output_type": "stream",
     "text": [
      "Epoch 24/50 - Train Loss: 0.3106, Val Loss: 0.3222 | Train Acc: 0.8750, Val Acc: 0.8638 | Train ROC-AUC: 0.9405, Val ROC-AUC: 0.9352 | LR: 0.000378\n",
      "No improvement in validation loss for 1 epoch(s).\n"
     ]
    },
    {
     "name": "stderr",
     "output_type": "stream",
     "text": [
      "                                                        \r"
     ]
    },
    {
     "name": "stdout",
     "output_type": "stream",
     "text": [
      "Epoch 25/50 - Train Loss: 0.3088, Val Loss: 0.3207 | Train Acc: 0.8789, Val Acc: 0.8655 | Train ROC-AUC: 0.9432, Val ROC-AUC: 0.9355 | LR: 0.000368\n",
      "No improvement in validation loss for 2 epoch(s).\n"
     ]
    },
    {
     "name": "stderr",
     "output_type": "stream",
     "text": [
      "                                                        \r"
     ]
    },
    {
     "name": "stdout",
     "output_type": "stream",
     "text": [
      "Epoch 26/50 - Train Loss: 0.3086, Val Loss: 0.3208 | Train Acc: 0.8477, Val Acc: 0.8638 | Train ROC-AUC: 0.9142, Val ROC-AUC: 0.9355 | LR: 0.000358\n",
      "No improvement in validation loss for 3 epoch(s).\n"
     ]
    },
    {
     "name": "stderr",
     "output_type": "stream",
     "text": [
      "                                                        \r"
     ]
    },
    {
     "name": "stdout",
     "output_type": "stream",
     "text": [
      "Epoch 27/50 - Train Loss: 0.3077, Val Loss: 0.3209 | Train Acc: 0.8789, Val Acc: 0.8638 | Train ROC-AUC: 0.9468, Val ROC-AUC: 0.9353 | LR: 0.000348\n",
      "No improvement in validation loss for 4 epoch(s).\n"
     ]
    },
    {
     "name": "stderr",
     "output_type": "stream",
     "text": [
      "                                                        \r"
     ]
    },
    {
     "name": "stdout",
     "output_type": "stream",
     "text": [
      "Epoch 28/50 - Train Loss: 0.3067, Val Loss: 0.3221 | Train Acc: 0.8711, Val Acc: 0.8650 | Train ROC-AUC: 0.9381, Val ROC-AUC: 0.9353 | LR: 0.000338\n",
      "No improvement in validation loss for 5 epoch(s).\n"
     ]
    },
    {
     "name": "stderr",
     "output_type": "stream",
     "text": [
      "                                                        \r"
     ]
    },
    {
     "name": "stdout",
     "output_type": "stream",
     "text": [
      "Epoch 29/50 - Train Loss: 0.3067, Val Loss: 0.3191 | Train Acc: 0.8867, Val Acc: 0.8644 | Train ROC-AUC: 0.9365, Val ROC-AUC: 0.9355 | LR: 0.000327\n",
      "Validation loss improved (0.3200 --> 0.3191). Saving model...\n"
     ]
    },
    {
     "name": "stderr",
     "output_type": "stream",
     "text": [
      "                                                        \r"
     ]
    },
    {
     "name": "stdout",
     "output_type": "stream",
     "text": [
      "Epoch 30/50 - Train Loss: 0.3067, Val Loss: 0.3207 | Train Acc: 0.8477, Val Acc: 0.8655 | Train ROC-AUC: 0.9147, Val ROC-AUC: 0.9353 | LR: 0.000317\n",
      "No improvement in validation loss for 1 epoch(s).\n"
     ]
    },
    {
     "name": "stderr",
     "output_type": "stream",
     "text": [
      "                                                        \r"
     ]
    },
    {
     "name": "stdout",
     "output_type": "stream",
     "text": [
      "Epoch 31/50 - Train Loss: 0.3052, Val Loss: 0.3192 | Train Acc: 0.8555, Val Acc: 0.8672 | Train ROC-AUC: 0.9208, Val ROC-AUC: 0.9356 | LR: 0.000306\n",
      "No improvement in validation loss for 2 epoch(s).\n"
     ]
    },
    {
     "name": "stderr",
     "output_type": "stream",
     "text": [
      "                                                        \r"
     ]
    },
    {
     "name": "stdout",
     "output_type": "stream",
     "text": [
      "Epoch 32/50 - Train Loss: 0.3049, Val Loss: 0.3186 | Train Acc: 0.8789, Val Acc: 0.8650 | Train ROC-AUC: 0.9392, Val ROC-AUC: 0.9356 | LR: 0.000295\n",
      "Validation loss improved (0.3191 --> 0.3186). Saving model...\n"
     ]
    },
    {
     "name": "stderr",
     "output_type": "stream",
     "text": [
      "                                                        \r"
     ]
    },
    {
     "name": "stdout",
     "output_type": "stream",
     "text": [
      "Epoch 33/50 - Train Loss: 0.3050, Val Loss: 0.3185 | Train Acc: 0.8789, Val Acc: 0.8650 | Train ROC-AUC: 0.9521, Val ROC-AUC: 0.9357 | LR: 0.000284\n",
      "Validation loss improved (0.3186 --> 0.3185). Saving model...\n"
     ]
    },
    {
     "name": "stderr",
     "output_type": "stream",
     "text": [
      "                                                        \r"
     ]
    },
    {
     "name": "stdout",
     "output_type": "stream",
     "text": [
      "Epoch 34/50 - Train Loss: 0.3051, Val Loss: 0.3177 | Train Acc: 0.8438, Val Acc: 0.8633 | Train ROC-AUC: 0.9256, Val ROC-AUC: 0.9357 | LR: 0.000272\n",
      "Validation loss improved (0.3185 --> 0.3177). Saving model...\n"
     ]
    },
    {
     "name": "stderr",
     "output_type": "stream",
     "text": [
      "                                                        \r"
     ]
    },
    {
     "name": "stdout",
     "output_type": "stream",
     "text": [
      "Epoch 35/50 - Train Loss: 0.3048, Val Loss: 0.3200 | Train Acc: 0.8516, Val Acc: 0.8666 | Train ROC-AUC: 0.9219, Val ROC-AUC: 0.9352 | LR: 0.000261\n",
      "No improvement in validation loss for 1 epoch(s).\n"
     ]
    },
    {
     "name": "stderr",
     "output_type": "stream",
     "text": [
      "                                                        \r"
     ]
    },
    {
     "name": "stdout",
     "output_type": "stream",
     "text": [
      "Epoch 36/50 - Train Loss: 0.3036, Val Loss: 0.3182 | Train Acc: 0.8906, Val Acc: 0.8644 | Train ROC-AUC: 0.9461, Val ROC-AUC: 0.9359 | LR: 0.000250\n",
      "No improvement in validation loss for 2 epoch(s).\n"
     ]
    },
    {
     "name": "stderr",
     "output_type": "stream",
     "text": [
      "                                                        \r"
     ]
    },
    {
     "name": "stdout",
     "output_type": "stream",
     "text": [
      "Epoch 37/50 - Train Loss: 0.3035, Val Loss: 0.3179 | Train Acc: 0.8828, Val Acc: 0.8633 | Train ROC-AUC: 0.9339, Val ROC-AUC: 0.9356 | LR: 0.000239\n",
      "No improvement in validation loss for 3 epoch(s).\n"
     ]
    },
    {
     "name": "stderr",
     "output_type": "stream",
     "text": [
      "                                                        \r"
     ]
    },
    {
     "name": "stdout",
     "output_type": "stream",
     "text": [
      "Epoch 38/50 - Train Loss: 0.3040, Val Loss: 0.3189 | Train Acc: 0.8555, Val Acc: 0.8655 | Train ROC-AUC: 0.9292, Val ROC-AUC: 0.9357 | LR: 0.000228\n",
      "No improvement in validation loss for 4 epoch(s).\n"
     ]
    },
    {
     "name": "stderr",
     "output_type": "stream",
     "text": [
      "                                                        \r"
     ]
    },
    {
     "name": "stdout",
     "output_type": "stream",
     "text": [
      "Epoch 39/50 - Train Loss: 0.3038, Val Loss: 0.3195 | Train Acc: 0.8477, Val Acc: 0.8650 | Train ROC-AUC: 0.9334, Val ROC-AUC: 0.9356 | LR: 0.000216\n",
      "No improvement in validation loss for 5 epoch(s).\n"
     ]
    },
    {
     "name": "stderr",
     "output_type": "stream",
     "text": [
      "                                                        \r"
     ]
    },
    {
     "name": "stdout",
     "output_type": "stream",
     "text": [
      "Epoch 40/50 - Train Loss: 0.3014, Val Loss: 0.3190 | Train Acc: 0.9023, Val Acc: 0.8633 | Train ROC-AUC: 0.9562, Val ROC-AUC: 0.9354 | LR: 0.000205\n",
      "No improvement in validation loss for 6 epoch(s).\n"
     ]
    },
    {
     "name": "stderr",
     "output_type": "stream",
     "text": [
      "                                                        \r"
     ]
    },
    {
     "name": "stdout",
     "output_type": "stream",
     "text": [
      "Epoch 41/50 - Train Loss: 0.3025, Val Loss: 0.3187 | Train Acc: 0.8633, Val Acc: 0.8661 | Train ROC-AUC: 0.9305, Val ROC-AUC: 0.9357 | LR: 0.000194\n",
      "No improvement in validation loss for 7 epoch(s).\n"
     ]
    },
    {
     "name": "stderr",
     "output_type": "stream",
     "text": [
      "                                                        \r"
     ]
    },
    {
     "name": "stdout",
     "output_type": "stream",
     "text": [
      "Epoch 42/50 - Train Loss: 0.3012, Val Loss: 0.3199 | Train Acc: 0.8984, Val Acc: 0.8666 | Train ROC-AUC: 0.9472, Val ROC-AUC: 0.9356 | LR: 0.000183\n",
      "No improvement in validation loss for 8 epoch(s).\n"
     ]
    },
    {
     "name": "stderr",
     "output_type": "stream",
     "text": [
      "                                                           \r"
     ]
    },
    {
     "name": "stdout",
     "output_type": "stream",
     "text": [
      "Epoch 43/50 - Train Loss: 0.3011, Val Loss: 0.3180 | Train Acc: 0.8711, Val Acc: 0.8644 | Train ROC-AUC: 0.9539, Val ROC-AUC: 0.9357 | LR: 0.000173\n",
      "No improvement in validation loss for 9 epoch(s).\n"
     ]
    },
    {
     "name": "stderr",
     "output_type": "stream",
     "text": [
      "                                                        \r"
     ]
    },
    {
     "name": "stdout",
     "output_type": "stream",
     "text": [
      "Epoch 44/50 - Train Loss: 0.3013, Val Loss: 0.3199 | Train Acc: 0.9219, Val Acc: 0.8661 | Train ROC-AUC: 0.9664, Val ROC-AUC: 0.9355 | LR: 0.000162\n",
      "No improvement in validation loss for 10 epoch(s).\n"
     ]
    },
    {
     "name": "stderr",
     "output_type": "stream",
     "text": [
      "                                                        \r"
     ]
    },
    {
     "name": "stdout",
     "output_type": "stream",
     "text": [
      "Epoch 45/50 - Train Loss: 0.3001, Val Loss: 0.3189 | Train Acc: 0.8477, Val Acc: 0.8638 | Train ROC-AUC: 0.9367, Val ROC-AUC: 0.9356 | LR: 0.000152\n",
      "No improvement in validation loss for 11 epoch(s).\n"
     ]
    },
    {
     "name": "stderr",
     "output_type": "stream",
     "text": [
      "                                                        \r"
     ]
    },
    {
     "name": "stdout",
     "output_type": "stream",
     "text": [
      "Epoch 46/50 - Train Loss: 0.3012, Val Loss: 0.3188 | Train Acc: 0.8594, Val Acc: 0.8655 | Train ROC-AUC: 0.9360, Val ROC-AUC: 0.9357 | LR: 0.000142\n",
      "No improvement in validation loss for 12 epoch(s).\n"
     ]
    },
    {
     "name": "stderr",
     "output_type": "stream",
     "text": [
      "                                                        \r"
     ]
    },
    {
     "name": "stdout",
     "output_type": "stream",
     "text": [
      "Epoch 47/50 - Train Loss: 0.3007, Val Loss: 0.3182 | Train Acc: 0.9023, Val Acc: 0.8650 | Train ROC-AUC: 0.9599, Val ROC-AUC: 0.9357 | LR: 0.000132\n",
      "No improvement in validation loss for 13 epoch(s).\n"
     ]
    },
    {
     "name": "stderr",
     "output_type": "stream",
     "text": [
      "                                                        \r"
     ]
    },
    {
     "name": "stdout",
     "output_type": "stream",
     "text": [
      "Epoch 48/50 - Train Loss: 0.3002, Val Loss: 0.3194 | Train Acc: 0.8867, Val Acc: 0.8655 | Train ROC-AUC: 0.9594, Val ROC-AUC: 0.9357 | LR: 0.000122\n",
      "No improvement in validation loss for 14 epoch(s).\n"
     ]
    },
    {
     "name": "stderr",
     "output_type": "stream",
     "text": [
      "                                                        "
     ]
    },
    {
     "name": "stdout",
     "output_type": "stream",
     "text": [
      "Epoch 49/50 - Train Loss: 0.3009, Val Loss: 0.3185 | Train Acc: 0.8633, Val Acc: 0.8644 | Train ROC-AUC: 0.9365, Val ROC-AUC: 0.9357 | LR: 0.000112\n",
      "No improvement in validation loss for 15 epoch(s).\n",
      "\n",
      "Early stopping triggered after 49 epochs due to no improvement in validation loss for 15 consecutive epochs.\n",
      "\n",
      "--- Finished Training ---\n"
     ]
    },
    {
     "name": "stderr",
     "output_type": "stream",
     "text": [
      "\r"
     ]
    }
   ],
   "source": [
    "\n",
    "import copy\n",
    "train_loss= []\n",
    "val_loss = []\n",
    "train_acc= []\n",
    "val_acc = []\n",
    "roc_auc_scores_train = []\n",
    "roc_auc_scores_val = []\n",
    "best_val_loss = float('inf')\n",
    "best_model_state_dict = None\n",
    "epochs_no_improve = 0\n",
    "early_stopping_patience = 15 # Stop if no improvement for this many epochs\n",
    "num_epochs = 50 # Increased from 20 for potentially better convergence\n",
    "from sklearn.metrics import accuracy_score, roc_auc_score, f1_score\n",
    "\n",
    "print(f\"\\n--- Starting Training for {num_epochs} epochs ---\")\n",
    "print(f\"Early stopping patience: {early_stopping_patience} epochs\")\n",
    "\n",
    "# 5. Training Loop\n",
    "for epoch in range(num_epochs):\n",
    "    # --- Training Phase ---\n",
    "    model.train()\n",
    "    running_loss_train = 0.0\n",
    "    correct_predictions_train = 0\n",
    "    total_predictions_train = 0\n",
    "    y_true_train = []\n",
    "    y_scores_train = []\n",
    "\n",
    "    with tqdm(dataset_loader.train_loader, desc=f\"Epoch {epoch+1}/{num_epochs}\", leave=False) as train_loader_with_progress:\n",
    "        for i, data in enumerate(train_loader_with_progress, 0):\n",
    "            inputs, labels = data\n",
    "            inputs, labels = inputs.to(device), labels.to(device)\n",
    "            optimizer.zero_grad()\n",
    "\n",
    "        \n",
    "\n",
    "            # Permute inputs from NHWC to NCHW for Conv layers\n",
    "            outputs = model(inputs) # Output: logits [N, 1\n",
    "            # Calculate loss using logits\n",
    "            loss = criterion(outputs, labels)\n",
    "            \n",
    "            loss.backward()\n",
    "            optimizer.step()\n",
    "    \n",
    "            running_loss_train += loss.item()\n",
    "\n",
    "        # Calculate accuracy: apply sigmoid, threshold, compare\n",
    "        with torch.no_grad():\n",
    "            probs = outputs\n",
    "            predicted = (probs > 0.5).float()\n",
    "            correct_predictions_train += (predicted == labels).sum().item()\n",
    "            total_predictions_train += labels.size(0)\n",
    "\n",
    "            # Store labels and probabilities (scores) for ROC AUC\n",
    "            y_true_train.extend(labels.cpu().numpy().flatten()) # Flatten to 1D\n",
    "            y_scores_train.extend(probs.cpu().numpy().flatten()) # Flatten to 1D\n",
    "\n",
    "        # Update progress bar description (optional)\n",
    "        # train_pbar.set_postfix({'loss': loss.item()})\n",
    "\n",
    "    # Calculate epoch metrics for training\n",
    "    avg_train_loss = running_loss_train / len(dataset_loader.train_loader)\n",
    "    train_accuracy = correct_predictions_train / total_predictions_train\n",
    "    try:\n",
    "        roc_auc_train = roc_auc_score(y_true_train, y_scores_train)\n",
    "    except ValueError:\n",
    "        print(\"Warning: Could not compute ROC AUC for training (likely only one class present in batch/epoch). Setting to 0.5.\")\n",
    "        roc_auc_train = 0.5 # Assign neutral value\n",
    "\n",
    "    train_loss.append(avg_train_loss)\n",
    "    train_acc.append(train_accuracy)\n",
    "    roc_auc_scores_train.append(roc_auc_train)\n",
    "\n",
    "    # --- Validation Phase ---\n",
    "    model.eval()\n",
    "    running_loss_val = 0.0\n",
    "    correct_predictions_val = 0\n",
    "    total_predictions_val = 0\n",
    "    y_true_val = []\n",
    "    y_scores_val = []\n",
    "\n",
    "    val_pbar = tqdm(dataset_loader.val_loader, desc=f\"Epoch {epoch+1}/{num_epochs} [Val]\", leave=False)\n",
    "    with torch.no_grad():\n",
    "        for inputs_val, labels_val in val_pbar:\n",
    "            inputs_val, labels_val = inputs_val.to(device), labels_val.to(device)\n",
    "\n",
    "            # Permute inputs\n",
    "            outputs_val = model(inputs_val) # Output: logits [N, 1]\n",
    "\n",
    "            # Calculate loss\n",
    "            val_loss_batch = criterion(outputs_val, labels_val)\n",
    "            running_loss_val += val_loss_batch.item()\n",
    "\n",
    "            # Calculate accuracy\n",
    "            probs_val = outputs_val\n",
    "            predicted_val = (probs_val > 0.5).float()\n",
    "            correct_predictions_val += (predicted_val == labels_val).sum().item()\n",
    "            total_predictions_val += labels_val.size(0)\n",
    "\n",
    "            # Store labels and probabilities for ROC AUC\n",
    "            y_true_val.extend(labels_val.cpu().numpy().flatten()) # Flatten to 1D\n",
    "            y_scores_val.extend(probs_val.cpu().numpy().flatten()) # Flatten to 1D\n",
    "\n",
    "    # Calculate epoch metrics for validation\n",
    "    avg_val_loss = running_loss_val / len(dataset_loader.val_loader)\n",
    "    val_accuracy = correct_predictions_val / total_predictions_val\n",
    "    try:\n",
    "        # Check if both classes are present in validation ground truth\n",
    "        if len(np.unique(y_true_val)) < 2:\n",
    "             print(f\"Warning: Epoch {epoch+1} - Only one class present in validation labels. ROC AUC is not defined. Setting to 0.5.\")\n",
    "             roc_auc_val = 0.5\n",
    "        else:\n",
    "             roc_auc_val = roc_auc_score(y_true_val, y_scores_val)\n",
    "    except ValueError:\n",
    "         # Fallback just in case of other sklearn issues\n",
    "         print(f\"Warning: Epoch {epoch+1} - Could not compute ROC AUC for validation. Setting to 0.5.\")\n",
    "         roc_auc_val = 0.5\n",
    "\n",
    "\n",
    "    val_loss.append(avg_val_loss)\n",
    "    val_acc.append(val_accuracy)\n",
    "    roc_auc_scores_val.append(roc_auc_val)\n",
    "\n",
    "    # Print epoch summary\n",
    "    print(f\"Epoch {epoch+1}/{num_epochs} - \"\n",
    "          f\"Train Loss: {avg_train_loss:.4f}, Val Loss: {avg_val_loss:.4f} | \"\n",
    "          f\"Train Acc: {train_accuracy:.4f}, Val Acc: {val_accuracy:.4f} | \"\n",
    "          f\"Train ROC-AUC: {roc_auc_train:.4f}, Val ROC-AUC: {roc_auc_val:.4f} | \"\n",
    "          f\"LR: {scheduler.get_last_lr()[0]:.6f}\")\n",
    "\n",
    "    # Step the scheduler\n",
    "    scheduler.step()\n",
    "\n",
    "    # --- Early Stopping and Best Model Saving ---\n",
    "    if avg_val_loss < best_val_loss:\n",
    "        print(f\"Validation loss improved ({best_val_loss:.4f} --> {avg_val_loss:.4f}). Saving model...\")\n",
    "        best_val_loss = avg_val_loss\n",
    "        # Use deepcopy to ensure the state dict is fully independent\n",
    "        best_model_state_dict = copy.deepcopy(model.state_dict())\n",
    "        torch.save(best_model_state_dict,\"Resnet18_latent_vectors_classification.pth\")\n",
    "        epochs_no_improve = 0 # Reset counter\n",
    "    else:\n",
    "        epochs_no_improve += 1\n",
    "        print(f\"No improvement in validation loss for {epochs_no_improve} epoch(s).\")\n",
    "\n",
    "    if epochs_no_improve >= early_stopping_patience:\n",
    "        print(f\"\\nEarly stopping triggered after {epoch+1} epochs due to no improvement in validation loss for {early_stopping_patience} consecutive epochs.\")\n",
    "        break # Stop training\n",
    "\n",
    "print(\"\\n--- Finished Training ---\")"
   ]
  },
  {
   "cell_type": "code",
   "execution_count": 12,
   "metadata": {
    "execution": {
     "iopub.execute_input": "2025-04-03T16:49:01.624523Z",
     "iopub.status.busy": "2025-04-03T16:49:01.624231Z",
     "iopub.status.idle": "2025-04-03T16:49:01.895300Z",
     "shell.execute_reply": "2025-04-03T16:49:01.894424Z",
     "shell.execute_reply.started": "2025-04-03T16:49:01.624491Z"
    },
    "trusted": true
   },
   "outputs": [
    {
     "data": {
      "image/png": "[encoded data removed]",
      "text/plain": [
       "<Figure size 600x400 with 1 Axes>"
      ]
     },
     "metadata": {},
     "output_type": "display_data"
    }
   ],
   "source": [
    "epochs = range(1, len(train_loss) + 1)\n",
    "plt.figure(figsize=(6, 4)) \n",
    "plt.plot(epochs, train_loss, 'bo-', label='Train', markersize=5, linewidth=1.5)  # Blue with circles\n",
    "plt.plot(epochs, val_loss, 'rs-', label='Validation', markersize=5, linewidth=1.5)  # Red with squares\n",
    "plt.xlabel('Epochs')\n",
    "plt.ylabel('Loss')\n",
    "plt.title('Loss Curve')\n",
    "plt.legend()\n",
    "plt.grid(True)\n",
    "plt.show()"
   ]
  },
  {
   "cell_type": "code",
   "execution_count": 13,
   "metadata": {
    "execution": {
     "iopub.execute_input": "2025-04-03T16:49:01.898142Z",
     "iopub.status.busy": "2025-04-03T16:49:01.897918Z",
     "iopub.status.idle": "2025-04-03T16:49:02.095485Z",
     "shell.execute_reply": "2025-04-03T16:49:02.094618Z",
     "shell.execute_reply.started": "2025-04-03T16:49:01.898124Z"
    },
    "trusted": true
   },
   "outputs": [
    {
     "data": {
      "image/png": "[encoded data removed]",
      "text/plain": [
       "<Figure size 600x400 with 1 Axes>"
      ]
     },
     "metadata": {},
     "output_type": "display_data"
    }
   ],
   "source": [
    "plt.figure(figsize=(6, 4))\n",
    "plt.plot(epochs, train_acc, 'bo-', label='Train', markersize=5, linewidth=1.5)\n",
    "plt.plot(epochs, val_acc, 'rs-', label='Validation', markersize=5, linewidth=1.5)\n",
    "plt.xlabel('Epochs')\n",
    "plt.ylabel('Accuracy')\n",
    "plt.title('Accuracy Curve')\n",
    "plt.legend()\n",
    "plt.grid(True)\n",
    "plt.show()\n"
   ]
  },
  {
   "cell_type": "code",
   "execution_count": 14,
   "metadata": {
    "execution": {
     "iopub.execute_input": "2025-04-03T16:49:02.096747Z",
     "iopub.status.busy": "2025-04-03T16:49:02.096499Z",
     "iopub.status.idle": "2025-04-03T16:49:02.281489Z",
     "shell.execute_reply": "2025-04-03T16:49:02.280660Z",
     "shell.execute_reply.started": "2025-04-03T16:49:02.096714Z"
    },
    "trusted": true
   },
   "outputs": [
    {
     "data": {
      "image/png": "[encoded data removed]",
      "text/plain": [
       "<Figure size 640x480 with 1 Axes>"
      ]
     },
     "metadata": {},
     "output_type": "display_data"
    }
   ],
   "source": [
    "plt.plot(epochs, roc_auc_scores_train, 'bo-', label='Train', markersize=5, linewidth=1.5)\n",
    "plt.plot(epochs, roc_auc_scores_val, 'rs-', label='Validation', markersize=5, linewidth=1.5)\n",
    "plt.xlabel('Epoch')\n",
    "plt.ylabel('ROC-AUC')\n",
    "plt.title('ROC-AUC Curve')\n",
    "plt.legend()\n",
    "plt.show()\n"
   ]
  },
  {
   "cell_type": "code",
   "execution_count": 15,
   "metadata": {
    "execution": {
     "iopub.execute_input": "2025-04-03T16:49:02.282370Z",
     "iopub.status.busy": "2025-04-03T16:49:02.282167Z",
     "iopub.status.idle": "2025-04-03T16:49:02.316974Z",
     "shell.execute_reply": "2025-04-03T16:49:02.316211Z",
     "shell.execute_reply.started": "2025-04-03T16:49:02.282352Z"
    },
    "trusted": true
   },
   "outputs": [
    {
     "name": "stdout",
     "output_type": "stream",
     "text": [
      "Test Loss: 0.3177, Test Accuracy: 0.8633, Test ROC-AUC: 0.9357\n"
     ]
    },
    {
     "name": "stderr",
     "output_type": "stream",
     "text": [
      "<ipython-input-15-638707735bee>:1: FutureWarning: You are using `torch.load` with `weights_only=False` (the current default value), which uses the default pickle module implicitly. It is possible to construct malicious pickle data which will execute arbitrary code during unpickling (See https://github.com/pytorch/pytorch/blob/main/SECURITY.md#untrusted-models for more details). In a future release, the default value for `weights_only` will be flipped to `True`. This limits the functions that could be executed during unpickling. Arbitrary objects will no longer be allowed to be loaded via this mode unless they are explicitly allowlisted by the user via `torch.serialization.add_safe_globals`. We recommend you start setting `weights_only=True` for any use case where you don't have full control of the loaded file. Please open an issue on GitHub for any issues related to this experimental feature.\n",
      "  checkpoint = torch.load(\"/kaggle/working/Resnet18_latent_vectors_classification.pth\")\n"
     ]
    }
   ],
   "source": [
    "checkpoint = torch.load(\"/kaggle/working/Resnet18_latent_vectors_classification.pth\")\n",
    "model = ClassificationModel(features.shape[1], 1).to(device)\n",
    "model.load_state_dict(checkpoint)\n",
    "model.eval()\n",
    "\n",
    "test_running_loss = 0.0\n",
    "correct_predictions_test = 0\n",
    "total_predictions_test = 0\n",
    "y_true_test = []\n",
    "y_scores_test = []\n",
    "\n",
    "with torch.no_grad():\n",
    "    for inputs_test, labels_test in dataset_loader.val_loader:\n",
    "        inputs_test = inputs_test.to(device)\n",
    "        # Convert labels to float, matching training if necessary\n",
    "        labels_test = labels_test.to(device).float()\n",
    "        \n",
    "        # Permute input dimensions from (B, 32, 32, 2) to (B, 2, 32, 32)\n",
    "        outputs_test = model(inputs_test)\n",
    "\n",
    "        \n",
    "        test_loss_batch = criterion(outputs_test, labels_test)\n",
    "        test_running_loss += test_loss_batch.item()\n",
    "        \n",
    "        predicted_test = (outputs_test > 0.5).float()\n",
    "        correct_predictions_test += (predicted_test == labels_test).sum().item()\n",
    "        total_predictions_test += labels_test.size(0)\n",
    "        \n",
    "        y_true_test.extend(labels_test.cpu().numpy())\n",
    "        y_scores_test.extend(outputs_test.cpu().detach().numpy())\n",
    "\n",
    "# Use the val_loader length for computing average loss\n",
    "test_loss = test_running_loss / len(dataset_loader.val_loader)\n",
    "test_accuracy = correct_predictions_test / total_predictions_test\n",
    "roc_auc_test = roc_auc_score(y_true_test, y_scores_test)\n",
    "accuracy_test = accuracy_score(y_true_test, (np.array(y_scores_test) > 0.5))\n",
    "\n",
    "print(f\"Test Loss: {test_loss:.4f}, Test Accuracy: {test_accuracy:.4f}, Test ROC-AUC: {roc_auc_test:.4f}\")"
   ]
  },
  {
   "cell_type": "code",
   "execution_count": 17,
   "metadata": {
    "execution": {
     "iopub.execute_input": "2025-04-03T16:50:51.234449Z",
     "iopub.status.busy": "2025-04-03T16:50:51.234103Z",
     "iopub.status.idle": "2025-04-03T16:50:51.417813Z",
     "shell.execute_reply": "2025-04-03T16:50:51.416937Z",
     "shell.execute_reply.started": "2025-04-03T16:50:51.234424Z"
    },
    "trusted": true
   },
   "outputs": [
    {
     "data": {
      "image/png": "[encoded data removed]",
      "text/plain": [
       "<Figure size 800x600 with 1 Axes>"
      ]
     },
     "metadata": {},
     "output_type": "display_data"
    }
   ],
   "source": [
    "\n",
    "fpr, tpr, _ = roc_curve(y_true_test, y_scores_test)\n",
    "roc_auc = auc(fpr, tpr)\n",
    "\n",
    "plt.figure(figsize=(8, 6))\n",
    "plt.plot(fpr, tpr, color='darkorange', lw=2, label=f'ROC Curve (AUC = {roc_auc:.4f})')\n",
    "plt.plot([0, 1], [0, 1], color='navy', lw=2, linestyle='--', label='Chance Level (AUC = 0.5)')\n",
    "\n",
    "plt.xlim([0.0, 1.0])\n",
    "plt.ylim([0.0, 1.05])\n",
    "plt.xlabel('False Positive Rate')\n",
    "plt.ylabel('True Positive Rate')\n",
    "plt.title('Receiver Operating Characteristic (ROC) Curve')\n",
    "plt.legend(loc=\"lower right\")\n",
    "plt.grid(True)\n",
    "plt.show()"
   ]
  },
  {
   "cell_type": "code",
   "execution_count": null,
   "metadata": {
    "trusted": true
   },
   "outputs": [],
   "source": []
  }
 ],
 "metadata": {
  "kaggle": {
   "accelerator": "gpu",
   "dataSources": [
    {
     "datasetId": 6898490,
     "sourceId": 11070195,
     "sourceType": "datasetVersion"
    },
    {
     "datasetId": 6932928,
     "sourceId": 11255107,
     "sourceType": "datasetVersion"
    }
   ],
   "dockerImageVersionId": 30918,
   "isGpuEnabled": true,
   "isInternetEnabled": true,
   "language": "python",
   "sourceType": "notebook"
  },
  "kernelspec": {
   "display_name": "Python 3",
   "language": "python",
   "name": "python3"
  },
  "language_info": {
   "codemirror_mode": {
    "name": "ipython",
    "version": 3
   },
   "file_extension": ".py",
   "mimetype": "text/x-python",
   "name": "python",
   "nbconvert_exporter": "python",
   "pygments_lexer": "ipython3",
   "version": "3.10.12"
  }
 },
 "nbformat": 4,
 "nbformat_minor": 4
}
