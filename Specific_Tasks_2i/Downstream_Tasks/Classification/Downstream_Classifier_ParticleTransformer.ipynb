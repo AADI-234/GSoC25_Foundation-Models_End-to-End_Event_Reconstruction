{
 "cells": [
  {
   "cell_type": "code",
   "execution_count": 1,
   "metadata": {
    "_cell_guid": "b1076dfc-b9ad-4769-8c92-a6c4dae69d19",
    "_uuid": "8f2839f25d086af736a60e9eeb907d3b93b6e0e5",
    "execution": {
     "iopub.execute_input": "2025-04-03T16:48:09.889368Z",
     "iopub.status.busy": "2025-04-03T16:48:09.889064Z",
     "iopub.status.idle": "2025-04-03T16:48:16.277372Z",
     "shell.execute_reply": "2025-04-03T16:48:16.276454Z",
     "shell.execute_reply.started": "2025-04-03T16:48:09.889336Z"
    },
    "trusted": true
   },
   "outputs": [],
   "source": [
    "import os\n",
    "import warnings\n",
    "import h5py\n",
    "import numpy as np\n",
    "import torch\n",
    "import torch.nn as nn\n",
    "import torch.nn.functional as F\n",
    "from torch.utils.data import Dataset, DataLoader, TensorDataset\n",
    "from torchvision import transforms\n",
    "import torch.optim as optim\n",
    "from einops import rearrange\n",
    "from tqdm import tqdm\n",
    "from torchvision.transforms import GaussianBlur\n",
    "import matplotlib.pyplot as plt\n",
    "from sklearn.metrics import roc_curve, auc, mean_squared_error, f1_score, confusion_matrix,r2_score\n",
    "from sklearn.model_selection import train_test_split\n",
    "from sklearn.preprocessing import StandardScaler\n",
    "from torch.optim.lr_scheduler import CosineAnnealingLR\n",
    "\n",
    "from torch.optim.lr_scheduler import CosineAnnealingLR\n",
    "import matplotlib.pyplot as plt\n",
    "from sklearn.metrics import roc_curve, auc\n",
    "\n",
    "from einops import rearrange\n",
    "from tqdm import tqdm\n",
    "from torchvision.transforms import GaussianBlur\n",
    "import matplotlib.pyplot as plt\n",
    "from sklearn.metrics import roc_curve, auc, mean_squared_error, f1_score, confusion_matrix, r2_score\n",
    "from sklearn.model_selection import train_test_split\n",
    "from sklearn.preprocessing import StandardScaler, KBinsDiscretizer\n",
    "from scipy.stats import gaussian_kde\n",
    "import torchvision.models as models\n",
    "\n",
    "\n",
    "# Device configuration and seeding\n",
    "device = torch.device(\"cuda\" if torch.cuda.is_available() else \"cpu\")\n",
    "torch.manual_seed(42)\n",
    "np.random.seed(42)\n",
    "if torch.cuda.is_available():\n",
    "    torch.cuda.manual_seed_all(42)\n"
   ]
  },
  {
   "cell_type": "code",
   "execution_count": 2,
   "metadata": {
    "execution": {
     "iopub.execute_input": "2025-04-03T16:48:16.278932Z",
     "iopub.status.busy": "2025-04-03T16:48:16.278285Z",
     "iopub.status.idle": "2025-04-03T16:48:16.285442Z",
     "shell.execute_reply": "2025-04-03T16:48:16.284753Z",
     "shell.execute_reply.started": "2025-04-03T16:48:16.278895Z"
    },
    "trusted": true
   },
   "outputs": [],
   "source": [
    "\n",
    "# New class for labeled dataset\n",
    "class JetDatasetLabeled(Dataset):\n",
    "    def __init__(self, file_path, jet_key=\"jet\", y_key=\"Y\", pt_key=\"pT\", m_key=\"m\"):\n",
    "        self.file_path = file_path\n",
    "        self.jet_key = jet_key\n",
    "        self.y_key = y_key\n",
    "        self.pt_key = pt_key\n",
    "        self.m_key = m_key\n",
    "        \n",
    "        with h5py.File(file_path, 'r') as f:\n",
    "            self.length = f[jet_key].shape[0]\n",
    "            \n",
    "    def __len__(self):\n",
    "        return self.length\n",
    "\n",
    "    def __getitem__(self, idx):\n",
    "        with h5py.File(self.file_path, 'r') as f:\n",
    "            jet = f[self.jet_key][idx]\n",
    "            y = f[self.y_key][idx]\n",
    "            pt = f[self.pt_key][idx]\n",
    "            m = f[self.m_key][idx]\n",
    "            \n",
    "        # Convert shape to [channels, eta, phi]\n",
    "        jet = torch.tensor(jet, dtype=torch.float32).permute(2, 0, 1)\n",
    "        y = torch.tensor(y, dtype=torch.float32)\n",
    "        pt = torch.tensor(pt, dtype=torch.float32)\n",
    "        m = torch.tensor(m, dtype=torch.float32)\n",
    "        \n",
    "        return jet, y, pt, m"
   ]
  },
  {
   "cell_type": "code",
   "execution_count": 18,
   "metadata": {
    "execution": {
     "iopub.execute_input": "2025-04-03T16:53:46.217094Z",
     "iopub.status.busy": "2025-04-03T16:53:46.216732Z",
     "iopub.status.idle": "2025-04-03T16:53:46.224567Z",
     "shell.execute_reply": "2025-04-03T16:53:46.223728Z",
     "shell.execute_reply.started": "2025-04-03T16:53:46.217067Z"
    },
    "trusted": true
   },
   "outputs": [],
   "source": [
    "class ParticleTransformer(nn.Module):\n",
    "    \"\"\"Hybrid CNN-Transformer for calorimeter images\"\"\"\n",
    "    def __init__(self, in_channels=8, latent_dim=256):\n",
    "        super().__init__()\n",
    "        \n",
    "        # CNN backbone with residual connections for better gradient flow\n",
    "        self.cnn = nn.Sequential(\n",
    "            nn.Conv2d(8, 64, kernel_size=3, padding=1),\n",
    "            nn.GELU(),\n",
    "            nn.BatchNorm2d(64),\n",
    "            nn.MaxPool2d(2),  # Output: [64, ~62, ~62]\n",
    "\n",
    "            nn.Conv2d(64, 128, kernel_size=3, padding=1),\n",
    "            nn.GELU(),\n",
    "            nn.BatchNorm2d(128),\n",
    "            nn.MaxPool2d(2),  # Output: [128, ~31, ~31]\n",
    "\n",
    "            nn.Conv2d(128, 256, kernel_size=3, padding=1),\n",
    "            nn.GELU(),\n",
    "            nn.BatchNorm2d(256),\n",
    "            nn.AdaptiveAvgPool2d((4, 4))   # Output: [256, 4, 4]\n",
    "        )\n",
    "        \n",
    "        # Position encoding for transformer\n",
    "        \n",
    "        self.pos_embedding = nn.Parameter(torch.randn(1, 16, 256) * 0.02)\n",
    "        \n",
    "        # Transformer with improved parameters\n",
    "        self.transformer = nn.TransformerEncoder(\n",
    "            nn.TransformerEncoderLayer(\n",
    "                d_model=256,\n",
    "                nhead=8,\n",
    "                dim_feedforward=1024,\n",
    "                dropout=0.1,\n",
    "                activation='gelu',\n",
    "                batch_first=True,\n",
    "                norm_first=True  # Pre-norm architecture for stability\n",
    "            ),\n",
    "            num_layers=2\n",
    "        )\n",
    "        \n",
    "        # Projection head\n",
    "        self.head = nn.Sequential(\n",
    "            nn.Linear(256, 512),\n",
    "            nn.GELU(),\n",
    "            nn.LayerNorm(512),\n",
    "            nn.Dropout(0.1),\n",
    "            nn.Linear(512, latent_dim)\n",
    "        )\n",
    "    \n",
    "    def forward(self, x):\n",
    "        # CNN processing\n",
    "        x = self.cnn(x)  # [bs, 256, 4, 4]\n",
    "        \n",
    "        # Prepare for transformer\n",
    "        x = rearrange(x, 'b c h w -> b (h w) c')  # [bs, 16, 256]\n",
    "        \n",
    "        # Add position embeddings\n",
    "        x = x + self.pos_embedding\n",
    "        \n",
    "        # Transformer processing\n",
    "        x = self.transformer(x)  # [bs, 16, 256]\n",
    "        \n",
    "        # Aggregation with attention pooling\n",
    "        x = x.mean(dim=1)  # [bs, 256]\n",
    "        \n",
    "        # Projection\n",
    "        return self.head(x)"
   ]
  },
  {
   "cell_type": "code",
   "execution_count": 19,
   "metadata": {
    "execution": {
     "iopub.execute_input": "2025-04-03T16:53:47.354979Z",
     "iopub.status.busy": "2025-04-03T16:53:47.354683Z",
     "iopub.status.idle": "2025-04-03T16:53:47.360311Z",
     "shell.execute_reply": "2025-04-03T16:53:47.359158Z",
     "shell.execute_reply.started": "2025-04-03T16:53:47.354956Z"
    },
    "trusted": true
   },
   "outputs": [],
   "source": [
    "class SimCLRModel(nn.Module):\n",
    "    def __init__(self, latent_dim=256, projection_dim=128):\n",
    "        super().__init__()\n",
    "        self.encoder = ParticleTransformer(latent_dim=latent_dim)\n",
    "        self.projector = nn.Sequential(\n",
    "            nn.Linear(latent_dim, latent_dim),\n",
    "            nn.GELU(),\n",
    "            nn.LayerNorm(latent_dim),\n",
    "            nn.Linear(latent_dim, projection_dim)\n",
    "        )\n",
    "\n",
    "    def forward(self, x):\n",
    "        features = self.encoder(x)\n",
    "        projections = self.projector(features)\n",
    "        return features, projections       "
   ]
  },
  {
   "cell_type": "code",
   "execution_count": 20,
   "metadata": {
    "execution": {
     "iopub.execute_input": "2025-04-03T16:53:51.061711Z",
     "iopub.status.busy": "2025-04-03T16:53:51.061378Z",
     "iopub.status.idle": "2025-04-03T16:53:51.067497Z",
     "shell.execute_reply": "2025-04-03T16:53:51.066555Z",
     "shell.execute_reply.started": "2025-04-03T16:53:51.061675Z"
    },
    "trusted": true
   },
   "outputs": [],
   "source": [
    "\n",
    "def extract_features(model, dataloader):\n",
    "    model.eval()\n",
    "    features_list = []\n",
    "    y_list = []\n",
    "    pt_list = []\n",
    "    m_list = []\n",
    "    \n",
    "    with torch.no_grad():\n",
    "        for jets, y, pt, m in tqdm(dataloader, desc=\"Extracting features\"):\n",
    "            jets = jets.to(device)\n",
    "            features, _ = model(jets)\n",
    "            features_list.append(features.cpu())\n",
    "            y_list.append(y)\n",
    "            pt_list.append(pt)\n",
    "            m_list.append(m)\n",
    "    \n",
    "    # Concatenate all batches\n",
    "    features = torch.cat(features_list, dim=0)\n",
    "    y = torch.cat(y_list, dim=0)\n",
    "    pt = torch.cat(pt_list, dim=0)\n",
    "    m = torch.cat(m_list, dim=0)\n",
    "    \n",
    "    return features, y, pt, m\n",
    "\n"
   ]
  },
  {
   "cell_type": "code",
   "execution_count": 21,
   "metadata": {
    "execution": {
     "iopub.execute_input": "2025-04-03T16:53:51.359227Z",
     "iopub.status.busy": "2025-04-03T16:53:51.358972Z",
     "iopub.status.idle": "2025-04-03T16:53:51.363661Z",
     "shell.execute_reply": "2025-04-03T16:53:51.362782Z",
     "shell.execute_reply.started": "2025-04-03T16:53:51.359205Z"
    },
    "trusted": true
   },
   "outputs": [],
   "source": [
    "\n",
    "class ClassificationModel(nn.Module):\n",
    "    def __init__(self, input_dim, num_classes=1):\n",
    "        super(ClassificationModel, self).__init__()\n",
    "        self.fc = nn.Sequential(\n",
    "            nn.Linear(input_dim, 64),\n",
    "            nn.ReLU(),\n",
    "            nn.Linear(64, num_classes),\n",
    "            nn.Sigmoid()  # Ensure the output is in the range [0, 1] for binary classification\n",
    "        )\n",
    "\n",
    "    def forward(self, x):\n",
    "        return self.fc(x)"
   ]
  },
  {
   "cell_type": "code",
   "execution_count": null,
   "metadata": {
    "execution": {
     "iopub.execute_input": "2025-04-03T16:54:10.400623Z",
     "iopub.status.busy": "2025-04-03T16:54:10.400249Z",
     "iopub.status.idle": "2025-04-03T16:54:46.844994Z",
     "shell.execute_reply": "2025-04-03T16:54:46.844046Z",
     "shell.execute_reply.started": "2025-04-03T16:54:10.400590Z"
    },
    "trusted": true
   },
   "outputs": [
    {
     "name": "stderr",
     "output_type": "stream",
     "text": [
      "/usr/local/lib/python3.10/dist-packages/torch/nn/modules/transformer.py:379: UserWarning: enable_nested_tensor is True, but self.use_nested_tensor is False because encoder_layer.norm_first was True\n",
      "  warnings.warn(\n",
      "<ipython-input-23-ea2f7e39b0d9>:3: FutureWarning: You are using `torch.load` with `weights_only=False` (the current default value), which uses the default pickle module implicitly. It is possible to construct malicious pickle data which will execute arbitrary code during unpickling (See https://github.com/pytorch/pytorch/blob/main/SECURITY.md#untrusted-models for more details). In a future release, the default value for `weights_only` will be flipped to `True`. This limits the functions that could be executed during unpickling. Arbitrary objects will no longer be allowed to be loaded via this mode unless they are explicitly allowlisted by the user via `torch.serialization.add_safe_globals`. We recommend you start setting `weights_only=True` for any use case where you don't have full control of the loaded file. Please open an issue on GitHub for any issues related to this experimental feature.\n",
      "  checkpoint = torch.load(checkpoint_path, map_location=device)\n"
     ]
    },
    {
     "name": "stdout",
     "output_type": "stream",
     "text": [
      "Loaded model from best_model (4).pt (Epoch 29 with Loss 0.0254)\n",
      "Loading labeled dataset...\n"
     ]
    },
    {
     "name": "stderr",
     "output_type": "stream",
     "text": [
      "Extracting features: 100%|██████████| 157/157 [00:36<00:00,  4.32it/s]\n"
     ]
    }
   ],
   "source": [
    "def load_model(checkpoint_name, model, device):\n",
    "    checkpoint_path = os.path.join(\"/kaggle/input/greattt\", checkpoint_name)\n",
    "    checkpoint = torch.load(checkpoint_path, map_location=device)\n",
    "    model.load_state_dict(checkpoint['model_state_dict'])\n",
    "    print(f\"Loaded model from {checkpoint_name} (Epoch {checkpoint['epoch']} with Loss {checkpoint['loss']:.4f})\")\n",
    "    return model\n",
    "\n",
    "\n",
    "labeled_file_path = \"/kaggle/input/dataset-specific-labelled-full-only-for-2i/Dataset_Specific_labelled_full_only_for_2i.h5\"\n",
    "latent_dim = 256\n",
    "\n",
    "# Initialize model\n",
    "ssl_model = SimCLRModel(latent_dim=latent_dim).to(device)# Load the best model\n",
    "ssl_model = load_model(\"best_model (4).pt\", ssl_model, device)\n",
    "ssl_model.eval()\n",
    "\n",
    "\n",
    "print(\"Loading labeled dataset...\")\n",
    "batch_size = 64\n",
    "\n",
    "labeled_dataset = JetDatasetLabeled(labeled_file_path)\n",
    "labeled_loader = DataLoader(\n",
    "        labeled_dataset,\n",
    "        batch_size=batch_size,\n",
    "        shuffle=False,\n",
    "        num_workers=4,\n",
    "        pin_memory=True\n",
    ")\n",
    "\n",
    "# Extract features\n",
    "features, y_labels, _, _ = extract_features(ssl_model, labeled_loader)"
   ]
  },
  {
   "cell_type": "code",
   "execution_count": 24,
   "metadata": {
    "execution": {
     "iopub.execute_input": "2025-04-03T16:54:46.846803Z",
     "iopub.status.busy": "2025-04-03T16:54:46.846442Z",
     "iopub.status.idle": "2025-04-03T16:54:46.862252Z",
     "shell.execute_reply": "2025-04-03T16:54:46.861619Z",
     "shell.execute_reply.started": "2025-04-03T16:54:46.846773Z"
    },
    "trusted": true
   },
   "outputs": [],
   "source": [
    "X_train, X_val, y_train, y_val= train_test_split(\n",
    "    features, y_labels, test_size=0.2, random_state=42\n",
    ")"
   ]
  },
  {
   "cell_type": "code",
   "execution_count": 33,
   "metadata": {
    "execution": {
     "iopub.execute_input": "2025-04-03T16:57:43.163686Z",
     "iopub.status.busy": "2025-04-03T16:57:43.163318Z",
     "iopub.status.idle": "2025-04-03T16:57:43.169816Z",
     "shell.execute_reply": "2025-04-03T16:57:43.169048Z",
     "shell.execute_reply.started": "2025-04-03T16:57:43.163657Z"
    },
    "trusted": true
   },
   "outputs": [],
   "source": [
    "model = ClassificationModel(features.shape[1], 1).to(device)\n",
    "criterion = nn.BCELoss()\n",
    "optimizer = optim.Adam(model.parameters(), lr=0.0005)\n",
    "scheduler = torch.optim.lr_scheduler.CosineAnnealingLR(optimizer, T_max=50, eta_min=1e-8, last_epoch=-1)"
   ]
  },
  {
   "cell_type": "code",
   "execution_count": 26,
   "metadata": {
    "execution": {
     "iopub.execute_input": "2025-04-03T16:54:46.871912Z",
     "iopub.status.busy": "2025-04-03T16:54:46.871650Z",
     "iopub.status.idle": "2025-04-03T16:54:46.885810Z",
     "shell.execute_reply": "2025-04-03T16:54:46.885134Z",
     "shell.execute_reply.started": "2025-04-03T16:54:46.871885Z"
    },
    "trusted": true
   },
   "outputs": [],
   "source": [
    "class DatasetLoader:\n",
    "    def __init__(self, X_train, y_train, X_val, y_val, batch_size):\n",
    "        self.batch_size = batch_size\n",
    "        self.train_loader = self.create_dataloader(X_train, y_train, shuffle=True)\n",
    "        self.val_loader = self.create_dataloader(X_val, y_val, shuffle=False)\n",
    "\n",
    "    def create_dataloader(self, X, y, shuffle):\n",
    "        dataset = TensorDataset(X, y)\n",
    "        return DataLoader(dataset, batch_size=batch_size, shuffle=shuffle, drop_last=True)\n",
    "batch_size = 256\n",
    "dataset_loader = DatasetLoader(X_train, y_train, X_val, y_val, 256)"
   ]
  },
  {
   "cell_type": "code",
   "execution_count": null,
   "metadata": {
    "execution": {
     "iopub.execute_input": "2025-04-03T16:57:45.368698Z",
     "iopub.status.busy": "2025-04-03T16:57:45.368378Z",
     "iopub.status.idle": "2025-04-03T16:57:50.086426Z",
     "shell.execute_reply": "2025-04-03T16:57:50.085696Z",
     "shell.execute_reply.started": "2025-04-03T16:57:45.368674Z"
    },
    "trusted": true
   },
   "outputs": [
    {
     "name": "stdout",
     "output_type": "stream",
     "text": [
      "\n",
      "--- Starting Training for 50 epochs ---\n",
      "Early stopping patience: 15 epochs\n"
     ]
    },
    {
     "name": "stderr",
     "output_type": "stream",
     "text": [
      "                                                       \r"
     ]
    },
    {
     "name": "stdout",
     "output_type": "stream",
     "text": [
      "Epoch 1/50 - Train Loss: 0.4363, Val Loss: 0.3671 | Train Acc: 0.8242, Val Acc: 0.8465 | Train ROC-AUC: 0.9033, Val ROC-AUC: 0.9166 | LR: 0.000500\n",
      "Validation loss improved (inf --> 0.3671). Saving model...\n"
     ]
    },
    {
     "name": "stderr",
     "output_type": "stream",
     "text": [
      "                                                       \r"
     ]
    },
    {
     "name": "stdout",
     "output_type": "stream",
     "text": [
      "Epoch 2/50 - Train Loss: 0.3585, Val Loss: 0.3520 | Train Acc: 0.8750, Val Acc: 0.8499 | Train ROC-AUC: 0.9524, Val ROC-AUC: 0.9215 | LR: 0.000500\n",
      "Validation loss improved (0.3671 --> 0.3520). Saving model...\n"
     ]
    },
    {
     "name": "stderr",
     "output_type": "stream",
     "text": [
      "                                                       \r"
     ]
    },
    {
     "name": "stdout",
     "output_type": "stream",
     "text": [
      "Epoch 3/50 - Train Loss: 0.3490, Val Loss: 0.3508 | Train Acc: 0.8438, Val Acc: 0.8438 | Train ROC-AUC: 0.9249, Val ROC-AUC: 0.9228 | LR: 0.000498\n",
      "Validation loss improved (0.3520 --> 0.3508). Saving model...\n"
     ]
    },
    {
     "name": "stderr",
     "output_type": "stream",
     "text": [
      "                                                       \r"
     ]
    },
    {
     "name": "stdout",
     "output_type": "stream",
     "text": [
      "Epoch 4/50 - Train Loss: 0.3459, Val Loss: 0.3499 | Train Acc: 0.8672, Val Acc: 0.8477 | Train ROC-AUC: 0.9290, Val ROC-AUC: 0.9234 | LR: 0.000496\n",
      "Validation loss improved (0.3508 --> 0.3499). Saving model...\n"
     ]
    },
    {
     "name": "stderr",
     "output_type": "stream",
     "text": [
      "                                                       \r"
     ]
    },
    {
     "name": "stdout",
     "output_type": "stream",
     "text": [
      "Epoch 5/50 - Train Loss: 0.3450, Val Loss: 0.3494 | Train Acc: 0.8516, Val Acc: 0.8410 | Train ROC-AUC: 0.9271, Val ROC-AUC: 0.9233 | LR: 0.000492\n",
      "Validation loss improved (0.3499 --> 0.3494). Saving model...\n"
     ]
    },
    {
     "name": "stderr",
     "output_type": "stream",
     "text": [
      "                                                       \r"
     ]
    },
    {
     "name": "stdout",
     "output_type": "stream",
     "text": [
      "Epoch 6/50 - Train Loss: 0.3432, Val Loss: 0.3461 | Train Acc: 0.8398, Val Acc: 0.8415 | Train ROC-AUC: 0.9103, Val ROC-AUC: 0.9247 | LR: 0.000488\n",
      "Validation loss improved (0.3494 --> 0.3461). Saving model...\n"
     ]
    },
    {
     "name": "stderr",
     "output_type": "stream",
     "text": [
      "                                                       \r"
     ]
    },
    {
     "name": "stdout",
     "output_type": "stream",
     "text": [
      "Epoch 7/50 - Train Loss: 0.3409, Val Loss: 0.3469 | Train Acc: 0.8867, Val Acc: 0.8438 | Train ROC-AUC: 0.9399, Val ROC-AUC: 0.9241 | LR: 0.000482\n",
      "No improvement in validation loss for 1 epoch(s).\n"
     ]
    },
    {
     "name": "stderr",
     "output_type": "stream",
     "text": [
      "                                                       \r"
     ]
    },
    {
     "name": "stdout",
     "output_type": "stream",
     "text": [
      "Epoch 8/50 - Train Loss: 0.3403, Val Loss: 0.3499 | Train Acc: 0.8828, Val Acc: 0.8488 | Train ROC-AUC: 0.9371, Val ROC-AUC: 0.9227 | LR: 0.000476\n",
      "No improvement in validation loss for 2 epoch(s).\n"
     ]
    },
    {
     "name": "stderr",
     "output_type": "stream",
     "text": [
      "                                                       \r"
     ]
    },
    {
     "name": "stdout",
     "output_type": "stream",
     "text": [
      "Epoch 9/50 - Train Loss: 0.3387, Val Loss: 0.3509 | Train Acc: 0.8477, Val Acc: 0.8421 | Train ROC-AUC: 0.9159, Val ROC-AUC: 0.9234 | LR: 0.000469\n",
      "No improvement in validation loss for 3 epoch(s).\n"
     ]
    },
    {
     "name": "stderr",
     "output_type": "stream",
     "text": [
      "                                                        \r"
     ]
    },
    {
     "name": "stdout",
     "output_type": "stream",
     "text": [
      "Epoch 10/50 - Train Loss: 0.3388, Val Loss: 0.3520 | Train Acc: 0.9062, Val Acc: 0.8432 | Train ROC-AUC: 0.9494, Val ROC-AUC: 0.9234 | LR: 0.000461\n",
      "No improvement in validation loss for 4 epoch(s).\n"
     ]
    },
    {
     "name": "stderr",
     "output_type": "stream",
     "text": [
      "                                                        \r"
     ]
    },
    {
     "name": "stdout",
     "output_type": "stream",
     "text": [
      "Epoch 11/50 - Train Loss: 0.3381, Val Loss: 0.3452 | Train Acc: 0.8594, Val Acc: 0.8382 | Train ROC-AUC: 0.9227, Val ROC-AUC: 0.9246 | LR: 0.000452\n",
      "Validation loss improved (0.3461 --> 0.3452). Saving model...\n"
     ]
    },
    {
     "name": "stderr",
     "output_type": "stream",
     "text": [
      "                                                        \r"
     ]
    },
    {
     "name": "stdout",
     "output_type": "stream",
     "text": [
      "Epoch 12/50 - Train Loss: 0.3370, Val Loss: 0.3481 | Train Acc: 0.8594, Val Acc: 0.8449 | Train ROC-AUC: 0.9243, Val ROC-AUC: 0.9245 | LR: 0.000443\n",
      "No improvement in validation loss for 1 epoch(s).\n"
     ]
    },
    {
     "name": "stderr",
     "output_type": "stream",
     "text": [
      "                                                        \r"
     ]
    },
    {
     "name": "stdout",
     "output_type": "stream",
     "text": [
      "Epoch 13/50 - Train Loss: 0.3355, Val Loss: 0.3547 | Train Acc: 0.8203, Val Acc: 0.8426 | Train ROC-AUC: 0.9131, Val ROC-AUC: 0.9243 | LR: 0.000432\n",
      "No improvement in validation loss for 2 epoch(s).\n"
     ]
    },
    {
     "name": "stderr",
     "output_type": "stream",
     "text": [
      "                                                        \r"
     ]
    },
    {
     "name": "stdout",
     "output_type": "stream",
     "text": [
      "Epoch 14/50 - Train Loss: 0.3357, Val Loss: 0.3489 | Train Acc: 0.8242, Val Acc: 0.8410 | Train ROC-AUC: 0.9167, Val ROC-AUC: 0.9241 | LR: 0.000421\n",
      "No improvement in validation loss for 3 epoch(s).\n"
     ]
    },
    {
     "name": "stderr",
     "output_type": "stream",
     "text": [
      "                                                        \r"
     ]
    },
    {
     "name": "stdout",
     "output_type": "stream",
     "text": [
      "Epoch 15/50 - Train Loss: 0.3349, Val Loss: 0.3511 | Train Acc: 0.8477, Val Acc: 0.8410 | Train ROC-AUC: 0.9306, Val ROC-AUC: 0.9237 | LR: 0.000409\n",
      "No improvement in validation loss for 4 epoch(s).\n"
     ]
    },
    {
     "name": "stderr",
     "output_type": "stream",
     "text": [
      "                                                        \r"
     ]
    },
    {
     "name": "stdout",
     "output_type": "stream",
     "text": [
      "Epoch 16/50 - Train Loss: 0.3367, Val Loss: 0.3483 | Train Acc: 0.8398, Val Acc: 0.8426 | Train ROC-AUC: 0.9064, Val ROC-AUC: 0.9246 | LR: 0.000397\n",
      "No improvement in validation loss for 5 epoch(s).\n"
     ]
    },
    {
     "name": "stderr",
     "output_type": "stream",
     "text": [
      "                                                        \r"
     ]
    },
    {
     "name": "stdout",
     "output_type": "stream",
     "text": [
      "Epoch 17/50 - Train Loss: 0.3344, Val Loss: 0.3471 | Train Acc: 0.8672, Val Acc: 0.8432 | Train ROC-AUC: 0.9430, Val ROC-AUC: 0.9249 | LR: 0.000384\n",
      "No improvement in validation loss for 6 epoch(s).\n"
     ]
    },
    {
     "name": "stderr",
     "output_type": "stream",
     "text": [
      "                                                        \r"
     ]
    },
    {
     "name": "stdout",
     "output_type": "stream",
     "text": [
      "Epoch 18/50 - Train Loss: 0.3362, Val Loss: 0.3495 | Train Acc: 0.8359, Val Acc: 0.8438 | Train ROC-AUC: 0.9351, Val ROC-AUC: 0.9242 | LR: 0.000370\n",
      "No improvement in validation loss for 7 epoch(s).\n"
     ]
    },
    {
     "name": "stderr",
     "output_type": "stream",
     "text": [
      "                                                        \r"
     ]
    },
    {
     "name": "stdout",
     "output_type": "stream",
     "text": [
      "Epoch 19/50 - Train Loss: 0.3342, Val Loss: 0.3531 | Train Acc: 0.8438, Val Acc: 0.8404 | Train ROC-AUC: 0.9364, Val ROC-AUC: 0.9230 | LR: 0.000356\n",
      "No improvement in validation loss for 8 epoch(s).\n"
     ]
    },
    {
     "name": "stderr",
     "output_type": "stream",
     "text": [
      "                                                        \r"
     ]
    },
    {
     "name": "stdout",
     "output_type": "stream",
     "text": [
      "Epoch 20/50 - Train Loss: 0.3331, Val Loss: 0.3453 | Train Acc: 0.8711, Val Acc: 0.8443 | Train ROC-AUC: 0.9373, Val ROC-AUC: 0.9250 | LR: 0.000342\n",
      "No improvement in validation loss for 9 epoch(s).\n"
     ]
    },
    {
     "name": "stderr",
     "output_type": "stream",
     "text": [
      "                                                        \r"
     ]
    },
    {
     "name": "stdout",
     "output_type": "stream",
     "text": [
      "Epoch 21/50 - Train Loss: 0.3319, Val Loss: 0.3470 | Train Acc: 0.8711, Val Acc: 0.8421 | Train ROC-AUC: 0.9367, Val ROC-AUC: 0.9240 | LR: 0.000327\n",
      "No improvement in validation loss for 10 epoch(s).\n"
     ]
    },
    {
     "name": "stderr",
     "output_type": "stream",
     "text": [
      "                                                        \r"
     ]
    },
    {
     "name": "stdout",
     "output_type": "stream",
     "text": [
      "Epoch 22/50 - Train Loss: 0.3327, Val Loss: 0.3487 | Train Acc: 0.8398, Val Acc: 0.8432 | Train ROC-AUC: 0.9286, Val ROC-AUC: 0.9240 | LR: 0.000312\n",
      "No improvement in validation loss for 11 epoch(s).\n"
     ]
    },
    {
     "name": "stderr",
     "output_type": "stream",
     "text": [
      "                                                        \r"
     ]
    },
    {
     "name": "stdout",
     "output_type": "stream",
     "text": [
      "Epoch 23/50 - Train Loss: 0.3311, Val Loss: 0.3499 | Train Acc: 0.8242, Val Acc: 0.8426 | Train ROC-AUC: 0.8948, Val ROC-AUC: 0.9235 | LR: 0.000297\n",
      "No improvement in validation loss for 12 epoch(s).\n"
     ]
    },
    {
     "name": "stderr",
     "output_type": "stream",
     "text": [
      "                                                        \r"
     ]
    },
    {
     "name": "stdout",
     "output_type": "stream",
     "text": [
      "Epoch 24/50 - Train Loss: 0.3323, Val Loss: 0.3501 | Train Acc: 0.8711, Val Acc: 0.8415 | Train ROC-AUC: 0.9260, Val ROC-AUC: 0.9226 | LR: 0.000281\n",
      "No improvement in validation loss for 13 epoch(s).\n"
     ]
    },
    {
     "name": "stderr",
     "output_type": "stream",
     "text": [
      "                                                        \r"
     ]
    },
    {
     "name": "stdout",
     "output_type": "stream",
     "text": [
      "Epoch 25/50 - Train Loss: 0.3316, Val Loss: 0.3451 | Train Acc: 0.8945, Val Acc: 0.8460 | Train ROC-AUC: 0.9362, Val ROC-AUC: 0.9248 | LR: 0.000266\n",
      "Validation loss improved (0.3452 --> 0.3451). Saving model...\n"
     ]
    },
    {
     "name": "stderr",
     "output_type": "stream",
     "text": [
      "                                                        \r"
     ]
    },
    {
     "name": "stdout",
     "output_type": "stream",
     "text": [
      "Epoch 26/50 - Train Loss: 0.3286, Val Loss: 0.3484 | Train Acc: 0.8320, Val Acc: 0.8432 | Train ROC-AUC: 0.9152, Val ROC-AUC: 0.9240 | LR: 0.000250\n",
      "No improvement in validation loss for 1 epoch(s).\n"
     ]
    },
    {
     "name": "stderr",
     "output_type": "stream",
     "text": [
      "                                                        \r"
     ]
    },
    {
     "name": "stdout",
     "output_type": "stream",
     "text": [
      "Epoch 27/50 - Train Loss: 0.3285, Val Loss: 0.3472 | Train Acc: 0.8516, Val Acc: 0.8426 | Train ROC-AUC: 0.9379, Val ROC-AUC: 0.9241 | LR: 0.000234\n",
      "No improvement in validation loss for 2 epoch(s).\n"
     ]
    },
    {
     "name": "stderr",
     "output_type": "stream",
     "text": [
      "                                                        \r"
     ]
    },
    {
     "name": "stdout",
     "output_type": "stream",
     "text": [
      "Epoch 28/50 - Train Loss: 0.3293, Val Loss: 0.3487 | Train Acc: 0.8672, Val Acc: 0.8449 | Train ROC-AUC: 0.9460, Val ROC-AUC: 0.9240 | LR: 0.000219\n",
      "No improvement in validation loss for 3 epoch(s).\n"
     ]
    },
    {
     "name": "stderr",
     "output_type": "stream",
     "text": [
      "                                                        \r"
     ]
    },
    {
     "name": "stdout",
     "output_type": "stream",
     "text": [
      "Epoch 29/50 - Train Loss: 0.3291, Val Loss: 0.3470 | Train Acc: 0.8906, Val Acc: 0.8438 | Train ROC-AUC: 0.9503, Val ROC-AUC: 0.9243 | LR: 0.000203\n",
      "No improvement in validation loss for 4 epoch(s).\n"
     ]
    },
    {
     "name": "stderr",
     "output_type": "stream",
     "text": [
      "                                                        \r"
     ]
    },
    {
     "name": "stdout",
     "output_type": "stream",
     "text": [
      "Epoch 30/50 - Train Loss: 0.3281, Val Loss: 0.3458 | Train Acc: 0.8633, Val Acc: 0.8449 | Train ROC-AUC: 0.9414, Val ROC-AUC: 0.9244 | LR: 0.000188\n",
      "No improvement in validation loss for 5 epoch(s).\n"
     ]
    },
    {
     "name": "stderr",
     "output_type": "stream",
     "text": [
      "                                                        \r"
     ]
    },
    {
     "name": "stdout",
     "output_type": "stream",
     "text": [
      "Epoch 31/50 - Train Loss: 0.3296, Val Loss: 0.3473 | Train Acc: 0.8789, Val Acc: 0.8432 | Train ROC-AUC: 0.9424, Val ROC-AUC: 0.9241 | LR: 0.000173\n",
      "No improvement in validation loss for 6 epoch(s).\n"
     ]
    },
    {
     "name": "stderr",
     "output_type": "stream",
     "text": [
      "                                                            \r"
     ]
    },
    {
     "name": "stdout",
     "output_type": "stream",
     "text": [
      "Epoch 32/50 - Train Loss: 0.3281, Val Loss: 0.3471 | Train Acc: 0.8867, Val Acc: 0.8438 | Train ROC-AUC: 0.9498, Val ROC-AUC: 0.9243 | LR: 0.000158\n",
      "No improvement in validation loss for 7 epoch(s).\n"
     ]
    },
    {
     "name": "stderr",
     "output_type": "stream",
     "text": [
      "                                                        \r"
     ]
    },
    {
     "name": "stdout",
     "output_type": "stream",
     "text": [
      "Epoch 33/50 - Train Loss: 0.3282, Val Loss: 0.3479 | Train Acc: 0.8281, Val Acc: 0.8449 | Train ROC-AUC: 0.9235, Val ROC-AUC: 0.9243 | LR: 0.000144\n",
      "No improvement in validation loss for 8 epoch(s).\n"
     ]
    },
    {
     "name": "stderr",
     "output_type": "stream",
     "text": [
      "                                                        \r"
     ]
    },
    {
     "name": "stdout",
     "output_type": "stream",
     "text": [
      "Epoch 34/50 - Train Loss: 0.3263, Val Loss: 0.3480 | Train Acc: 0.8711, Val Acc: 0.8443 | Train ROC-AUC: 0.9418, Val ROC-AUC: 0.9243 | LR: 0.000130\n",
      "No improvement in validation loss for 9 epoch(s).\n"
     ]
    },
    {
     "name": "stderr",
     "output_type": "stream",
     "text": [
      "                                                        \r"
     ]
    },
    {
     "name": "stdout",
     "output_type": "stream",
     "text": [
      "Epoch 35/50 - Train Loss: 0.3273, Val Loss: 0.3473 | Train Acc: 0.8438, Val Acc: 0.8438 | Train ROC-AUC: 0.9184, Val ROC-AUC: 0.9242 | LR: 0.000116\n",
      "No improvement in validation loss for 10 epoch(s).\n"
     ]
    },
    {
     "name": "stderr",
     "output_type": "stream",
     "text": [
      "                                                        \r"
     ]
    },
    {
     "name": "stdout",
     "output_type": "stream",
     "text": [
      "Epoch 36/50 - Train Loss: 0.3267, Val Loss: 0.3467 | Train Acc: 0.8945, Val Acc: 0.8443 | Train ROC-AUC: 0.9545, Val ROC-AUC: 0.9243 | LR: 0.000103\n",
      "No improvement in validation loss for 11 epoch(s).\n"
     ]
    },
    {
     "name": "stderr",
     "output_type": "stream",
     "text": [
      "                                                        \r"
     ]
    },
    {
     "name": "stdout",
     "output_type": "stream",
     "text": [
      "Epoch 37/50 - Train Loss: 0.3264, Val Loss: 0.3476 | Train Acc: 0.8828, Val Acc: 0.8438 | Train ROC-AUC: 0.9395, Val ROC-AUC: 0.9243 | LR: 0.000091\n",
      "No improvement in validation loss for 12 epoch(s).\n"
     ]
    },
    {
     "name": "stderr",
     "output_type": "stream",
     "text": [
      "                                                        \r"
     ]
    },
    {
     "name": "stdout",
     "output_type": "stream",
     "text": [
      "Epoch 38/50 - Train Loss: 0.3267, Val Loss: 0.3469 | Train Acc: 0.8633, Val Acc: 0.8443 | Train ROC-AUC: 0.9350, Val ROC-AUC: 0.9243 | LR: 0.000079\n",
      "No improvement in validation loss for 13 epoch(s).\n"
     ]
    },
    {
     "name": "stderr",
     "output_type": "stream",
     "text": [
      "                                                        \r"
     ]
    },
    {
     "name": "stdout",
     "output_type": "stream",
     "text": [
      "Epoch 39/50 - Train Loss: 0.3264, Val Loss: 0.3476 | Train Acc: 0.8984, Val Acc: 0.8443 | Train ROC-AUC: 0.9676, Val ROC-AUC: 0.9242 | LR: 0.000068\n",
      "No improvement in validation loss for 14 epoch(s).\n"
     ]
    },
    {
     "name": "stderr",
     "output_type": "stream",
     "text": [
      "                                                        "
     ]
    },
    {
     "name": "stdout",
     "output_type": "stream",
     "text": [
      "Epoch 40/50 - Train Loss: 0.3262, Val Loss: 0.3470 | Train Acc: 0.8711, Val Acc: 0.8449 | Train ROC-AUC: 0.9282, Val ROC-AUC: 0.9244 | LR: 0.000057\n",
      "No improvement in validation loss for 15 epoch(s).\n",
      "\n",
      "Early stopping triggered after 40 epochs due to no improvement in validation loss for 15 consecutive epochs.\n",
      "\n",
      "--- Finished Training ---\n"
     ]
    },
    {
     "name": "stderr",
     "output_type": "stream",
     "text": [
      "\r"
     ]
    }
   ],
   "source": [
    "import copy\n",
    "train_loss= []\n",
    "val_loss = []\n",
    "train_acc= []\n",
    "val_acc = []\n",
    "roc_auc_scores_train = []\n",
    "roc_auc_scores_val = []\n",
    "best_val_loss = float('inf')\n",
    "best_model_state_dict = None\n",
    "epochs_no_improve = 0\n",
    "early_stopping_patience = 15 # Stop if no improvement for this many epochs\n",
    "num_epochs = 50 # Increased from 20 for potentially better convergence\n",
    "from sklearn.metrics import accuracy_score, roc_auc_score, f1_score\n",
    "\n",
    "print(f\"\\n--- Starting Training for {num_epochs} epochs ---\")\n",
    "print(f\"Early stopping patience: {early_stopping_patience} epochs\")\n",
    "\n",
    "# 5. Training Loop\n",
    "for epoch in range(num_epochs):\n",
    "    # --- Training Phase ---\n",
    "    model.train()\n",
    "    running_loss_train = 0.0\n",
    "    correct_predictions_train = 0\n",
    "    total_predictions_train = 0\n",
    "    y_true_train = []\n",
    "    y_scores_train = []\n",
    "\n",
    "    with tqdm(dataset_loader.train_loader, desc=f\"Epoch {epoch+1}/{num_epochs}\", leave=False) as train_loader_with_progress:\n",
    "        for i, data in enumerate(train_loader_with_progress, 0):\n",
    "            inputs, labels = data\n",
    "            inputs, labels = inputs.to(device), labels.to(device)\n",
    "            optimizer.zero_grad()\n",
    "\n",
    "        \n",
    "\n",
    "            # Permute inputs from NHWC to NCHW for Conv layers\n",
    "            outputs = model(inputs) # Output: logits [N, 1\n",
    "            # Calculate loss using logits\n",
    "            loss = criterion(outputs, labels)\n",
    "            \n",
    "            loss.backward()\n",
    "            optimizer.step()\n",
    "    \n",
    "            running_loss_train += loss.item()\n",
    "\n",
    "        # Calculate accuracy: apply sigmoid, threshold, compare\n",
    "        with torch.no_grad():\n",
    "            probs = outputs\n",
    "            predicted = (probs > 0.5).float()\n",
    "            correct_predictions_train += (predicted == labels).sum().item()\n",
    "            total_predictions_train += labels.size(0)\n",
    "\n",
    "            # Store labels and probabilities (scores) for ROC AUC\n",
    "            y_true_train.extend(labels.cpu().numpy().flatten()) # Flatten to 1D\n",
    "            y_scores_train.extend(probs.cpu().numpy().flatten()) # Flatten to 1D\n",
    "\n",
    "        # Update progress bar description (optional)\n",
    "        # train_pbar.set_postfix({'loss': loss.item()})\n",
    "\n",
    "    # Calculate epoch metrics for training\n",
    "    avg_train_loss = running_loss_train / len(dataset_loader.train_loader)\n",
    "    train_accuracy = correct_predictions_train / total_predictions_train\n",
    "    try:\n",
    "        roc_auc_train = roc_auc_score(y_true_train, y_scores_train)\n",
    "    except ValueError:\n",
    "        print(\"Warning: Could not compute ROC AUC for training (likely only one class present in batch/epoch). Setting to 0.5.\")\n",
    "        roc_auc_train = 0.5 # Assign neutral value\n",
    "\n",
    "    train_loss.append(avg_train_loss)\n",
    "    train_acc.append(train_accuracy)\n",
    "    roc_auc_scores_train.append(roc_auc_train)\n",
    "\n",
    "    # --- Validation Phase ---\n",
    "    model.eval()\n",
    "    running_loss_val = 0.0\n",
    "    correct_predictions_val = 0\n",
    "    total_predictions_val = 0\n",
    "    y_true_val = []\n",
    "    y_scores_val = []\n",
    "\n",
    "    val_pbar = tqdm(dataset_loader.val_loader, desc=f\"Epoch {epoch+1}/{num_epochs} [Val]\", leave=False)\n",
    "    with torch.no_grad():\n",
    "        for inputs_val, labels_val in val_pbar:\n",
    "            inputs_val, labels_val = inputs_val.to(device), labels_val.to(device)\n",
    "\n",
    "            # Permute inputs\n",
    "            outputs_val = model(inputs_val) # Output: logits [N, 1]\n",
    "\n",
    "            # Calculate loss\n",
    "            val_loss_batch = criterion(outputs_val, labels_val)\n",
    "            running_loss_val += val_loss_batch.item()\n",
    "\n",
    "            # Calculate accuracy\n",
    "            probs_val = outputs_val\n",
    "            predicted_val = (probs_val > 0.5).float()\n",
    "            correct_predictions_val += (predicted_val == labels_val).sum().item()\n",
    "            total_predictions_val += labels_val.size(0)\n",
    "\n",
    "            # Store labels and probabilities for ROC AUC\n",
    "            y_true_val.extend(labels_val.cpu().numpy().flatten()) # Flatten to 1D\n",
    "            y_scores_val.extend(probs_val.cpu().numpy().flatten()) # Flatten to 1D\n",
    "\n",
    "    # Calculate epoch metrics for validation\n",
    "    avg_val_loss = running_loss_val / len(dataset_loader.val_loader)\n",
    "    val_accuracy = correct_predictions_val / total_predictions_val\n",
    "    try:\n",
    "        # Check if both classes are present in validation ground truth\n",
    "        if len(np.unique(y_true_val)) < 2:\n",
    "             print(f\"Warning: Epoch {epoch+1} - Only one class present in validation labels. ROC AUC is not defined. Setting to 0.5.\")\n",
    "             roc_auc_val = 0.5\n",
    "        else:\n",
    "             roc_auc_val = roc_auc_score(y_true_val, y_scores_val)\n",
    "    except ValueError:\n",
    "         # Fallback just in case of other sklearn issues\n",
    "         print(f\"Warning: Epoch {epoch+1} - Could not compute ROC AUC for validation. Setting to 0.5.\")\n",
    "         roc_auc_val = 0.5\n",
    "\n",
    "\n",
    "    val_loss.append(avg_val_loss)\n",
    "    val_acc.append(val_accuracy)\n",
    "    roc_auc_scores_val.append(roc_auc_val)\n",
    "\n",
    "    # Print epoch summary\n",
    "    print(f\"Epoch {epoch+1}/{num_epochs} - \"\n",
    "          f\"Train Loss: {avg_train_loss:.4f}, Val Loss: {avg_val_loss:.4f} | \"\n",
    "          f\"Train Acc: {train_accuracy:.4f}, Val Acc: {val_accuracy:.4f} | \"\n",
    "          f\"Train ROC-AUC: {roc_auc_train:.4f}, Val ROC-AUC: {roc_auc_val:.4f} | \"\n",
    "          f\"LR: {scheduler.get_last_lr()[0]:.6f}\")\n",
    "\n",
    "    # Step the scheduler\n",
    "    scheduler.step()\n",
    "\n",
    "    # --- Early Stopping and Best Model Saving ---\n",
    "    if avg_val_loss < best_val_loss:\n",
    "        print(f\"Validation loss improved ({best_val_loss:.4f} --> {avg_val_loss:.4f}). Saving model...\")\n",
    "        best_val_loss = avg_val_loss\n",
    "        # Use deepcopy to ensure the state dict is fully independent\n",
    "        best_model_state_dict = copy.deepcopy(model.state_dict())\n",
    "        torch.save(best_model_state_dict,\"ParticleTransformer_latent_vectors_classification.pth\")\n",
    "        epochs_no_improve = 0 # Reset counter\n",
    "    else:\n",
    "        epochs_no_improve += 1\n",
    "        print(f\"No improvement in validation loss for {epochs_no_improve} epoch(s).\")\n",
    "\n",
    "    if epochs_no_improve >= early_stopping_patience:\n",
    "        print(f\"\\nEarly stopping triggered after {epoch+1} epochs due to no improvement in validation loss for {early_stopping_patience} consecutive epochs.\")\n",
    "        break # Stop training\n",
    "\n",
    "print(\"\\n--- Finished Training ---\")"
   ]
  },
  {
   "cell_type": "code",
   "execution_count": 35,
   "metadata": {
    "execution": {
     "iopub.execute_input": "2025-04-03T16:58:00.110552Z",
     "iopub.status.busy": "2025-04-03T16:58:00.110185Z",
     "iopub.status.idle": "2025-04-03T16:58:00.325791Z",
     "shell.execute_reply": "2025-04-03T16:58:00.324804Z",
     "shell.execute_reply.started": "2025-04-03T16:58:00.110519Z"
    },
    "trusted": true
   },
   "outputs": [
    {
     "data": {
      "image/png": "[encoded data removed]",
      "text/plain": [
       "<Figure size 600x400 with 1 Axes>"
      ]
     },
     "metadata": {},
     "output_type": "display_data"
    }
   ],
   "source": [
    "epochs = range(1, len(train_loss) + 1)\n",
    "plt.figure(figsize=(6, 4)) \n",
    "plt.plot(epochs, train_loss, 'bo-', label='Train', markersize=5, linewidth=1.5)  # Blue with circles\n",
    "plt.plot(epochs, val_loss, 'rs-', label='Validation', markersize=5, linewidth=1.5)  # Red with squares\n",
    "plt.xlabel('Epochs')\n",
    "plt.ylabel('Loss')\n",
    "plt.title('Loss Curve')\n",
    "plt.legend()\n",
    "plt.grid(True)\n",
    "plt.show()"
   ]
  },
  {
   "cell_type": "code",
   "execution_count": 36,
   "metadata": {
    "execution": {
     "iopub.execute_input": "2025-04-03T16:58:00.565994Z",
     "iopub.status.busy": "2025-04-03T16:58:00.565584Z",
     "iopub.status.idle": "2025-04-03T16:58:00.760900Z",
     "shell.execute_reply": "2025-04-03T16:58:00.759963Z",
     "shell.execute_reply.started": "2025-04-03T16:58:00.565959Z"
    },
    "trusted": true
   },
   "outputs": [
    {
     "data": {
      "image/png": "[encoded data removed]",
      "text/plain": [
       "<Figure size 600x400 with 1 Axes>"
      ]
     },
     "metadata": {},
     "output_type": "display_data"
    }
   ],
   "source": [
    "plt.figure(figsize=(6, 4))\n",
    "plt.plot(epochs, train_acc, 'bo-', label='Train', markersize=5, linewidth=1.5)\n",
    "plt.plot(epochs, val_acc, 'rs-', label='Validation', markersize=5, linewidth=1.5)\n",
    "plt.xlabel('Epochs')\n",
    "plt.ylabel('Accuracy')\n",
    "plt.title('Accuracy Curve')\n",
    "plt.legend()\n",
    "plt.grid(True)\n",
    "plt.show()\n"
   ]
  },
  {
   "cell_type": "code",
   "execution_count": 37,
   "metadata": {
    "execution": {
     "iopub.execute_input": "2025-04-03T16:58:00.896743Z",
     "iopub.status.busy": "2025-04-03T16:58:00.896389Z",
     "iopub.status.idle": "2025-04-03T16:58:01.100444Z",
     "shell.execute_reply": "2025-04-03T16:58:01.099568Z",
     "shell.execute_reply.started": "2025-04-03T16:58:00.896710Z"
    },
    "trusted": true
   },
   "outputs": [
    {
     "data": {
      "image/png": "[encoded data removed]",
      "text/plain": [
       "<Figure size 640x480 with 1 Axes>"
      ]
     },
     "metadata": {},
     "output_type": "display_data"
    }
   ],
   "source": [
    "plt.plot(epochs, roc_auc_scores_train, 'bo-', label='Train', markersize=5, linewidth=1.5)\n",
    "plt.plot(epochs, roc_auc_scores_val, 'rs-', label='Validation', markersize=5, linewidth=1.5)\n",
    "plt.xlabel('Epoch')\n",
    "plt.ylabel('ROC-AUC')\n",
    "plt.title('ROC-AUC Curve')\n",
    "plt.legend()\n",
    "plt.show()\n"
   ]
  },
  {
   "cell_type": "code",
   "execution_count": null,
   "metadata": {
    "execution": {
     "iopub.execute_input": "2025-04-03T16:58:01.226367Z",
     "iopub.status.busy": "2025-04-03T16:58:01.226157Z",
     "iopub.status.idle": "2025-04-03T16:58:01.273930Z",
     "shell.execute_reply": "2025-04-03T16:58:01.272956Z",
     "shell.execute_reply.started": "2025-04-03T16:58:01.226348Z"
    },
    "trusted": true
   },
   "outputs": [
    {
     "name": "stdout",
     "output_type": "stream",
     "text": [
      "Test Loss: 0.3451, Test Accuracy: 0.8460, Test ROC-AUC: 0.9248\n"
     ]
    },
    {
     "name": "stderr",
     "output_type": "stream",
     "text": [
      "<ipython-input-38-638707735bee>:1: FutureWarning: You are using `torch.load` with `weights_only=False` (the current default value), which uses the default pickle module implicitly. It is possible to construct malicious pickle data which will execute arbitrary code during unpickling (See https://github.com/pytorch/pytorch/blob/main/SECURITY.md#untrusted-models for more details). In a future release, the default value for `weights_only` will be flipped to `True`. This limits the functions that could be executed during unpickling. Arbitrary objects will no longer be allowed to be loaded via this mode unless they are explicitly allowlisted by the user via `torch.serialization.add_safe_globals`. We recommend you start setting `weights_only=True` for any use case where you don't have full control of the loaded file. Please open an issue on GitHub for any issues related to this experimental feature.\n",
      "  checkpoint = torch.load(\"/kaggle/working/Resnet18_latent_vectors_classification.pth\")\n"
     ]
    }
   ],
   "source": [
    "checkpoint = torch.load(\"/kaggle/working/ParticleTransformer_latent_vectors_classification.pth\")\n",
    "model = ClassificationModel(features.shape[1], 1).to(device)\n",
    "model.load_state_dict(checkpoint)\n",
    "model.eval()\n",
    "\n",
    "test_running_loss = 0.0\n",
    "correct_predictions_test = 0\n",
    "total_predictions_test = 0\n",
    "y_true_test = []\n",
    "y_scores_test = []\n",
    "\n",
    "with torch.no_grad():\n",
    "    for inputs_test, labels_test in dataset_loader.val_loader:\n",
    "        inputs_test = inputs_test.to(device)\n",
    "        # Convert labels to float, matching training if necessary\n",
    "        labels_test = labels_test.to(device).float()\n",
    "        \n",
    "        # Permute input dimensions from (B, 32, 32, 2) to (B, 2, 32, 32)\n",
    "        outputs_test = model(inputs_test)\n",
    "\n",
    "        \n",
    "        test_loss_batch = criterion(outputs_test, labels_test)\n",
    "        test_running_loss += test_loss_batch.item()\n",
    "        \n",
    "        predicted_test = (outputs_test > 0.5).float()\n",
    "        correct_predictions_test += (predicted_test == labels_test).sum().item()\n",
    "        total_predictions_test += labels_test.size(0)\n",
    "        \n",
    "        y_true_test.extend(labels_test.cpu().numpy())\n",
    "        y_scores_test.extend(outputs_test.cpu().detach().numpy())\n",
    "\n",
    "# Use the val_loader length for computing average loss\n",
    "test_loss = test_running_loss / len(dataset_loader.val_loader)\n",
    "test_accuracy = correct_predictions_test / total_predictions_test\n",
    "roc_auc_test = roc_auc_score(y_true_test, y_scores_test)\n",
    "accuracy_test = accuracy_score(y_true_test, (np.array(y_scores_test) > 0.5))\n",
    "\n",
    "print(f\"Test Loss: {test_loss:.4f}, Test Accuracy: {test_accuracy:.4f}, Test ROC-AUC: {roc_auc_test:.4f}\")"
   ]
  },
  {
   "cell_type": "code",
   "execution_count": 32,
   "metadata": {
    "execution": {
     "iopub.execute_input": "2025-04-03T16:55:14.527993Z",
     "iopub.status.busy": "2025-04-03T16:55:14.527710Z",
     "iopub.status.idle": "2025-04-03T16:55:14.746196Z",
     "shell.execute_reply": "2025-04-03T16:55:14.745345Z",
     "shell.execute_reply.started": "2025-04-03T16:55:14.527972Z"
    },
    "trusted": true
   },
   "outputs": [
    {
     "data": {
      "image/png": "[encoded data removed]",
      "text/plain": [
       "<Figure size 800x600 with 1 Axes>"
      ]
     },
     "metadata": {},
     "output_type": "display_data"
    }
   ],
   "source": [
    "\n",
    "fpr, tpr, _ = roc_curve(y_true_test, y_scores_test)\n",
    "roc_auc = auc(fpr, tpr)\n",
    "\n",
    "plt.figure(figsize=(8, 6))\n",
    "plt.plot(fpr, tpr, color='darkorange', lw=2, label=f'ROC Curve (AUC = {roc_auc:.4f})')\n",
    "plt.plot([0, 1], [0, 1], color='navy', lw=2, linestyle='--', label='Chance Level (AUC = 0.5)')\n",
    "\n",
    "plt.xlim([0.0, 1.0])\n",
    "plt.ylim([0.0, 1.05])\n",
    "plt.xlabel('False Positive Rate')\n",
    "plt.ylabel('True Positive Rate')\n",
    "plt.title('Receiver Operating Characteristic (ROC) Curve')\n",
    "plt.legend(loc=\"lower right\")\n",
    "plt.grid(True)\n",
    "plt.show()"
   ]
  },
  {
   "cell_type": "code",
   "execution_count": null,
   "metadata": {
    "trusted": true
   },
   "outputs": [],
   "source": []
  }
 ],
 "metadata": {
  "kaggle": {
   "accelerator": "gpu",
   "dataSources": [
    {
     "datasetId": 6898490,
     "sourceId": 11070195,
     "sourceType": "datasetVersion"
    },
    {
     "datasetId": 6932928,
     "sourceId": 11255107,
     "sourceType": "datasetVersion"
    }
   ],
   "dockerImageVersionId": 30918,
   "isGpuEnabled": true,
   "isInternetEnabled": true,
   "language": "python",
   "sourceType": "notebook"
  },
  "kernelspec": {
   "display_name": "Python 3",
   "language": "python",
   "name": "python3"
  },
  "language_info": {
   "codemirror_mode": {
    "name": "ipython",
    "version": 3
   },
   "file_extension": ".py",
   "mimetype": "text/x-python",
   "name": "python",
   "nbconvert_exporter": "python",
   "pygments_lexer": "ipython3",
   "version": "3.10.12"
  }
 },
 "nbformat": 4,
 "nbformat_minor": 4
}
