{
 "cells": [
  {
   "cell_type": "code",
   "execution_count": null,
   "id": "5a5ff0a6",
   "metadata": {
    "execution": {
     "iopub.execute_input": "2025-04-03T08:34:31.853999Z",
     "iopub.status.busy": "2025-04-03T08:34:31.853668Z",
     "iopub.status.idle": "2025-04-03T08:34:41.718249Z",
     "shell.execute_reply": "2025-04-03T08:34:41.717502Z"
    },
    "papermill": {
     "duration": 9.871195,
     "end_time": "2025-04-03T08:34:41.719733",
     "exception": false,
     "start_time": "2025-04-03T08:34:31.848538",
     "status": "completed"
    },
    "tags": []
   },
   "outputs": [],
   "source": [
    "import os\n",
    "import cv2\n",
    "import h5py\n",
    "import pyarrow.parquet as pq\n",
    "import pandas as pd\n",
    "import numpy as np\n",
    "import matplotlib.pyplot as plt\n",
    "import seaborn as sns\n",
    "from tqdm import tqdm\n",
    "from statistics import mean\n",
    "from sklearn.metrics import accuracy_score, roc_auc_score, f1_score, roc_curve, auc\n",
    "\n",
    "from sklearn.model_selection import StratifiedKFold, train_test_split\n",
    "from sklearn.preprocessing import StandardScaler\n",
    "\n",
    "import torch\n",
    "import torch.nn as nn\n",
    "import torch.optim as optim\n",
    "from torch.optim import lr_scheduler\n",
    "from torch.utils.data import DataLoader, TensorDataset\n",
    "from torch.optim.lr_scheduler import CosineAnnealingLR, StepLR\n",
    "from torch.utils.data.sampler import SubsetRandomSampler, BatchSampler, Sampler\n",
    "from torch.optim import Adam, SGD\n",
    "from torchvision import transforms, models\n",
    "from torchvision.models import resnet18  \n",
    "from torchvision.transforms import Resize, ToTensor\n",
    "from torch.cuda.amp import autocast, GradScaler\n",
    "import torch.nn.functional as F\n",
    "from PIL import Image\n",
    "\n",
    "torch.manual_seed(42)\n",
    "np.random.seed(42)\n",
    "torch.cuda.manual_seed(42)\n",
    "device = torch.device(\"cuda\" if torch.cuda.is_available() else \"cpu\")\n",
    "\n",
    "import warnings\n",
    "warnings.filterwarnings('ignore')"
   ]
  },
  {
   "cell_type": "code",
   "execution_count": 2,
   "id": "9b3b21f7",
   "metadata": {
    "execution": {
     "iopub.execute_input": "2025-04-03T08:34:41.728162Z",
     "iopub.status.busy": "2025-04-03T08:34:41.727735Z",
     "iopub.status.idle": "2025-04-03T08:34:41.746089Z",
     "shell.execute_reply": "2025-04-03T08:34:41.745191Z"
    },
    "papermill": {
     "duration": 0.023832,
     "end_time": "2025-04-03T08:34:41.747449",
     "exception": false,
     "start_time": "2025-04-03T08:34:41.723617",
     "status": "completed"
    },
    "tags": []
   },
   "outputs": [
    {
     "name": "stdout",
     "output_type": "stream",
     "text": [
      "['X', 'y']\n",
      "['X', 'y']\n"
     ]
    }
   ],
   "source": [
    "\n",
    "file_path_1 = '/kaggle/input/common-task1/SingleElectronPt50_IMGCROPS_n249k_RHv1.hdf5'\n",
    "file_path_2 = '/kaggle/input/common-task1/SinglePhotonPt50_IMGCROPS_n249k_RHv1.hdf5'\n",
    "with h5py.File(file_path_1, 'r') as file:\n",
    "    print(list(file.keys()))\n",
    "    \n",
    "with h5py.File(file_path_2, 'r') as file:\n",
    "    print(list(file.keys()))"
   ]
  },
  {
   "cell_type": "code",
   "execution_count": 3,
   "id": "9baba29b",
   "metadata": {
    "execution": {
     "iopub.execute_input": "2025-04-03T08:34:41.755225Z",
     "iopub.status.busy": "2025-04-03T08:34:41.754939Z",
     "iopub.status.idle": "2025-04-03T08:34:55.598413Z",
     "shell.execute_reply": "2025-04-03T08:34:55.597691Z"
    },
    "papermill": {
     "duration": 13.848919,
     "end_time": "2025-04-03T08:34:55.599952",
     "exception": false,
     "start_time": "2025-04-03T08:34:41.751033",
     "status": "completed"
    },
    "tags": []
   },
   "outputs": [],
   "source": [
    "\n",
    "with h5py.File(file_path_1, 'r') as file:\n",
    "    X1 = file['X'][:]\n",
    "    y1 = file['y'][:]\n",
    "    \n",
    "with h5py.File(file_path_2, 'r') as file:\n",
    "    X2 = file['X'][:]\n",
    "    y2 = file['y'][:]"
   ]
  },
  {
   "cell_type": "code",
   "execution_count": 4,
   "id": "bd62bc9a",
   "metadata": {
    "execution": {
     "iopub.execute_input": "2025-04-03T08:34:55.608028Z",
     "iopub.status.busy": "2025-04-03T08:34:55.607773Z",
     "iopub.status.idle": "2025-04-03T08:34:59.411709Z",
     "shell.execute_reply": "2025-04-03T08:34:59.411008Z"
    },
    "papermill": {
     "duration": 3.809556,
     "end_time": "2025-04-03T08:34:59.413303",
     "exception": false,
     "start_time": "2025-04-03T08:34:55.603747",
     "status": "completed"
    },
    "tags": []
   },
   "outputs": [
    {
     "name": "stdout",
     "output_type": "stream",
     "text": [
      "Shape of X: (498000, 32, 32, 2)\n",
      "Shape of y: (498000,)\n"
     ]
    }
   ],
   "source": [
    "\n",
    "X = np.concatenate([X1, X2])\n",
    "y = np.concatenate([y1, y2])\n",
    "print(\"Shape of X:\", X.shape)\n",
    "print(\"Shape of y:\", y.shape)\n",
    "X = X.astype('float32') / 255.0"
   ]
  },
  {
   "cell_type": "code",
   "execution_count": 5,
   "id": "56b304a7",
   "metadata": {
    "execution": {
     "iopub.execute_input": "2025-04-03T08:34:59.421323Z",
     "iopub.status.busy": "2025-04-03T08:34:59.421088Z",
     "iopub.status.idle": "2025-04-03T08:35:00.772167Z",
     "shell.execute_reply": "2025-04-03T08:35:00.771353Z"
    },
    "papermill": {
     "duration": 1.35664,
     "end_time": "2025-04-03T08:35:00.773742",
     "exception": false,
     "start_time": "2025-04-03T08:34:59.417102",
     "status": "completed"
    },
    "tags": []
   },
   "outputs": [],
   "source": [
    "\n",
    "X_train, X_val, y_train, y_val = train_test_split(X, y, test_size=0.2, random_state=42, stratify = y)"
   ]
  },
  {
   "cell_type": "code",
   "execution_count": 6,
   "id": "834fb983",
   "metadata": {
    "execution": {
     "iopub.execute_input": "2025-04-03T08:35:00.782707Z",
     "iopub.status.busy": "2025-04-03T08:35:00.782450Z",
     "iopub.status.idle": "2025-04-03T08:35:00.788645Z",
     "shell.execute_reply": "2025-04-03T08:35:00.787905Z"
    },
    "papermill": {
     "duration": 0.012022,
     "end_time": "2025-04-03T08:35:00.789756",
     "exception": false,
     "start_time": "2025-04-03T08:35:00.777734",
     "status": "completed"
    },
    "tags": []
   },
   "outputs": [],
   "source": [
    "class BasicBlock(nn.Module):\n",
    "    expansion = 1\n",
    "\n",
    "    def __init__(self, in_planes, planes, stride=1):\n",
    "        super(BasicBlock, self).__init__()\n",
    "        self.conv1 = nn.Conv2d(in_planes, planes, kernel_size=3, stride=stride, padding=1, bias=False)\n",
    "        self.bn1 = nn.BatchNorm2d(planes)\n",
    "        self.conv2 = nn.Conv2d(planes, planes, kernel_size=3, stride=1, padding=1, bias=False)\n",
    "        self.bn2 = nn.BatchNorm2d(planes)\n",
    "\n",
    "        self.shortcut = nn.Sequential()\n",
    "        if stride != 1 or in_planes != self.expansion*planes:\n",
    "            self.shortcut = nn.Sequential(\n",
    "                nn.Conv2d(in_planes, self.expansion*planes, kernel_size=1, stride=stride, bias=False),\n",
    "                nn.BatchNorm2d(self.expansion*planes)\n",
    "            )\n",
    "\n",
    "    def forward(self, x):\n",
    "        out = F.relu(self.bn1(self.conv1(x)))\n",
    "        out = self.bn2(self.conv2(out))\n",
    "        out += self.shortcut(x)\n",
    "        out = F.relu(out)\n",
    "        return out\n"
   ]
  },
  {
   "cell_type": "code",
   "execution_count": 7,
   "id": "a6ee9216",
   "metadata": {
    "execution": {
     "iopub.execute_input": "2025-04-03T08:35:00.797501Z",
     "iopub.status.busy": "2025-04-03T08:35:00.797291Z",
     "iopub.status.idle": "2025-04-03T08:35:00.806545Z",
     "shell.execute_reply": "2025-04-03T08:35:00.805929Z"
    },
    "papermill": {
     "duration": 0.014449,
     "end_time": "2025-04-03T08:35:00.807706",
     "exception": false,
     "start_time": "2025-04-03T08:35:00.793257",
     "status": "completed"
    },
    "tags": []
   },
   "outputs": [],
   "source": [
    "\n",
    "class ResNet15(nn.Module):\n",
    "    def __init__(self, block, num_blocks, num_classes=1):\n",
    "        super(ResNet15, self).__init__()\n",
    "        self.in_planes_ch1 = 16 # Track in_planes separately if needed\n",
    "        self.conv1_ch1 = nn.Conv2d(1, 16, kernel_size=3, stride=1, padding=1, bias=False)\n",
    "        self.bn1_ch1 = nn.BatchNorm2d(16)\n",
    "        self.layer1_ch1 = self._make_layer(block, 16, num_blocks[0], stride=1, current_in_planes=self.in_planes_ch1)\n",
    "        # Update in_planes after making the layer\n",
    "        self.in_planes_ch1 = 16 * block.expansion\n",
    "        self.layer2_ch1 = self._make_layer(block, 32, num_blocks[1], stride=2, current_in_planes=self.in_planes_ch1)\n",
    "        self.in_planes_ch1 = 32 * block.expansion\n",
    "        self.layer3_ch1 = self._make_layer(block, 64, num_blocks[2], stride=2, current_in_planes=self.in_planes_ch1)\n",
    "        # Final feature count per channel path will be 64 * block.expansion (which is 64 here)\n",
    "\n",
    "        # --- Pathway for Channel 2 ---\n",
    "        self.in_planes_ch2 = 16 # Reset for the second path\n",
    "        self.conv1_ch2 = nn.Conv2d(1, 16, kernel_size=3, stride=1, padding=1, bias=False)\n",
    "        self.bn1_ch2 = nn.BatchNorm2d(16)\n",
    "        self.layer1_ch2 = self._make_layer(block, 16, num_blocks[0], stride=1, current_in_planes=self.in_planes_ch2)\n",
    "        self.in_planes_ch2 = 16 * block.expansion\n",
    "        self.layer2_ch2 = self._make_layer(block, 32, num_blocks[1], stride=2, current_in_planes=self.in_planes_ch2)\n",
    "        self.in_planes_ch2 = 32 * block.expansion\n",
    "        self.layer3_ch2 = self._make_layer(block, 64, num_blocks[2], stride=2, current_in_planes=self.in_planes_ch2)\n",
    "        # Final feature count per channel path will be 64 * block.expansion (which is 64 here)\n",
    "        # --- Combine Features ---\n",
    "        # Each path outputs 64 features after pooling. Concatenated size = 64 + 64 = 128\n",
    "        self.linear = nn.Linear(64 * block.expansion * 2, num_classes) # Input features are doubled\n",
    "\n",
    "    # Modify _make_layer to accept current_in_planes\n",
    "    def _make_layer(self, block, planes, num_blocks, stride, current_in_planes):\n",
    "        strides = [stride] + [1]*(num_blocks-1)\n",
    "        layers = []\n",
    "        # Need local in_planes for this specific layer creation\n",
    "        local_in_planes = current_in_planes\n",
    "        for stride_val in strides:\n",
    "            layers.append(block(local_in_planes, planes, stride_val))\n",
    "            local_in_planes = planes * block.expansion # Update in_planes for the next block *within this layer*\n",
    "        return nn.Sequential(*layers)\n",
    "\n",
    "    def forward(self, x):\n",
    "        # Input x has shape (Batch, 2, 32, 32) after permutation in the training loop\n",
    "\n",
    "        # Split the input along the channel dimension\n",
    "        x_ch1 = x[:, 0:1, :, :] # Shape: (Batch, 1, 32, 32)\n",
    "        x_ch2 = x[:, 1:2, :, :] # Shape: (Batch, 1, 32, 32)\n",
    "\n",
    "        # Process Channel 1\n",
    "        out_ch1 = F.relu(self.bn1_ch1(self.conv1_ch1(x_ch1)))\n",
    "        out_ch1 = self.layer1_ch1(out_ch1)\n",
    "        out_ch1 = self.layer2_ch1(out_ch1)\n",
    "        out_ch1 = self.layer3_ch1(out_ch1)\n",
    "        out_ch1 = F.avg_pool2d(out_ch1, 8) # Shape: (Batch, 64, 1, 1)\n",
    "        out_ch1 = out_ch1.view(out_ch1.size(0), -1) # Shape: (Batch, 64)\n",
    "\n",
    "        # Process Channel 2\n",
    "        out_ch2 = F.relu(self.bn1_ch2(self.conv1_ch2(x_ch2)))\n",
    "        out_ch2 = self.layer1_ch2(out_ch2)\n",
    "        out_ch2 = self.layer2_ch2(out_ch2)\n",
    "        out_ch2 = self.layer3_ch2(out_ch2)\n",
    "        out_ch2 = F.avg_pool2d(out_ch2, 8) # Shape: (Batch, 64, 1, 1)\n",
    "        out_ch2 = out_ch2.view(out_ch2.size(0), -1) # Shape: (Batch, 64)\n",
    "\n",
    "        # Concatenate the features from both pathways\n",
    "        out = torch.cat((out_ch1, out_ch2), dim=1) # Shape: (Batch, 128)\n",
    "\n",
    "        # Final linear layer\n",
    "        out = self.linear(out)\n",
    "        return torch.sigmoid(out).squeeze(dim=1)"
   ]
  },
  {
   "cell_type": "code",
   "execution_count": 8,
   "id": "c7583ace",
   "metadata": {
    "execution": {
     "iopub.execute_input": "2025-04-03T08:35:00.815426Z",
     "iopub.status.busy": "2025-04-03T08:35:00.815189Z",
     "iopub.status.idle": "2025-04-03T08:35:02.414658Z",
     "shell.execute_reply": "2025-04-03T08:35:02.413706Z"
    },
    "papermill": {
     "duration": 1.605335,
     "end_time": "2025-04-03T08:35:02.416532",
     "exception": false,
     "start_time": "2025-04-03T08:35:00.811197",
     "status": "completed"
    },
    "tags": []
   },
   "outputs": [],
   "source": [
    "\n",
    "class DatasetLoader:\n",
    "    def __init__(self, X_train, y_train, X_val, y_val, batch_size):\n",
    "        self.batch_size = batch_size\n",
    "        self.train_loader = self.create_dataloader(X_train, y_train, shuffle=True)\n",
    "        self.val_loader = self.create_dataloader(X_val, y_val, shuffle=False)\n",
    "\n",
    "    def create_dataloader(self, X, y, shuffle):\n",
    "        X_tensor = torch.tensor(X, dtype=torch.float32)\n",
    "        y_tensor = torch.tensor(y, dtype=torch.float32)# Change to long() if classification\n",
    "        dataset = TensorDataset(X_tensor, y_tensor)\n",
    "        return DataLoader(dataset, batch_size=batch_size, shuffle=shuffle, drop_last=True)\n",
    "batch_size = 256\n",
    "dataset_loader = DatasetLoader(X_train, y_train, X_val, y_val, 256)"
   ]
  },
  {
   "cell_type": "code",
   "execution_count": 9,
   "id": "6d642668",
   "metadata": {
    "execution": {
     "iopub.execute_input": "2025-04-03T08:35:02.426448Z",
     "iopub.status.busy": "2025-04-03T08:35:02.426178Z",
     "iopub.status.idle": "2025-04-03T08:35:02.653196Z",
     "shell.execute_reply": "2025-04-03T08:35:02.652238Z"
    },
    "papermill": {
     "duration": 0.233649,
     "end_time": "2025-04-03T08:35:02.654894",
     "exception": false,
     "start_time": "2025-04-03T08:35:02.421245",
     "status": "completed"
    },
    "tags": []
   },
   "outputs": [],
   "source": [
    "\n",
    "model = ResNet15(BasicBlock, [2, 2, 2]).to(device)\n",
    "criterion = nn.BCELoss()\n",
    "optimizer = optim.AdamW(model.parameters(), lr=0.001, weight_decay=1e-4) # Example value\n",
    "scheduler = torch.optim.lr_scheduler.CosineAnnealingLR(optimizer, T_max=20, eta_min=5e-8, last_epoch=-1, verbose=True)"
   ]
  },
  {
   "cell_type": "code",
   "execution_count": 10,
   "id": "a4a89bce",
   "metadata": {
    "execution": {
     "iopub.execute_input": "2025-04-03T08:35:02.663223Z",
     "iopub.status.busy": "2025-04-03T08:35:02.662947Z",
     "iopub.status.idle": "2025-04-03T10:25:47.347682Z",
     "shell.execute_reply": "2025-04-03T10:25:47.346542Z"
    },
    "papermill": {
     "duration": 6644.690625,
     "end_time": "2025-04-03T10:25:47.349296",
     "exception": false,
     "start_time": "2025-04-03T08:35:02.658671",
     "status": "completed"
    },
    "tags": []
   },
   "outputs": [
    {
     "name": "stderr",
     "output_type": "stream",
     "text": [
      "                                                               \r"
     ]
    },
    {
     "name": "stdout",
     "output_type": "stream",
     "text": [
      "Epoch 1, Train Loss: 0.5771, Val Loss: 0.9439, Train Acc: 0.7050, Val Acc: 0.5000, Train ROC-AUC: 0.766, Val ROC-AUC: 0.488\n"
     ]
    },
    {
     "name": "stderr",
     "output_type": "stream",
     "text": [
      "                                                               \r"
     ]
    },
    {
     "name": "stdout",
     "output_type": "stream",
     "text": [
      "Epoch 2, Train Loss: 0.5559, Val Loss: 2.3094, Train Acc: 0.7229, Val Acc: 0.5000, Train ROC-AUC: 0.788, Val ROC-AUC: 0.561\n",
      "No improvement in validation loss for 1 epochs.\n"
     ]
    },
    {
     "name": "stderr",
     "output_type": "stream",
     "text": [
      "                                                               \r"
     ]
    },
    {
     "name": "stdout",
     "output_type": "stream",
     "text": [
      "Epoch 3, Train Loss: 0.5497, Val Loss: 1.5375, Train Acc: 0.7277, Val Acc: 0.5000, Train ROC-AUC: 0.794, Val ROC-AUC: 0.517\n",
      "No improvement in validation loss for 2 epochs.\n"
     ]
    },
    {
     "name": "stderr",
     "output_type": "stream",
     "text": [
      "                                                               \r"
     ]
    },
    {
     "name": "stdout",
     "output_type": "stream",
     "text": [
      "Epoch 4, Train Loss: 0.5453, Val Loss: 0.8268, Train Acc: 0.7306, Val Acc: 0.5168, Train ROC-AUC: 0.798, Val ROC-AUC: 0.651\n"
     ]
    },
    {
     "name": "stderr",
     "output_type": "stream",
     "text": [
      "                                                               \r"
     ]
    },
    {
     "name": "stdout",
     "output_type": "stream",
     "text": [
      "Epoch 5, Train Loss: 0.5420, Val Loss: 0.8817, Train Acc: 0.7329, Val Acc: 0.5096, Train ROC-AUC: 0.801, Val ROC-AUC: 0.537\n",
      "No improvement in validation loss for 1 epochs.\n"
     ]
    },
    {
     "name": "stderr",
     "output_type": "stream",
     "text": [
      "                                                               \r"
     ]
    },
    {
     "name": "stdout",
     "output_type": "stream",
     "text": [
      "Epoch 6, Train Loss: 0.5392, Val Loss: 0.6133, Train Acc: 0.7345, Val Acc: 0.6370, Train ROC-AUC: 0.803, Val ROC-AUC: 0.779\n"
     ]
    },
    {
     "name": "stderr",
     "output_type": "stream",
     "text": [
      "                                                               \r"
     ]
    },
    {
     "name": "stdout",
     "output_type": "stream",
     "text": [
      "Epoch 7, Train Loss: 0.5366, Val Loss: 0.8661, Train Acc: 0.7361, Val Acc: 0.5385, Train ROC-AUC: 0.806, Val ROC-AUC: 0.695\n",
      "No improvement in validation loss for 1 epochs.\n"
     ]
    },
    {
     "name": "stderr",
     "output_type": "stream",
     "text": [
      "                                                               \r"
     ]
    },
    {
     "name": "stdout",
     "output_type": "stream",
     "text": [
      "Epoch 8, Train Loss: 0.5339, Val Loss: 0.7641, Train Acc: 0.7383, Val Acc: 0.5036, Train ROC-AUC: 0.808, Val ROC-AUC: 0.532\n",
      "No improvement in validation loss for 2 epochs.\n"
     ]
    },
    {
     "name": "stderr",
     "output_type": "stream",
     "text": [
      "                                                               \r"
     ]
    },
    {
     "name": "stdout",
     "output_type": "stream",
     "text": [
      "Epoch 9, Train Loss: 0.5316, Val Loss: 1.0815, Train Acc: 0.7396, Val Acc: 0.5116, Train ROC-AUC: 0.810, Val ROC-AUC: 0.535\n",
      "No improvement in validation loss for 3 epochs.\n"
     ]
    },
    {
     "name": "stderr",
     "output_type": "stream",
     "text": [
      "                                                                \r"
     ]
    },
    {
     "name": "stdout",
     "output_type": "stream",
     "text": [
      "Epoch 10, Train Loss: 0.5290, Val Loss: 0.5436, Train Acc: 0.7410, Val Acc: 0.7323, Train ROC-AUC: 0.812, Val ROC-AUC: 0.805\n"
     ]
    },
    {
     "name": "stderr",
     "output_type": "stream",
     "text": [
      "                                                                \r"
     ]
    },
    {
     "name": "stdout",
     "output_type": "stream",
     "text": [
      "Epoch 11, Train Loss: 0.5264, Val Loss: 0.5391, Train Acc: 0.7429, Val Acc: 0.7343, Train ROC-AUC: 0.815, Val ROC-AUC: 0.805\n"
     ]
    },
    {
     "name": "stderr",
     "output_type": "stream",
     "text": [
      "                                                                \r"
     ]
    },
    {
     "name": "stdout",
     "output_type": "stream",
     "text": [
      "Epoch 12, Train Loss: 0.5235, Val Loss: 0.5727, Train Acc: 0.7445, Val Acc: 0.7154, Train ROC-AUC: 0.817, Val ROC-AUC: 0.783\n",
      "No improvement in validation loss for 1 epochs.\n"
     ]
    },
    {
     "name": "stderr",
     "output_type": "stream",
     "text": [
      "                                                                \r"
     ]
    },
    {
     "name": "stdout",
     "output_type": "stream",
     "text": [
      "Epoch 13, Train Loss: 0.5207, Val Loss: 0.5373, Train Acc: 0.7467, Val Acc: 0.7404, Train ROC-AUC: 0.819, Val ROC-AUC: 0.810\n"
     ]
    },
    {
     "name": "stderr",
     "output_type": "stream",
     "text": [
      "                                                                \r"
     ]
    },
    {
     "name": "stdout",
     "output_type": "stream",
     "text": [
      "Epoch 14, Train Loss: 0.5178, Val Loss: 0.5372, Train Acc: 0.7488, Val Acc: 0.7366, Train ROC-AUC: 0.822, Val ROC-AUC: 0.808\n"
     ]
    },
    {
     "name": "stderr",
     "output_type": "stream",
     "text": [
      "                                                                \r"
     ]
    },
    {
     "name": "stdout",
     "output_type": "stream",
     "text": [
      "Epoch 15, Train Loss: 0.5149, Val Loss: 0.5377, Train Acc: 0.7508, Val Acc: 0.7360, Train ROC-AUC: 0.824, Val ROC-AUC: 0.805\n",
      "No improvement in validation loss for 1 epochs.\n"
     ]
    },
    {
     "name": "stderr",
     "output_type": "stream",
     "text": [
      "                                                                \r"
     ]
    },
    {
     "name": "stdout",
     "output_type": "stream",
     "text": [
      "Epoch 16, Train Loss: 0.5119, Val Loss: 0.5281, Train Acc: 0.7523, Val Acc: 0.7418, Train ROC-AUC: 0.826, Val ROC-AUC: 0.814\n"
     ]
    },
    {
     "name": "stderr",
     "output_type": "stream",
     "text": [
      "                                                                \r"
     ]
    },
    {
     "name": "stdout",
     "output_type": "stream",
     "text": [
      "Epoch 17, Train Loss: 0.5093, Val Loss: 0.5313, Train Acc: 0.7538, Val Acc: 0.7416, Train ROC-AUC: 0.829, Val ROC-AUC: 0.814\n",
      "No improvement in validation loss for 1 epochs.\n"
     ]
    },
    {
     "name": "stderr",
     "output_type": "stream",
     "text": [
      "                                                                \r"
     ]
    },
    {
     "name": "stdout",
     "output_type": "stream",
     "text": [
      "Epoch 18, Train Loss: 0.5069, Val Loss: 0.5281, Train Acc: 0.7558, Val Acc: 0.7431, Train ROC-AUC: 0.830, Val ROC-AUC: 0.814\n",
      "No improvement in validation loss for 2 epochs.\n"
     ]
    },
    {
     "name": "stderr",
     "output_type": "stream",
     "text": [
      "                                                                \r"
     ]
    },
    {
     "name": "stdout",
     "output_type": "stream",
     "text": [
      "Epoch 19, Train Loss: 0.5051, Val Loss: 0.5279, Train Acc: 0.7567, Val Acc: 0.7431, Train ROC-AUC: 0.832, Val ROC-AUC: 0.814\n"
     ]
    },
    {
     "name": "stderr",
     "output_type": "stream",
     "text": [
      "                                                                \r"
     ]
    },
    {
     "name": "stdout",
     "output_type": "stream",
     "text": [
      "Epoch 20, Train Loss: 0.5042, Val Loss: 0.5278, Train Acc: 0.7572, Val Acc: 0.7436, Train ROC-AUC: 0.833, Val ROC-AUC: 0.814\n",
      "Finished training.\n"
     ]
    }
   ],
   "source": [
    "\n",
    "train_loss = []\n",
    "val_loss = []\n",
    "train_acc = []\n",
    "val_acc = []\n",
    "roc_auc_scores_train = []  \n",
    "roc_auc_scores_val = []    \n",
    "epoch_count = []\n",
    "\n",
    "best_roc_auc = 0.0\n",
    "best_model_state_dict = None\n",
    "best_val_loss = float('inf')  # Initialize best validation loss\n",
    "epochs_no_improve = 0  # Counter for early stopping\n",
    "early_stopping_patience = 5  # Stop if no improvement for this many epochs\n",
    "num_epochs = 20\n",
    "\n",
    "for epoch in range(num_epochs):\n",
    "    running_loss = 0.0\n",
    "    correct_predictions = 0\n",
    "    total_predictions = 0\n",
    "    y_true = []\n",
    "    y_scores = []\n",
    "\n",
    "    model.train()\n",
    "    with tqdm(dataset_loader.train_loader, desc=f\"Epoch {epoch+1}/{num_epochs}\", leave=False) as train_loader_with_progress:\n",
    "        for i, data in enumerate(train_loader_with_progress, 0):\n",
    "            inputs, labels = data\n",
    "            inputs, labels = inputs.to(device), labels.to(device).float()  # Convert labels to float for BCE loss\n",
    "            optimizer.zero_grad()\n",
    "            \n",
    "            outputs = model(inputs.permute(0, 3, 1, 2))            \n",
    "            loss = criterion(outputs, labels)\n",
    "            loss.backward()\n",
    "            optimizer.step()\n",
    "            running_loss += loss.item()\n",
    "\n",
    "            predicted = ((outputs) > 0.5).float()  \n",
    "            correct_predictions += (predicted == labels).sum().item()\n",
    "            total_predictions += labels.size(0)\n",
    "\n",
    "            y_true.extend(labels.cpu().numpy())\n",
    "            y_scores.extend((outputs).cpu().detach().numpy())  \n",
    "\n",
    "    train_loss.append(running_loss / len(dataset_loader.train_loader))\n",
    "    train_accuracy = correct_predictions / total_predictions\n",
    "    train_acc.append(train_accuracy)\n",
    "    epoch_count.append(epoch + 1)\n",
    "    roc_auc_train = roc_auc_score(y_true, y_scores)\n",
    "    roc_auc_scores_train.append(roc_auc_train)\n",
    "\n",
    "    # --- Validation Phase ---\n",
    "    model.eval()\n",
    "    val_running_loss = 0.0\n",
    "    correct_predictions_val = 0\n",
    "    total_predictions_val = 0\n",
    "    y_true_val = []\n",
    "    y_scores_val = []\n",
    "\n",
    "    with torch.no_grad():\n",
    "        for inputs_val, labels_val in dataset_loader.val_loader:\n",
    "            inputs_val, labels_val = inputs_val.to(device), labels_val.to(device).float()  \n",
    "            \n",
    "            outputs_val = model(inputs_val.permute(0, 3, 1, 2))\n",
    "            val_loss_batch = criterion(outputs_val, labels_val)\n",
    "            val_running_loss += val_loss_batch.item()\n",
    "\n",
    "            predicted_val = ((outputs_val) > 0.5).float()  \n",
    "            correct_predictions_val += (predicted_val == labels_val).sum().item()\n",
    "            total_predictions_val += labels_val.size(0)\n",
    "\n",
    "            y_true_val.extend(labels_val.cpu().numpy())\n",
    "            y_scores_val.extend((outputs_val).cpu().detach().numpy())  \n",
    "\n",
    "    val_loss_epoch = val_running_loss / len(dataset_loader.val_loader)\n",
    "    val_loss.append(val_loss_epoch)\n",
    "    val_accuracy = correct_predictions_val / total_predictions_val\n",
    "    val_acc.append(val_accuracy)\n",
    "    roc_auc_val = roc_auc_score(y_true_val, y_scores_val)\n",
    "    roc_auc_scores_val.append(roc_auc_val)\n",
    "\n",
    "    print(f\"Epoch {epoch+1}, Train Loss: {train_loss[-1]:.4f}, Val Loss: {val_loss_epoch:.4f}, Train Acc: {train_accuracy:.4f}, Val Acc: {val_accuracy:.4f}, Train ROC-AUC: {roc_auc_train:.3f}, Val ROC-AUC: {roc_auc_val:.3f}\")\n",
    "\n",
    "    scheduler.step()\n",
    "\n",
    "    # --- Early Stopping Logic ---\n",
    "    if val_loss_epoch < best_val_loss:\n",
    "        best_val_loss = val_loss_epoch\n",
    "        epochs_no_improve = 0  # Reset counter\n",
    "        best_model_state_dict = model.state_dict()\n",
    "        torch.save(best_model_state_dict, \"model_weights_Common_Task_1.pth\")\n",
    "# Save best model\n",
    "    else:\n",
    "        epochs_no_improve += 1\n",
    "        print(f\"No improvement in validation loss for {epochs_no_improve} epochs.\")\n",
    "\n",
    "    if epochs_no_improve >= early_stopping_patience:\n",
    "        print(f\"Early stopping triggered after {epoch+1} epochs!\")\n",
    "        break  # Stop training\n",
    "\n",
    "print(\"Finished training.\")"
   ]
  },
  {
   "cell_type": "code",
   "execution_count": 11,
   "id": "af6bdb78",
   "metadata": {
    "execution": {
     "iopub.execute_input": "2025-04-03T10:25:50.303413Z",
     "iopub.status.busy": "2025-04-03T10:25:50.303097Z",
     "iopub.status.idle": "2025-04-03T10:25:50.600799Z",
     "shell.execute_reply": "2025-04-03T10:25:50.599891Z"
    },
    "papermill": {
     "duration": 1.689469,
     "end_time": "2025-04-03T10:25:50.602242",
     "exception": false,
     "start_time": "2025-04-03T10:25:48.912773",
     "status": "completed"
    },
    "tags": []
   },
   "outputs": [
    {
     "data": {
      "image/png": "[encoded data removed]",
      "text/plain": [
       "<Figure size 600x400 with 1 Axes>"
      ]
     },
     "metadata": {},
     "output_type": "display_data"
    }
   ],
   "source": [
    "epochs = range(1, len(train_loss) + 1)\n",
    "plt.figure(figsize=(6, 4)) \n",
    "plt.plot(epochs, train_loss, 'bo-', label='Train', markersize=5, linewidth=1.5)  # Blue with circles\n",
    "plt.plot(epochs, val_loss, 'rs-', label='Validation', markersize=5, linewidth=1.5)  # Red with squares\n",
    "plt.xlabel('Epochs')\n",
    "plt.ylabel('Loss')\n",
    "plt.title('Loss Curve')\n",
    "plt.legend()\n",
    "plt.grid(True)\n",
    "plt.show()\n"
   ]
  },
  {
   "cell_type": "code",
   "execution_count": 12,
   "id": "a23d0df0",
   "metadata": {
    "execution": {
     "iopub.execute_input": "2025-04-03T10:25:53.644023Z",
     "iopub.status.busy": "2025-04-03T10:25:53.643676Z",
     "iopub.status.idle": "2025-04-03T10:25:53.824330Z",
     "shell.execute_reply": "2025-04-03T10:25:53.823553Z"
    },
    "papermill": {
     "duration": 1.663675,
     "end_time": "2025-04-03T10:25:53.825739",
     "exception": false,
     "start_time": "2025-04-03T10:25:52.162064",
     "status": "completed"
    },
    "tags": []
   },
   "outputs": [
    {
     "data": {
      "image/png": "[encoded data removed]",
      "text/plain": [
       "<Figure size 600x400 with 1 Axes>"
      ]
     },
     "metadata": {},
     "output_type": "display_data"
    }
   ],
   "source": [
    "epochs = range(1, len(train_acc) + 1)\n",
    "plt.figure(figsize=(6, 4))\n",
    "plt.plot(epochs, train_acc, 'bo-', label='Train', markersize=5, linewidth=1.5)\n",
    "plt.plot(epochs, val_acc, 'rs-', label='Validation', markersize=5, linewidth=1.5)\n",
    "plt.xlabel('Epochs')\n",
    "plt.ylabel('Accuracy')\n",
    "plt.title('Accuracy Curve')\n",
    "plt.legend()\n",
    "plt.grid(True)\n",
    "plt.show()"
   ]
  },
  {
   "cell_type": "code",
   "execution_count": 13,
   "id": "0164ce1c",
   "metadata": {
    "execution": {
     "iopub.execute_input": "2025-04-03T10:25:56.877573Z",
     "iopub.status.busy": "2025-04-03T10:25:56.877280Z",
     "iopub.status.idle": "2025-04-03T10:25:57.060954Z",
     "shell.execute_reply": "2025-04-03T10:25:57.059926Z"
    },
    "papermill": {
     "duration": 1.807189,
     "end_time": "2025-04-03T10:25:57.062350",
     "exception": false,
     "start_time": "2025-04-03T10:25:55.255161",
     "status": "completed"
    },
    "tags": []
   },
   "outputs": [
    {
     "data": {
      "image/png": "[encoded data removed]",
      "text/plain": [
       "<Figure size 640x480 with 1 Axes>"
      ]
     },
     "metadata": {},
     "output_type": "display_data"
    }
   ],
   "source": [
    "plt.plot(epochs, roc_auc_scores_train, 'bo-', label='Train', markersize=5, linewidth=1.5)\n",
    "plt.plot(epochs, roc_auc_scores_val, 'rs-', label='Validation', markersize=5, linewidth=1.5)\n",
    "plt.xlabel('Epoch')\n",
    "plt.ylabel('ROC-AUC')\n",
    "plt.title('ROC-AUC Curve')\n",
    "plt.legend()\n",
    "plt.show()\n"
   ]
  },
  {
   "cell_type": "code",
   "execution_count": 14,
   "id": "1e1ad62e",
   "metadata": {
    "execution": {
     "iopub.execute_input": "2025-04-03T10:26:00.046391Z",
     "iopub.status.busy": "2025-04-03T10:26:00.046067Z",
     "iopub.status.idle": "2025-04-03T10:26:07.065080Z",
     "shell.execute_reply": "2025-04-03T10:26:07.064086Z"
    },
    "papermill": {
     "duration": 8.591048,
     "end_time": "2025-04-03T10:26:07.066341",
     "exception": false,
     "start_time": "2025-04-03T10:25:58.475293",
     "status": "completed"
    },
    "tags": []
   },
   "outputs": [
    {
     "name": "stdout",
     "output_type": "stream",
     "text": [
      "Test Loss: 0.5278, Test Accuracy: 0.7436, Test ROC-AUC: 0.8142\n"
     ]
    }
   ],
   "source": [
    "checkpoint = torch.load(\"/kaggle/working/model_weights_Common_Task_1.pth\")\n",
    "model = ResNet15(BasicBlock, [2, 2, 2]).to(device)\n",
    "model.load_state_dict(checkpoint)\n",
    "model.eval()\n",
    "\n",
    "test_running_loss = 0.0\n",
    "correct_predictions_test = 0\n",
    "total_predictions_test = 0\n",
    "y_true_test = []\n",
    "y_scores_test = []\n",
    "\n",
    "with torch.no_grad():\n",
    "    for inputs_test, labels_test in dataset_loader.val_loader:\n",
    "        inputs_test = inputs_test.to(device)\n",
    "        # Convert labels to float, matching training if necessary\n",
    "        labels_test = labels_test.to(device).float()\n",
    "        \n",
    "        # Permute input dimensions from (B, 32, 32, 2) to (B, 2, 32, 32)\n",
    "        outputs_test = model(inputs_test.permute(0, 3, 1, 2))\n",
    "        \n",
    "        # Option 1: Squeeze if needed to get [batch] shape\n",
    "        if outputs_test.dim() == 2 and outputs_test.size(1) == 1:\n",
    "            outputs_test = outputs_test.squeeze(1)\n",
    "        \n",
    "        test_loss_batch = criterion(outputs_test, labels_test)\n",
    "        test_running_loss += test_loss_batch.item()\n",
    "        \n",
    "        predicted_test = (outputs_test > 0.5).float()\n",
    "        correct_predictions_test += (predicted_test == labels_test).sum().item()\n",
    "        total_predictions_test += labels_test.size(0)\n",
    "        \n",
    "        y_true_test.extend(labels_test.cpu().numpy())\n",
    "        y_scores_test.extend(outputs_test.cpu().detach().numpy())\n",
    "\n",
    "# Use the val_loader length for computing average loss\n",
    "test_loss = test_running_loss / len(dataset_loader.val_loader)\n",
    "test_accuracy = correct_predictions_test / total_predictions_test\n",
    "roc_auc_test = roc_auc_score(y_true_test, y_scores_test)\n",
    "accuracy_test = accuracy_score(y_true_test, (np.array(y_scores_test) > 0.5))\n",
    "\n",
    "print(f\"Test Loss: {test_loss:.4f}, Test Accuracy: {test_accuracy:.4f}, Test ROC-AUC: {roc_auc_test:.4f}\")"
   ]
  },
  {
   "cell_type": "code",
   "execution_count": null,
   "id": "ad435a47",
   "metadata": {
    "execution": {
     "iopub.execute_input": "2025-04-03T10:26:09.948502Z",
     "iopub.status.busy": "2025-04-03T10:26:09.948204Z",
     "iopub.status.idle": "2025-04-03T10:26:10.177521Z",
     "shell.execute_reply": "2025-04-03T10:26:10.176752Z"
    },
    "papermill": {
     "duration": 1.698607,
     "end_time": "2025-04-03T10:26:10.178893",
     "exception": false,
     "start_time": "2025-04-03T10:26:08.480286",
     "status": "completed"
    },
    "tags": []
   },
   "outputs": [
    {
     "name": "stdout",
     "output_type": "stream",
     "text": [
      "\n",
      "--- Generating ROC Curve ---\n"
     ]
    },
    {
     "data": {
      "image/png": "[encoded data removed]",
      "text/plain": [
       "<Figure size 800x600 with 1 Axes>"
      ]
     },
     "metadata": {},
     "output_type": "display_data"
    }
   ],
   "source": [
    "\n",
    "fpr, tpr, thresholds = roc_curve(y_true_test, y_scores_test)\n",
    "roc_auc = auc(fpr, tpr)\n",
    "plt.figure(figsize=(8, 6))\n",
    "plt.plot(fpr, tpr, color='darkorange', lw=2, label=f'Model ROC curve (AUC = {roc_auc:.4f})')\n",
    "plt.plot([0, 1], [0, 1], color='navy', lw=2, linestyle='--', label='Chance level (AUC = 0.5)')\n",
    "\n",
    "plt.xlim([0.0, 1.0])\n",
    "plt.ylim([0.0, 1.05])\n",
    "plt.xlabel('False Positive Rate (FPR)')\n",
    "plt.ylabel('True Positive Rate (TPR)')\n",
    "plt.title('Receiver Operating Characteristic (ROC) Curve')\n",
    "plt.legend(loc=\"lower right\")\n",
    "plt.grid(True)\n",
    "plt.show()\n"
   ]
  }
 ],
 "metadata": {
  "kaggle": {
   "accelerator": "gpu",
   "dataSources": [
    {
     "datasetId": 4541045,
     "sourceId": 7764043,
     "sourceType": "datasetVersion"
    }
   ],
   "dockerImageVersionId": 30919,
   "isGpuEnabled": true,
   "isInternetEnabled": true,
   "language": "python",
   "sourceType": "notebook"
  },
  "kernelspec": {
   "display_name": "Python 3",
   "language": "python",
   "name": "python3"
  },
  "language_info": {
   "codemirror_mode": {
    "name": "ipython",
    "version": 3
   },
   "file_extension": ".py",
   "mimetype": "text/x-python",
   "name": "python",
   "nbconvert_exporter": "python",
   "pygments_lexer": "ipython3",
   "version": "3.10.12"
  },
  "papermill": {
   "default_parameters": {},
   "duration": 6711.856096,
   "end_time": "2025-04-03T10:26:21.140033",
   "environment_variables": {},
   "exception": null,
   "input_path": "__notebook__.ipynb",
   "output_path": "__notebook__.ipynb",
   "parameters": {},
   "start_time": "2025-04-03T08:34:29.283937",
   "version": "2.3.4"
  }
 },
 "nbformat": 4,
 "nbformat_minor": 5
}
