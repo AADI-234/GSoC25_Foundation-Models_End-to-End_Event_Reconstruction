{
 "cells": [
  {
   "cell_type": "code",
   "execution_count": 1,
   "id": "077ffcaf",
   "metadata": {
    "execution": {
     "iopub.execute_input": "2025-04-04T04:39:27.324659Z",
     "iopub.status.busy": "2025-04-04T04:39:27.324386Z",
     "iopub.status.idle": "2025-04-04T04:39:37.645622Z",
     "shell.execute_reply": "2025-04-04T04:39:37.644909Z"
    },
    "papermill": {
     "duration": 10.327354,
     "end_time": "2025-04-04T04:39:37.647256",
     "exception": false,
     "start_time": "2025-04-04T04:39:27.319902",
     "status": "completed"
    },
    "tags": []
   },
   "outputs": [],
   "source": [
    "import os\n",
    "import cv2\n",
    "import h5py\n",
    "import pyarrow.parquet as pq\n",
    "import pandas as pd\n",
    "import numpy as np\n",
    "import matplotlib.pyplot as plt\n",
    "import seaborn as sns\n",
    "from tqdm import tqdm\n",
    "from statistics import mean\n",
    "from sklearn.metrics import accuracy_score, roc_auc_score, f1_score\n",
    "from sklearn.model_selection import StratifiedKFold, train_test_split\n",
    "from sklearn.preprocessing import StandardScaler\n",
    "from sklearn.metrics import roc_curve, auc\n",
    "\n",
    "import torch\n",
    "import torch.nn as nn\n",
    "import torch.optim as optim\n",
    "from torch.optim import lr_scheduler\n",
    "from torch.utils.data import DataLoader, TensorDataset\n",
    "from torch.optim.lr_scheduler import CosineAnnealingLR, StepLR\n",
    "from torch.utils.data.sampler import SubsetRandomSampler, BatchSampler, Sampler\n",
    "from torch.optim import Adam, SGD\n",
    "from torchvision import transforms, models\n",
    "from torchvision.models import resnet18  \n",
    "from torchvision.transforms import Resize, ToTensor\n",
    "from torch.cuda.amp import autocast, GradScaler\n",
    "import torch.nn.functional as F\n",
    "from PIL import Image\n",
    "\n",
    "torch.manual_seed(42)\n",
    "np.random.seed(42)\n",
    "torch.cuda.manual_seed(42)\n",
    "device = torch.device(\"cuda\" if torch.cuda.is_available() else \"cpu\")\n",
    "\n",
    "import warnings\n",
    "warnings.filterwarnings('ignore')"
   ]
  },
  {
   "cell_type": "code",
   "execution_count": 2,
   "id": "aea84c4c",
   "metadata": {
    "execution": {
     "iopub.execute_input": "2025-04-04T04:39:37.655035Z",
     "iopub.status.busy": "2025-04-04T04:39:37.654617Z",
     "iopub.status.idle": "2025-04-04T04:39:37.674332Z",
     "shell.execute_reply": "2025-04-04T04:39:37.673449Z"
    },
    "papermill": {
     "duration": 0.024779,
     "end_time": "2025-04-04T04:39:37.675694",
     "exception": false,
     "start_time": "2025-04-04T04:39:37.650915",
     "status": "completed"
    },
    "tags": []
   },
   "outputs": [
    {
     "name": "stdout",
     "output_type": "stream",
     "text": [
      "['X', 'y']\n",
      "['X', 'y']\n"
     ]
    }
   ],
   "source": [
    "\n",
    "file_path_1 = '/kaggle/input/common-task1/SingleElectronPt50_IMGCROPS_n249k_RHv1.hdf5'\n",
    "file_path_2 = '/kaggle/input/common-task1/SinglePhotonPt50_IMGCROPS_n249k_RHv1.hdf5'\n",
    "with h5py.File(file_path_1, 'r') as file:\n",
    "    print(list(file.keys()))\n",
    "    \n",
    "with h5py.File(file_path_2, 'r') as file:\n",
    "    print(list(file.keys()))"
   ]
  },
  {
   "cell_type": "code",
   "execution_count": 3,
   "id": "4cc19b7d",
   "metadata": {
    "execution": {
     "iopub.execute_input": "2025-04-04T04:39:37.682772Z",
     "iopub.status.busy": "2025-04-04T04:39:37.682562Z",
     "iopub.status.idle": "2025-04-04T04:39:51.994865Z",
     "shell.execute_reply": "2025-04-04T04:39:51.994155Z"
    },
    "papermill": {
     "duration": 14.317623,
     "end_time": "2025-04-04T04:39:51.996592",
     "exception": false,
     "start_time": "2025-04-04T04:39:37.678969",
     "status": "completed"
    },
    "tags": []
   },
   "outputs": [],
   "source": [
    "\n",
    "with h5py.File(file_path_1, 'r') as file:\n",
    "    X1 = file['X'][:]\n",
    "    y1 = file['y'][:]\n",
    "    \n",
    "with h5py.File(file_path_2, 'r') as file:\n",
    "    X2 = file['X'][:]\n",
    "    y2 = file['y'][:]"
   ]
  },
  {
   "cell_type": "code",
   "execution_count": 4,
   "id": "f7306820",
   "metadata": {
    "execution": {
     "iopub.execute_input": "2025-04-04T04:39:52.004840Z",
     "iopub.status.busy": "2025-04-04T04:39:52.004531Z",
     "iopub.status.idle": "2025-04-04T04:39:55.793657Z",
     "shell.execute_reply": "2025-04-04T04:39:55.792978Z"
    },
    "papermill": {
     "duration": 3.794889,
     "end_time": "2025-04-04T04:39:55.795288",
     "exception": false,
     "start_time": "2025-04-04T04:39:52.000399",
     "status": "completed"
    },
    "tags": []
   },
   "outputs": [
    {
     "name": "stdout",
     "output_type": "stream",
     "text": [
      "Shape of X: (498000, 32, 32, 2)\n",
      "Shape of y: (498000,)\n"
     ]
    }
   ],
   "source": [
    "\n",
    "X = np.concatenate([X1, X2])\n",
    "y = np.concatenate([y1, y2])\n",
    "print(\"Shape of X:\", X.shape)\n",
    "print(\"Shape of y:\", y.shape)\n",
    "X = X.astype('float32') / 255.0\n"
   ]
  },
  {
   "cell_type": "code",
   "execution_count": 5,
   "id": "2a7d67c5",
   "metadata": {
    "execution": {
     "iopub.execute_input": "2025-04-04T04:39:55.803528Z",
     "iopub.status.busy": "2025-04-04T04:39:55.803309Z",
     "iopub.status.idle": "2025-04-04T04:39:57.126876Z",
     "shell.execute_reply": "2025-04-04T04:39:57.126132Z"
    },
    "papermill": {
     "duration": 1.329274,
     "end_time": "2025-04-04T04:39:57.128603",
     "exception": false,
     "start_time": "2025-04-04T04:39:55.799329",
     "status": "completed"
    },
    "tags": []
   },
   "outputs": [],
   "source": [
    "\n",
    "X_train, X_val, y_train, y_val = train_test_split(X, y, test_size=0.2, random_state=42, stratify = y)"
   ]
  },
  {
   "cell_type": "code",
   "execution_count": 6,
   "id": "0d8c214e",
   "metadata": {
    "execution": {
     "iopub.execute_input": "2025-04-04T04:39:57.137272Z",
     "iopub.status.busy": "2025-04-04T04:39:57.136917Z",
     "iopub.status.idle": "2025-04-04T04:39:57.143450Z",
     "shell.execute_reply": "2025-04-04T04:39:57.142768Z"
    },
    "papermill": {
     "duration": 0.011902,
     "end_time": "2025-04-04T04:39:57.144694",
     "exception": false,
     "start_time": "2025-04-04T04:39:57.132792",
     "status": "completed"
    },
    "tags": []
   },
   "outputs": [],
   "source": [
    "class BasicBlock(nn.Module):\n",
    "    expansion = 1\n",
    "\n",
    "    def __init__(self, in_planes, planes, stride=1):\n",
    "        super(BasicBlock, self).__init__()\n",
    "        self.conv1 = nn.Conv2d(in_planes, planes, kernel_size=3, stride=stride, padding=1, bias=False)\n",
    "        self.bn1 = nn.BatchNorm2d(planes)\n",
    "        self.conv2 = nn.Conv2d(planes, planes, kernel_size=3, stride=1, padding=1, bias=False)\n",
    "        self.bn2 = nn.BatchNorm2d(planes)\n",
    "\n",
    "        self.shortcut = nn.Sequential()\n",
    "        if stride != 1 or in_planes != self.expansion*planes:\n",
    "            self.shortcut = nn.Sequential(\n",
    "                nn.Conv2d(in_planes, self.expansion*planes, kernel_size=1, stride=stride, bias=False),\n",
    "                nn.BatchNorm2d(self.expansion*planes)\n",
    "            )\n",
    "\n",
    "    def forward(self, x):\n",
    "        out = F.relu(self.bn1(self.conv1(x)))\n",
    "        out = self.bn2(self.conv2(out))\n",
    "        out += self.shortcut(x)\n",
    "        out = F.relu(out)\n",
    "        return out"
   ]
  },
  {
   "cell_type": "code",
   "execution_count": 7,
   "id": "1e4ff8ce",
   "metadata": {
    "execution": {
     "iopub.execute_input": "2025-04-04T04:39:57.152325Z",
     "iopub.status.busy": "2025-04-04T04:39:57.152097Z",
     "iopub.status.idle": "2025-04-04T04:39:57.158587Z",
     "shell.execute_reply": "2025-04-04T04:39:57.157812Z"
    },
    "papermill": {
     "duration": 0.011536,
     "end_time": "2025-04-04T04:39:57.159758",
     "exception": false,
     "start_time": "2025-04-04T04:39:57.148222",
     "status": "completed"
    },
    "tags": []
   },
   "outputs": [],
   "source": [
    "class ResNet15(nn.Module):\n",
    "    def __init__(self, block, num_blocks, num_classes=1):\n",
    "        super(ResNet15, self).__init__()\n",
    "        self.in_planes = 16\n",
    "\n",
    "        self.conv1 = nn.Conv2d(2, 16, kernel_size=3, stride=1, padding=1, bias=False)\n",
    "        self.bn1 = nn.BatchNorm2d(16)\n",
    "        self.layer1 = self._make_layer(block, 16, num_blocks[0], stride=1)\n",
    "        self.layer2 = self._make_layer(block, 32, num_blocks[1], stride=2)\n",
    "        self.layer3 = self._make_layer(block, 64, num_blocks[2], stride=2)\n",
    "        self.linear = nn.Linear(64, num_classes)\n",
    "\n",
    "    def _make_layer(self, block, planes, num_blocks, stride):\n",
    "        strides = [stride] + [1]*(num_blocks-1)\n",
    "        layers = []\n",
    "        for stride in strides:\n",
    "            layers.append(block(self.in_planes, planes, stride))\n",
    "            self.in_planes = planes * block.expansion\n",
    "        return nn.Sequential(*layers)\n",
    "\n",
    "    def forward(self, x):\n",
    "        out = F.relu(self.bn1(self.conv1(x)))\n",
    "        out = self.layer1(out)\n",
    "        out = self.layer2(out)\n",
    "        out = self.layer3(out)\n",
    "        out = F.avg_pool2d(out, 8)\n",
    "        out = out.view(out.size(0), -1)\n",
    "        out = self.linear(out)\n",
    "        return torch.sigmoid(out).squeeze(dim=1)"
   ]
  },
  {
   "cell_type": "code",
   "execution_count": 8,
   "id": "5a2cb9a8",
   "metadata": {
    "execution": {
     "iopub.execute_input": "2025-04-04T04:39:57.167177Z",
     "iopub.status.busy": "2025-04-04T04:39:57.166968Z",
     "iopub.status.idle": "2025-04-04T04:39:58.840623Z",
     "shell.execute_reply": "2025-04-04T04:39:58.839654Z"
    },
    "papermill": {
     "duration": 1.679205,
     "end_time": "2025-04-04T04:39:58.842378",
     "exception": false,
     "start_time": "2025-04-04T04:39:57.163173",
     "status": "completed"
    },
    "tags": []
   },
   "outputs": [],
   "source": [
    "\n",
    "class DatasetLoader:\n",
    "    def __init__(self, X_train, y_train, X_val, y_val, batch_size):\n",
    "        self.batch_size = batch_size\n",
    "        self.train_loader = self.create_dataloader(X_train, y_train, shuffle=True)\n",
    "        self.val_loader = self.create_dataloader(X_val, y_val, shuffle=False)\n",
    "\n",
    "    def create_dataloader(self, X, y, shuffle):\n",
    "        X_tensor = torch.tensor(X, dtype=torch.float32)\n",
    "        y_tensor = torch.tensor(y, dtype=torch.float32)# Change to long() if classification\n",
    "        dataset = TensorDataset(X_tensor, y_tensor)\n",
    "        return DataLoader(dataset, batch_size=batch_size, shuffle=shuffle, drop_last=True)\n",
    "batch_size = 256\n",
    "dataset_loader = DatasetLoader(X_train, y_train, X_val, y_val, 256)"
   ]
  },
  {
   "cell_type": "code",
   "execution_count": 9,
   "id": "f86a3ba1",
   "metadata": {
    "execution": {
     "iopub.execute_input": "2025-04-04T04:39:58.851690Z",
     "iopub.status.busy": "2025-04-04T04:39:58.851443Z",
     "iopub.status.idle": "2025-04-04T04:39:59.067397Z",
     "shell.execute_reply": "2025-04-04T04:39:59.066403Z"
    },
    "papermill": {
     "duration": 0.222161,
     "end_time": "2025-04-04T04:39:59.069016",
     "exception": false,
     "start_time": "2025-04-04T04:39:58.846855",
     "status": "completed"
    },
    "tags": []
   },
   "outputs": [],
   "source": [
    "\n",
    "model = ResNet15(BasicBlock, [2, 2, 2]).to(device)\n",
    "criterion = nn.BCELoss()\n",
    "optimizer = optim.AdamW(model.parameters(), lr=0.001, weight_decay=1e-4) # Example value\n",
    "scheduler = torch.optim.lr_scheduler.CosineAnnealingLR(optimizer, T_max=20, eta_min=5e-8, last_epoch=-1, verbose=True)"
   ]
  },
  {
   "cell_type": "code",
   "execution_count": 10,
   "id": "2a28c230",
   "metadata": {
    "execution": {
     "iopub.execute_input": "2025-04-04T04:39:59.077003Z",
     "iopub.status.busy": "2025-04-04T04:39:59.076710Z",
     "iopub.status.idle": "2025-04-04T05:32:09.443032Z",
     "shell.execute_reply": "2025-04-04T05:32:09.442032Z"
    },
    "papermill": {
     "duration": 3131.110348,
     "end_time": "2025-04-04T05:32:10.182866",
     "exception": false,
     "start_time": "2025-04-04T04:39:59.072518",
     "status": "completed"
    },
    "tags": []
   },
   "outputs": [
    {
     "name": "stderr",
     "output_type": "stream",
     "text": [
      "                                                               \r"
     ]
    },
    {
     "name": "stdout",
     "output_type": "stream",
     "text": [
      "Epoch 1, Train Loss: 0.6138, Val Loss: 0.5762, Train Acc: 0.6638, Val Acc: 0.7083, Train ROC-AUC: 0.720, Val ROC-AUC: 0.770\n"
     ]
    },
    {
     "name": "stderr",
     "output_type": "stream",
     "text": [
      "                                                               \r"
     ]
    },
    {
     "name": "stdout",
     "output_type": "stream",
     "text": [
      "Epoch 2, Train Loss: 0.5648, Val Loss: 0.6069, Train Acc: 0.7155, Val Acc: 0.6833, Train ROC-AUC: 0.779, Val ROC-AUC: 0.776\n",
      "No improvement in validation loss for 1 epochs.\n"
     ]
    },
    {
     "name": "stderr",
     "output_type": "stream",
     "text": [
      "                                                               \r"
     ]
    },
    {
     "name": "stdout",
     "output_type": "stream",
     "text": [
      "Epoch 3, Train Loss: 0.5555, Val Loss: 0.5559, Train Acc: 0.7225, Val Acc: 0.7259, Train ROC-AUC: 0.788, Val ROC-AUC: 0.795\n"
     ]
    },
    {
     "name": "stderr",
     "output_type": "stream",
     "text": [
      "                                                               \r"
     ]
    },
    {
     "name": "stdout",
     "output_type": "stream",
     "text": [
      "Epoch 4, Train Loss: 0.5497, Val Loss: 0.5468, Train Acc: 0.7267, Val Acc: 0.7298, Train ROC-AUC: 0.794, Val ROC-AUC: 0.798\n"
     ]
    },
    {
     "name": "stderr",
     "output_type": "stream",
     "text": [
      "                                                               \r"
     ]
    },
    {
     "name": "stdout",
     "output_type": "stream",
     "text": [
      "Epoch 5, Train Loss: 0.5455, Val Loss: 0.5545, Train Acc: 0.7297, Val Acc: 0.7231, Train ROC-AUC: 0.797, Val ROC-AUC: 0.796\n",
      "No improvement in validation loss for 1 epochs.\n"
     ]
    },
    {
     "name": "stderr",
     "output_type": "stream",
     "text": [
      "                                                               \r"
     ]
    },
    {
     "name": "stdout",
     "output_type": "stream",
     "text": [
      "Epoch 6, Train Loss: 0.5429, Val Loss: 0.5831, Train Acc: 0.7316, Val Acc: 0.7080, Train ROC-AUC: 0.800, Val ROC-AUC: 0.795\n",
      "No improvement in validation loss for 2 epochs.\n"
     ]
    },
    {
     "name": "stderr",
     "output_type": "stream",
     "text": [
      "                                                               \r"
     ]
    },
    {
     "name": "stdout",
     "output_type": "stream",
     "text": [
      "Epoch 7, Train Loss: 0.5398, Val Loss: 0.5369, Train Acc: 0.7334, Val Acc: 0.7375, Train ROC-AUC: 0.803, Val ROC-AUC: 0.805\n"
     ]
    },
    {
     "name": "stderr",
     "output_type": "stream",
     "text": [
      "                                                               \r"
     ]
    },
    {
     "name": "stdout",
     "output_type": "stream",
     "text": [
      "Epoch 8, Train Loss: 0.5373, Val Loss: 0.5395, Train Acc: 0.7354, Val Acc: 0.7338, Train ROC-AUC: 0.805, Val ROC-AUC: 0.805\n",
      "No improvement in validation loss for 1 epochs.\n"
     ]
    },
    {
     "name": "stderr",
     "output_type": "stream",
     "text": [
      "                                                               \r"
     ]
    },
    {
     "name": "stdout",
     "output_type": "stream",
     "text": [
      "Epoch 9, Train Loss: 0.5352, Val Loss: 0.5396, Train Acc: 0.7368, Val Acc: 0.7328, Train ROC-AUC: 0.807, Val ROC-AUC: 0.804\n",
      "No improvement in validation loss for 2 epochs.\n"
     ]
    },
    {
     "name": "stderr",
     "output_type": "stream",
     "text": [
      "                                                                \r"
     ]
    },
    {
     "name": "stdout",
     "output_type": "stream",
     "text": [
      "Epoch 10, Train Loss: 0.5325, Val Loss: 0.5412, Train Acc: 0.7386, Val Acc: 0.7344, Train ROC-AUC: 0.809, Val ROC-AUC: 0.807\n",
      "No improvement in validation loss for 3 epochs.\n"
     ]
    },
    {
     "name": "stderr",
     "output_type": "stream",
     "text": [
      "                                                                \r"
     ]
    },
    {
     "name": "stdout",
     "output_type": "stream",
     "text": [
      "Epoch 11, Train Loss: 0.5302, Val Loss: 0.5369, Train Acc: 0.7398, Val Acc: 0.7379, Train ROC-AUC: 0.811, Val ROC-AUC: 0.807\n"
     ]
    },
    {
     "name": "stderr",
     "output_type": "stream",
     "text": [
      "                                                                \r"
     ]
    },
    {
     "name": "stdout",
     "output_type": "stream",
     "text": [
      "Epoch 12, Train Loss: 0.5277, Val Loss: 0.5360, Train Acc: 0.7418, Val Acc: 0.7354, Train ROC-AUC: 0.813, Val ROC-AUC: 0.806\n"
     ]
    },
    {
     "name": "stderr",
     "output_type": "stream",
     "text": [
      "                                                                \r"
     ]
    },
    {
     "name": "stdout",
     "output_type": "stream",
     "text": [
      "Epoch 13, Train Loss: 0.5254, Val Loss: 0.5327, Train Acc: 0.7432, Val Acc: 0.7400, Train ROC-AUC: 0.815, Val ROC-AUC: 0.811\n"
     ]
    },
    {
     "name": "stderr",
     "output_type": "stream",
     "text": [
      "                                                                \r"
     ]
    },
    {
     "name": "stdout",
     "output_type": "stream",
     "text": [
      "Epoch 14, Train Loss: 0.5228, Val Loss: 0.5302, Train Acc: 0.7452, Val Acc: 0.7414, Train ROC-AUC: 0.818, Val ROC-AUC: 0.812\n"
     ]
    },
    {
     "name": "stderr",
     "output_type": "stream",
     "text": [
      "                                                                \r"
     ]
    },
    {
     "name": "stdout",
     "output_type": "stream",
     "text": [
      "Epoch 15, Train Loss: 0.5204, Val Loss: 0.5293, Train Acc: 0.7463, Val Acc: 0.7418, Train ROC-AUC: 0.819, Val ROC-AUC: 0.812\n"
     ]
    },
    {
     "name": "stderr",
     "output_type": "stream",
     "text": [
      "                                                                \r"
     ]
    },
    {
     "name": "stdout",
     "output_type": "stream",
     "text": [
      "Epoch 16, Train Loss: 0.5182, Val Loss: 0.5284, Train Acc: 0.7481, Val Acc: 0.7420, Train ROC-AUC: 0.821, Val ROC-AUC: 0.813\n"
     ]
    },
    {
     "name": "stderr",
     "output_type": "stream",
     "text": [
      "                                                                \r"
     ]
    },
    {
     "name": "stdout",
     "output_type": "stream",
     "text": [
      "Epoch 17, Train Loss: 0.5163, Val Loss: 0.5282, Train Acc: 0.7493, Val Acc: 0.7421, Train ROC-AUC: 0.823, Val ROC-AUC: 0.813\n"
     ]
    },
    {
     "name": "stderr",
     "output_type": "stream",
     "text": [
      "                                                                \r"
     ]
    },
    {
     "name": "stdout",
     "output_type": "stream",
     "text": [
      "Epoch 18, Train Loss: 0.5144, Val Loss: 0.5282, Train Acc: 0.7501, Val Acc: 0.7430, Train ROC-AUC: 0.824, Val ROC-AUC: 0.813\n"
     ]
    },
    {
     "name": "stderr",
     "output_type": "stream",
     "text": [
      "                                                                \r"
     ]
    },
    {
     "name": "stdout",
     "output_type": "stream",
     "text": [
      "Epoch 19, Train Loss: 0.5133, Val Loss: 0.5280, Train Acc: 0.7507, Val Acc: 0.7435, Train ROC-AUC: 0.825, Val ROC-AUC: 0.814\n"
     ]
    },
    {
     "name": "stderr",
     "output_type": "stream",
     "text": [
      "                                                                \r"
     ]
    },
    {
     "name": "stdout",
     "output_type": "stream",
     "text": [
      "Epoch 20, Train Loss: 0.5124, Val Loss: 0.5281, Train Acc: 0.7513, Val Acc: 0.7433, Train ROC-AUC: 0.826, Val ROC-AUC: 0.814\n",
      "No improvement in validation loss for 1 epochs.\n",
      "Finished training.\n"
     ]
    }
   ],
   "source": [
    "\n",
    "train_loss = []\n",
    "val_loss = []\n",
    "train_acc = []\n",
    "val_acc = []\n",
    "roc_auc_scores_train = []  \n",
    "roc_auc_scores_val = []    \n",
    "epoch_count = []\n",
    "\n",
    "best_roc_auc = 0.0\n",
    "best_model_state_dict = None\n",
    "best_val_loss = float('inf')  # Initialize best validation loss\n",
    "epochs_no_improve = 0  # Counter for early stopping\n",
    "early_stopping_patience = 5  # Stop if no improvement for this many epochs\n",
    "num_epochs = 20\n",
    "\n",
    "for epoch in range(num_epochs):\n",
    "    running_loss = 0.0\n",
    "    correct_predictions = 0\n",
    "    total_predictions = 0\n",
    "    y_true = []\n",
    "    y_scores = []\n",
    "\n",
    "    model.train()\n",
    "    with tqdm(dataset_loader.train_loader, desc=f\"Epoch {epoch+1}/{num_epochs}\", leave=False) as train_loader_with_progress:\n",
    "        for i, data in enumerate(train_loader_with_progress, 0):\n",
    "            inputs, labels = data\n",
    "            inputs, labels = inputs.to(device), labels.to(device).float()  # Convert labels to float for BCE loss\n",
    "            optimizer.zero_grad()\n",
    "            \n",
    "            outputs = model(inputs.permute(0, 3, 1, 2))            \n",
    "            loss = criterion(outputs, labels)\n",
    "            loss.backward()\n",
    "            optimizer.step()\n",
    "            running_loss += loss.item()\n",
    "\n",
    "            predicted = ((outputs) > 0.5).float()  \n",
    "            correct_predictions += (predicted == labels).sum().item()\n",
    "            total_predictions += labels.size(0)\n",
    "\n",
    "            y_true.extend(labels.cpu().numpy())\n",
    "            y_scores.extend((outputs).cpu().detach().numpy())  \n",
    "\n",
    "    train_loss.append(running_loss / len(dataset_loader.train_loader))\n",
    "    train_accuracy = correct_predictions / total_predictions\n",
    "    train_acc.append(train_accuracy)\n",
    "    epoch_count.append(epoch + 1)\n",
    "    roc_auc_train = roc_auc_score(y_true, y_scores)\n",
    "    roc_auc_scores_train.append(roc_auc_train)\n",
    "\n",
    "    # --- Validation Phase ---\n",
    "    model.eval()\n",
    "    val_running_loss = 0.0\n",
    "    correct_predictions_val = 0\n",
    "    total_predictions_val = 0\n",
    "    y_true_val = []\n",
    "    y_scores_val = []\n",
    "\n",
    "    with torch.no_grad():\n",
    "        for inputs_val, labels_val in dataset_loader.val_loader:\n",
    "            inputs_val, labels_val = inputs_val.to(device), labels_val.to(device).float()  \n",
    "            \n",
    "            outputs_val = model(inputs_val.permute(0, 3, 1, 2))\n",
    "            val_loss_batch = criterion(outputs_val, labels_val)\n",
    "            val_running_loss += val_loss_batch.item()\n",
    "\n",
    "            predicted_val = ((outputs_val) > 0.5).float()  \n",
    "            correct_predictions_val += (predicted_val == labels_val).sum().item()\n",
    "            total_predictions_val += labels_val.size(0)\n",
    "\n",
    "            y_true_val.extend(labels_val.cpu().numpy())\n",
    "            y_scores_val.extend((outputs_val).cpu().detach().numpy())  \n",
    "\n",
    "    val_loss_epoch = val_running_loss / len(dataset_loader.val_loader)\n",
    "    val_loss.append(val_loss_epoch)\n",
    "    val_accuracy = correct_predictions_val / total_predictions_val\n",
    "    val_acc.append(val_accuracy)\n",
    "    roc_auc_val = roc_auc_score(y_true_val, y_scores_val)\n",
    "    roc_auc_scores_val.append(roc_auc_val)\n",
    "\n",
    "    print(f\"Epoch {epoch+1}, Train Loss: {train_loss[-1]:.4f}, Val Loss: {val_loss_epoch:.4f}, Train Acc: {train_accuracy:.4f}, Val Acc: {val_accuracy:.4f}, Train ROC-AUC: {roc_auc_train:.3f}, Val ROC-AUC: {roc_auc_val:.3f}\")\n",
    "\n",
    "    scheduler.step()\n",
    "\n",
    "    # --- Early Stopping Logic ---\n",
    "    if val_loss_epoch < best_val_loss:\n",
    "        best_val_loss = val_loss_epoch\n",
    "        epochs_no_improve = 0  # Reset counter\n",
    "        best_model_state_dict = model.state_dict()\n",
    "        torch.save(best_model_state_dict, \"model_weights_Common_Task_1.pth\")\n",
    "# Save best model\n",
    "    else:\n",
    "        epochs_no_improve += 1\n",
    "        print(f\"No improvement in validation loss for {epochs_no_improve} epochs.\")\n",
    "\n",
    "    if epochs_no_improve >= early_stopping_patience:\n",
    "        print(f\"Early stopping triggered after {epoch+1} epochs!\")\n",
    "        break  # Stop training\n",
    "\n",
    "print(\"Finished training.\")"
   ]
  },
  {
   "cell_type": "code",
   "execution_count": 11,
   "id": "d84c9b82",
   "metadata": {
    "execution": {
     "iopub.execute_input": "2025-04-04T05:32:11.638961Z",
     "iopub.status.busy": "2025-04-04T05:32:11.638598Z",
     "iopub.status.idle": "2025-04-04T05:32:11.899047Z",
     "shell.execute_reply": "2025-04-04T05:32:11.898257Z"
    },
    "papermill": {
     "duration": 1.026277,
     "end_time": "2025-04-04T05:32:11.900473",
     "exception": false,
     "start_time": "2025-04-04T05:32:10.874196",
     "status": "completed"
    },
    "tags": []
   },
   "outputs": [
    {
     "data": {
      "image/png": "[encoded data removed]",
      "text/plain": [
       "<Figure size 600x400 with 1 Axes>"
      ]
     },
     "metadata": {},
     "output_type": "display_data"
    }
   ],
   "source": [
    "epochs = range(1, len(train_loss) + 1)\n",
    "plt.figure(figsize=(6, 4)) \n",
    "plt.plot(epochs, train_loss, 'bo-', label='Train', markersize=5, linewidth=1.5)  # Blue with circles\n",
    "plt.plot(epochs, val_loss, 'rs-', label='Validation', markersize=5, linewidth=1.5)  # Red with squares\n",
    "plt.xlabel('Epochs')\n",
    "plt.ylabel('Loss')\n",
    "plt.title('Loss Curve')\n",
    "plt.legend()\n",
    "plt.grid(True)\n",
    "plt.show()\n"
   ]
  },
  {
   "cell_type": "code",
   "execution_count": 12,
   "id": "e7f701e0",
   "metadata": {
    "execution": {
     "iopub.execute_input": "2025-04-04T05:32:13.326819Z",
     "iopub.status.busy": "2025-04-04T05:32:13.326328Z",
     "iopub.status.idle": "2025-04-04T05:32:13.501775Z",
     "shell.execute_reply": "2025-04-04T05:32:13.500898Z"
    },
    "papermill": {
     "duration": 0.916465,
     "end_time": "2025-04-04T05:32:13.502986",
     "exception": false,
     "start_time": "2025-04-04T05:32:12.586521",
     "status": "completed"
    },
    "tags": []
   },
   "outputs": [
    {
     "data": {
      "image/png": "[encoded data removed]",
      "text/plain": [
       "<Figure size 600x400 with 1 Axes>"
      ]
     },
     "metadata": {},
     "output_type": "display_data"
    }
   ],
   "source": [
    "epochs = range(1, len(train_acc) + 1)\n",
    "plt.figure(figsize=(6, 4))\n",
    "plt.plot(epochs, train_acc, 'bo-', label='Train', markersize=5, linewidth=1.5)\n",
    "plt.plot(epochs, val_acc, 'rs-', label='Validation', markersize=5, linewidth=1.5)\n",
    "plt.xlabel('Epochs')\n",
    "plt.ylabel('Accuracy')\n",
    "plt.title('Accuracy Curve')\n",
    "plt.legend()\n",
    "plt.grid(True)\n",
    "plt.show()"
   ]
  },
  {
   "cell_type": "code",
   "execution_count": 13,
   "id": "ddda5ac9",
   "metadata": {
    "execution": {
     "iopub.execute_input": "2025-04-04T05:32:14.911995Z",
     "iopub.status.busy": "2025-04-04T05:32:14.911473Z",
     "iopub.status.idle": "2025-04-04T05:32:15.086242Z",
     "shell.execute_reply": "2025-04-04T05:32:15.085319Z"
    },
    "papermill": {
     "duration": 0.907048,
     "end_time": "2025-04-04T05:32:15.087496",
     "exception": false,
     "start_time": "2025-04-04T05:32:14.180448",
     "status": "completed"
    },
    "tags": []
   },
   "outputs": [
    {
     "data": {
      "image/png": "[encoded data removed]",
      "text/plain": [
       "<Figure size 640x480 with 1 Axes>"
      ]
     },
     "metadata": {},
     "output_type": "display_data"
    }
   ],
   "source": [
    "plt.plot(epochs, roc_auc_scores_train, 'bo-', label='Train', markersize=5, linewidth=1.5)\n",
    "plt.plot(epochs, roc_auc_scores_val, 'rs-', label='Validation', markersize=5, linewidth=1.5)\n",
    "plt.xlabel('Epoch')\n",
    "plt.ylabel('ROC-AUC')\n",
    "plt.title('ROC-AUC Curve')\n",
    "plt.legend()\n",
    "plt.show()\n"
   ]
  },
  {
   "cell_type": "code",
   "execution_count": 14,
   "id": "322aa460",
   "metadata": {
    "execution": {
     "iopub.execute_input": "2025-04-04T05:32:16.511618Z",
     "iopub.status.busy": "2025-04-04T05:32:16.511328Z",
     "iopub.status.idle": "2025-04-04T05:32:20.487975Z",
     "shell.execute_reply": "2025-04-04T05:32:20.486994Z"
    },
    "papermill": {
     "duration": 4.663204,
     "end_time": "2025-04-04T05:32:20.489384",
     "exception": false,
     "start_time": "2025-04-04T05:32:15.826180",
     "status": "completed"
    },
    "tags": []
   },
   "outputs": [
    {
     "name": "stdout",
     "output_type": "stream",
     "text": [
      "Test Loss: 0.5280, Test Accuracy: 0.7435, Test ROC-AUC: 0.8136\n"
     ]
    }
   ],
   "source": [
    "checkpoint = torch.load(\"/kaggle/working/model_weights_Common_Task_1.pth\")\n",
    "model = ResNet15(BasicBlock, [2, 2, 2]).to(device)\n",
    "model.load_state_dict(checkpoint)\n",
    "model.eval()\n",
    "\n",
    "test_running_loss = 0.0\n",
    "correct_predictions_test = 0\n",
    "total_predictions_test = 0\n",
    "y_true_test = []\n",
    "y_scores_test = []\n",
    "\n",
    "with torch.no_grad():\n",
    "    for inputs_test, labels_test in dataset_loader.val_loader:\n",
    "        inputs_test = inputs_test.to(device)\n",
    "        # Convert labels to float, matching training if necessary\n",
    "        labels_test = labels_test.to(device).float()\n",
    "        \n",
    "        # Permute input dimensions from (B, 32, 32, 2) to (B, 2, 32, 32)\n",
    "        outputs_test = model(inputs_test.permute(0, 3, 1, 2))\n",
    "        \n",
    "        # Option 1: Squeeze if needed to get [batch] shape\n",
    "        if outputs_test.dim() == 2 and outputs_test.size(1) == 1:\n",
    "            outputs_test = outputs_test.squeeze(1)\n",
    "        \n",
    "        test_loss_batch = criterion(outputs_test, labels_test)\n",
    "        test_running_loss += test_loss_batch.item()\n",
    "        \n",
    "        predicted_test = (outputs_test > 0.5).float()\n",
    "        correct_predictions_test += (predicted_test == labels_test).sum().item()\n",
    "        total_predictions_test += labels_test.size(0)\n",
    "        \n",
    "        y_true_test.extend(labels_test.cpu().numpy())\n",
    "        y_scores_test.extend(outputs_test.cpu().detach().numpy())\n",
    "\n",
    "# Use the val_loader length for computing average loss\n",
    "test_loss = test_running_loss / len(dataset_loader.val_loader)\n",
    "test_accuracy = correct_predictions_test / total_predictions_test\n",
    "roc_auc_test = roc_auc_score(y_true_test, y_scores_test)\n",
    "accuracy_test = accuracy_score(y_true_test, (np.array(y_scores_test) > 0.5))\n",
    "\n",
    "print(f\"Test Loss: {test_loss:.4f}, Test Accuracy: {test_accuracy:.4f}, Test ROC-AUC: {roc_auc_test:.4f}\")"
   ]
  },
  {
   "cell_type": "code",
   "execution_count": 15,
   "id": "ce9c29e1",
   "metadata": {
    "execution": {
     "iopub.execute_input": "2025-04-04T05:32:21.949367Z",
     "iopub.status.busy": "2025-04-04T05:32:21.949076Z",
     "iopub.status.idle": "2025-04-04T05:32:22.187641Z",
     "shell.execute_reply": "2025-04-04T05:32:22.186785Z"
    },
    "papermill": {
     "duration": 0.924831,
     "end_time": "2025-04-04T05:32:22.189438",
     "exception": false,
     "start_time": "2025-04-04T05:32:21.264607",
     "status": "completed"
    },
    "tags": []
   },
   "outputs": [
    {
     "data": {
      "image/png": "[encoded data removed]",
      "text/plain": [
       "<Figure size 800x600 with 1 Axes>"
      ]
     },
     "metadata": {},
     "output_type": "display_data"
    }
   ],
   "source": [
    "\n",
    "fpr, tpr, thresholds = roc_curve(y_true_test, y_scores_test)\n",
    "roc_auc = auc(fpr, tpr)\n",
    "plt.figure(figsize=(8, 6))\n",
    "plt.plot(fpr, tpr, color='darkorange', lw=2, label=f'Model ROC curve (AUC = {roc_auc:.4f})')\n",
    "plt.plot([0, 1], [0, 1], color='navy', lw=2, linestyle='--', label='Chance level (AUC = 0.5)')\n",
    "\n",
    "plt.xlim([0.0, 1.0])\n",
    "plt.ylim([0.0, 1.05])\n",
    "plt.xlabel('False Positive Rate (FPR)')\n",
    "plt.ylabel('True Positive Rate (TPR)')\n",
    "plt.title('Receiver Operating Characteristic (ROC) Curve')\n",
    "plt.legend(loc=\"lower right\")\n",
    "plt.grid(True)\n",
    "plt.show()\n"
   ]
  },
  {
   "cell_type": "code",
   "execution_count": null,
   "id": "e5ceabf0",
   "metadata": {
    "papermill": {
     "duration": 0.782772,
     "end_time": "2025-04-04T05:32:23.707089",
     "exception": false,
     "start_time": "2025-04-04T05:32:22.924317",
     "status": "completed"
    },
    "tags": []
   },
   "outputs": [],
   "source": []
  }
 ],
 "metadata": {
  "kaggle": {
   "accelerator": "gpu",
   "dataSources": [
    {
     "datasetId": 4541045,
     "sourceId": 7764043,
     "sourceType": "datasetVersion"
    }
   ],
   "dockerImageVersionId": 30919,
   "isGpuEnabled": true,
   "isInternetEnabled": true,
   "language": "python",
   "sourceType": "notebook"
  },
  "kernelspec": {
   "display_name": "Python 3",
   "language": "python",
   "name": "python3"
  },
  "language_info": {
   "codemirror_mode": {
    "name": "ipython",
    "version": 3
   },
   "file_extension": ".py",
   "mimetype": "text/x-python",
   "name": "python",
   "nbconvert_exporter": "python",
   "pygments_lexer": "ipython3",
   "version": "3.10.12"
  },
  "papermill": {
   "default_parameters": {},
   "duration": 3182.139045,
   "end_time": "2025-04-04T05:32:26.860976",
   "environment_variables": {},
   "exception": null,
   "input_path": "__notebook__.ipynb",
   "output_path": "__notebook__.ipynb",
   "parameters": {},
   "start_time": "2025-04-04T04:39:24.721931",
   "version": "2.3.4"
  }
 },
 "nbformat": 4,
 "nbformat_minor": 5
}
