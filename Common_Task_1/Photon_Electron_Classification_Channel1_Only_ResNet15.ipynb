{
 "cells": [
  {
   "cell_type": "code",
   "execution_count": null,
   "id": "ddf10191",
   "metadata": {
    "execution": {
     "iopub.execute_input": "2025-04-03T08:29:08.990370Z",
     "iopub.status.busy": "2025-04-03T08:29:08.990095Z",
     "iopub.status.idle": "2025-04-03T08:29:18.995035Z",
     "shell.execute_reply": "2025-04-03T08:29:18.994297Z"
    },
    "papermill": {
     "duration": 10.011634,
     "end_time": "2025-04-03T08:29:18.996631",
     "exception": false,
     "start_time": "2025-04-03T08:29:08.984997",
     "status": "completed"
    },
    "tags": []
   },
   "outputs": [],
   "source": [
    "import os\n",
    "import cv2\n",
    "import h5py\n",
    "import pyarrow.parquet as pq\n",
    "import pandas as pd\n",
    "import numpy as np\n",
    "import matplotlib.pyplot as plt\n",
    "import seaborn as sns\n",
    "from tqdm import tqdm\n",
    "from statistics import mean\n",
    "from sklearn.metrics import accuracy_score, roc_auc_score, f1_score, roc_curve, auc\n",
    "\n",
    "from sklearn.model_selection import StratifiedKFold, train_test_split\n",
    "from sklearn.preprocessing import StandardScaler\n",
    "\n",
    "import torch\n",
    "import torch.nn as nn\n",
    "import torch.optim as optim\n",
    "from torch.optim import lr_scheduler\n",
    "from torch.utils.data import DataLoader, TensorDataset\n",
    "from torch.optim.lr_scheduler import CosineAnnealingLR, StepLR\n",
    "from torch.utils.data.sampler import SubsetRandomSampler, BatchSampler, Sampler\n",
    "from torch.optim import Adam, SGD\n",
    "from torchvision import transforms, models\n",
    "from torchvision.models import resnet18  \n",
    "from torchvision.transforms import Resize, ToTensor\n",
    "from torch.cuda.amp import autocast, GradScaler\n",
    "import torch.nn.functional as F\n",
    "from PIL import Image\n",
    "\n",
    "torch.manual_seed(42)\n",
    "np.random.seed(42)\n",
    "torch.cuda.manual_seed(42)\n",
    "device = torch.device(\"cuda\" if torch.cuda.is_available() else \"cpu\")\n",
    "\n",
    "import warnings\n",
    "warnings.filterwarnings('ignore')"
   ]
  },
  {
   "cell_type": "code",
   "execution_count": 2,
   "id": "a54766a1",
   "metadata": {
    "execution": {
     "iopub.execute_input": "2025-04-03T08:29:19.004868Z",
     "iopub.status.busy": "2025-04-03T08:29:19.004441Z",
     "iopub.status.idle": "2025-04-03T08:29:19.024401Z",
     "shell.execute_reply": "2025-04-03T08:29:19.023572Z"
    },
    "papermill": {
     "duration": 0.025282,
     "end_time": "2025-04-03T08:29:19.025798",
     "exception": false,
     "start_time": "2025-04-03T08:29:19.000516",
     "status": "completed"
    },
    "tags": []
   },
   "outputs": [
    {
     "name": "stdout",
     "output_type": "stream",
     "text": [
      "['X', 'y']\n",
      "['X', 'y']\n"
     ]
    }
   ],
   "source": [
    "\n",
    "file_path_1 = '/kaggle/input/common-task1/SingleElectronPt50_IMGCROPS_n249k_RHv1.hdf5'\n",
    "file_path_2 = '/kaggle/input/common-task1/SinglePhotonPt50_IMGCROPS_n249k_RHv1.hdf5'\n",
    "with h5py.File(file_path_1, 'r') as file:\n",
    "    print(list(file.keys()))\n",
    "    \n",
    "with h5py.File(file_path_2, 'r') as file:\n",
    "    print(list(file.keys()))"
   ]
  },
  {
   "cell_type": "code",
   "execution_count": 3,
   "id": "5fbc817f",
   "metadata": {
    "execution": {
     "iopub.execute_input": "2025-04-03T08:29:19.033915Z",
     "iopub.status.busy": "2025-04-03T08:29:19.033674Z",
     "iopub.status.idle": "2025-04-03T08:29:32.336911Z",
     "shell.execute_reply": "2025-04-03T08:29:32.336052Z"
    },
    "papermill": {
     "duration": 13.308731,
     "end_time": "2025-04-03T08:29:32.338571",
     "exception": false,
     "start_time": "2025-04-03T08:29:19.029840",
     "status": "completed"
    },
    "tags": []
   },
   "outputs": [],
   "source": [
    "\n",
    "with h5py.File(file_path_1, 'r') as file:\n",
    "    X1 = file['X'][:]\n",
    "    y1 = file['y'][:]\n",
    "    \n",
    "with h5py.File(file_path_2, 'r') as file:\n",
    "    X2 = file['X'][:]\n",
    "    y2 = file['y'][:]"
   ]
  },
  {
   "cell_type": "code",
   "execution_count": 4,
   "id": "cf2fe4a0",
   "metadata": {
    "execution": {
     "iopub.execute_input": "2025-04-03T08:29:32.346900Z",
     "iopub.status.busy": "2025-04-03T08:29:32.346641Z",
     "iopub.status.idle": "2025-04-03T08:29:36.189234Z",
     "shell.execute_reply": "2025-04-03T08:29:36.188359Z"
    },
    "papermill": {
     "duration": 3.848394,
     "end_time": "2025-04-03T08:29:36.190747",
     "exception": false,
     "start_time": "2025-04-03T08:29:32.342353",
     "status": "completed"
    },
    "tags": []
   },
   "outputs": [
    {
     "name": "stdout",
     "output_type": "stream",
     "text": [
      "Shape of X: (498000, 32, 32, 2)\n",
      "Shape of y: (498000,)\n"
     ]
    }
   ],
   "source": [
    "\n",
    "X = np.concatenate([X1, X2])\n",
    "y = np.concatenate([y1, y2])\n",
    "print(\"Shape of X:\", X.shape)\n",
    "print(\"Shape of y:\", y.shape)\n",
    "X = X.astype('float32') / 255.0\n",
    "X= X[:,:,:, 0:1]\n"
   ]
  },
  {
   "cell_type": "code",
   "execution_count": 5,
   "id": "7b453205",
   "metadata": {
    "execution": {
     "iopub.execute_input": "2025-04-03T08:29:36.198689Z",
     "iopub.status.busy": "2025-04-03T08:29:36.198408Z",
     "iopub.status.idle": "2025-04-03T08:29:37.200109Z",
     "shell.execute_reply": "2025-04-03T08:29:37.199403Z"
    },
    "papermill": {
     "duration": 1.007047,
     "end_time": "2025-04-03T08:29:37.201515",
     "exception": false,
     "start_time": "2025-04-03T08:29:36.194468",
     "status": "completed"
    },
    "tags": []
   },
   "outputs": [],
   "source": [
    "\n",
    "X_train, X_val, y_train, y_val = train_test_split(X, y, test_size=0.2, random_state=42, stratify = y)"
   ]
  },
  {
   "cell_type": "code",
   "execution_count": 6,
   "id": "d14c1481",
   "metadata": {
    "execution": {
     "iopub.execute_input": "2025-04-03T08:29:37.209422Z",
     "iopub.status.busy": "2025-04-03T08:29:37.209202Z",
     "iopub.status.idle": "2025-04-03T08:29:37.214775Z",
     "shell.execute_reply": "2025-04-03T08:29:37.214157Z"
    },
    "papermill": {
     "duration": 0.010768,
     "end_time": "2025-04-03T08:29:37.215973",
     "exception": false,
     "start_time": "2025-04-03T08:29:37.205205",
     "status": "completed"
    },
    "tags": []
   },
   "outputs": [],
   "source": [
    "class BasicBlock(nn.Module):\n",
    "    expansion = 1\n",
    "\n",
    "    def __init__(self, in_planes, planes, stride=1):\n",
    "        super(BasicBlock, self).__init__()\n",
    "        self.conv1 = nn.Conv2d(in_planes, planes, kernel_size=3, stride=stride, padding=1, bias=False)\n",
    "        self.bn1 = nn.BatchNorm2d(planes)\n",
    "        self.conv2 = nn.Conv2d(planes, planes, kernel_size=3, stride=1, padding=1, bias=False)\n",
    "        self.bn2 = nn.BatchNorm2d(planes)\n",
    "\n",
    "        self.shortcut = nn.Sequential()\n",
    "        if stride != 1 or in_planes != self.expansion*planes:\n",
    "            self.shortcut = nn.Sequential(\n",
    "                nn.Conv2d(in_planes, self.expansion*planes, kernel_size=1, stride=stride, bias=False),\n",
    "                nn.BatchNorm2d(self.expansion*planes)\n",
    "            )\n",
    "\n",
    "    def forward(self, x):\n",
    "        out = F.relu(self.bn1(self.conv1(x)))\n",
    "        out = self.bn2(self.conv2(out))\n",
    "        out += self.shortcut(x)\n",
    "        out = F.relu(out)\n",
    "        return out\n"
   ]
  },
  {
   "cell_type": "code",
   "execution_count": 7,
   "id": "b4252a86",
   "metadata": {
    "execution": {
     "iopub.execute_input": "2025-04-03T08:29:37.223227Z",
     "iopub.status.busy": "2025-04-03T08:29:37.223028Z",
     "iopub.status.idle": "2025-04-03T08:29:37.229111Z",
     "shell.execute_reply": "2025-04-03T08:29:37.228563Z"
    },
    "papermill": {
     "duration": 0.010952,
     "end_time": "2025-04-03T08:29:37.230224",
     "exception": false,
     "start_time": "2025-04-03T08:29:37.219272",
     "status": "completed"
    },
    "tags": []
   },
   "outputs": [],
   "source": [
    "class ResNet15(nn.Module):\n",
    "    def __init__(self, block, num_blocks, num_classes=1):\n",
    "        super(ResNet15, self).__init__()\n",
    "        self.in_planes = 16\n",
    "\n",
    "        self.conv1 = nn.Conv2d(1, 16, kernel_size=3, stride=1, padding=1, bias=False)\n",
    "        self.bn1 = nn.BatchNorm2d(16)\n",
    "        self.layer1 = self._make_layer(block, 16, num_blocks[0], stride=1)\n",
    "        self.layer2 = self._make_layer(block, 32, num_blocks[1], stride=2)\n",
    "        self.layer3 = self._make_layer(block, 64, num_blocks[2], stride=2)\n",
    "        self.linear = nn.Linear(64, num_classes)\n",
    "\n",
    "    def _make_layer(self, block, planes, num_blocks, stride):\n",
    "        strides = [stride] + [1]*(num_blocks-1)\n",
    "        layers = []\n",
    "        for stride in strides:\n",
    "            layers.append(block(self.in_planes, planes, stride))\n",
    "            self.in_planes = planes * block.expansion\n",
    "        return nn.Sequential(*layers)\n",
    "\n",
    "    def forward(self, x):\n",
    "        out = F.relu(self.bn1(self.conv1(x)))\n",
    "        out = self.layer1(out)\n",
    "        out = self.layer2(out)\n",
    "        out = self.layer3(out)\n",
    "        out = F.avg_pool2d(out, 8)\n",
    "        out = out.view(out.size(0), -1)\n",
    "        out = self.linear(out)\n",
    "        return torch.sigmoid(out).squeeze(dim=1)\n"
   ]
  },
  {
   "cell_type": "code",
   "execution_count": 8,
   "id": "d25b1586",
   "metadata": {
    "execution": {
     "iopub.execute_input": "2025-04-03T08:29:37.237625Z",
     "iopub.status.busy": "2025-04-03T08:29:37.237389Z",
     "iopub.status.idle": "2025-04-03T08:29:38.054659Z",
     "shell.execute_reply": "2025-04-03T08:29:38.053902Z"
    },
    "papermill": {
     "duration": 0.822639,
     "end_time": "2025-04-03T08:29:38.056219",
     "exception": false,
     "start_time": "2025-04-03T08:29:37.233580",
     "status": "completed"
    },
    "tags": []
   },
   "outputs": [],
   "source": [
    "\n",
    "class DatasetLoader:\n",
    "    def __init__(self, X_train, y_train, X_val, y_val, batch_size):\n",
    "        self.batch_size = batch_size\n",
    "        self.train_loader = self.create_dataloader(X_train, y_train, shuffle=True)\n",
    "        self.val_loader = self.create_dataloader(X_val, y_val, shuffle=False)\n",
    "\n",
    "    def create_dataloader(self, X, y, shuffle):\n",
    "        X_tensor = torch.tensor(X, dtype=torch.float32)\n",
    "        y_tensor = torch.tensor(y, dtype=torch.float32)# Change to long() if classification\n",
    "        dataset = TensorDataset(X_tensor, y_tensor)\n",
    "        return DataLoader(dataset, batch_size=batch_size, shuffle=shuffle, drop_last=True)\n",
    "batch_size = 256\n",
    "dataset_loader = DatasetLoader(X_train, y_train, X_val, y_val, 256)"
   ]
  },
  {
   "cell_type": "code",
   "execution_count": 9,
   "id": "6c4ab0ec",
   "metadata": {
    "execution": {
     "iopub.execute_input": "2025-04-03T08:29:38.066090Z",
     "iopub.status.busy": "2025-04-03T08:29:38.065834Z",
     "iopub.status.idle": "2025-04-03T08:29:38.273934Z",
     "shell.execute_reply": "2025-04-03T08:29:38.273200Z"
    },
    "papermill": {
     "duration": 0.214374,
     "end_time": "2025-04-03T08:29:38.275475",
     "exception": false,
     "start_time": "2025-04-03T08:29:38.061101",
     "status": "completed"
    },
    "tags": []
   },
   "outputs": [],
   "source": [
    "\n",
    "model = ResNet15(BasicBlock, [2, 2, 2]).to(device)\n",
    "criterion = nn.BCELoss()\n",
    "optimizer = optim.AdamW(model.parameters(), lr=0.001, weight_decay=1e-4) # Example value\n",
    "scheduler = torch.optim.lr_scheduler.CosineAnnealingLR(optimizer, T_max=20, eta_min=5e-8, last_epoch=-1, verbose=True)"
   ]
  },
  {
   "cell_type": "code",
   "execution_count": 10,
   "id": "cee2402e",
   "metadata": {
    "execution": {
     "iopub.execute_input": "2025-04-03T08:29:38.283767Z",
     "iopub.status.busy": "2025-04-03T08:29:38.283456Z",
     "iopub.status.idle": "2025-04-03T09:22:03.857788Z",
     "shell.execute_reply": "2025-04-03T09:22:03.856911Z"
    },
    "papermill": {
     "duration": 3146.35061,
     "end_time": "2025-04-03T09:22:04.629895",
     "exception": false,
     "start_time": "2025-04-03T08:29:38.279285",
     "status": "completed"
    },
    "tags": []
   },
   "outputs": [
    {
     "name": "stderr",
     "output_type": "stream",
     "text": [
      "                                                               \r"
     ]
    },
    {
     "name": "stdout",
     "output_type": "stream",
     "text": [
      "Epoch 1, Train Loss: 0.5757, Val Loss: 0.7264, Train Acc: 0.7060, Val Acc: 0.5026, Train ROC-AUC: 0.767, Val ROC-AUC: 0.477\n"
     ]
    },
    {
     "name": "stderr",
     "output_type": "stream",
     "text": [
      "                                                               \r"
     ]
    },
    {
     "name": "stdout",
     "output_type": "stream",
     "text": [
      "Epoch 2, Train Loss: 0.5557, Val Loss: 0.7379, Train Acc: 0.7236, Val Acc: 0.5033, Train ROC-AUC: 0.788, Val ROC-AUC: 0.338\n",
      "No improvement in validation loss for 1 epochs.\n"
     ]
    },
    {
     "name": "stderr",
     "output_type": "stream",
     "text": [
      "                                                               \r"
     ]
    },
    {
     "name": "stdout",
     "output_type": "stream",
     "text": [
      "Epoch 3, Train Loss: 0.5495, Val Loss: 0.5870, Train Acc: 0.7277, Val Acc: 0.7096, Train ROC-AUC: 0.794, Val ROC-AUC: 0.782\n"
     ]
    },
    {
     "name": "stderr",
     "output_type": "stream",
     "text": [
      "                                                               \r"
     ]
    },
    {
     "name": "stdout",
     "output_type": "stream",
     "text": [
      "Epoch 4, Train Loss: 0.5457, Val Loss: 0.9586, Train Acc: 0.7304, Val Acc: 0.5000, Train ROC-AUC: 0.797, Val ROC-AUC: 0.417\n",
      "No improvement in validation loss for 1 epochs.\n"
     ]
    },
    {
     "name": "stderr",
     "output_type": "stream",
     "text": [
      "                                                               \r"
     ]
    },
    {
     "name": "stdout",
     "output_type": "stream",
     "text": [
      "Epoch 5, Train Loss: 0.5423, Val Loss: 0.7679, Train Acc: 0.7323, Val Acc: 0.4930, Train ROC-AUC: 0.801, Val ROC-AUC: 0.457\n",
      "No improvement in validation loss for 2 epochs.\n"
     ]
    },
    {
     "name": "stderr",
     "output_type": "stream",
     "text": [
      "                                                               \r"
     ]
    },
    {
     "name": "stdout",
     "output_type": "stream",
     "text": [
      "Epoch 6, Train Loss: 0.5395, Val Loss: 0.5651, Train Acc: 0.7348, Val Acc: 0.7205, Train ROC-AUC: 0.803, Val ROC-AUC: 0.790\n"
     ]
    },
    {
     "name": "stderr",
     "output_type": "stream",
     "text": [
      "                                                               \r"
     ]
    },
    {
     "name": "stdout",
     "output_type": "stream",
     "text": [
      "Epoch 7, Train Loss: 0.5371, Val Loss: 0.5593, Train Acc: 0.7357, Val Acc: 0.7298, Train ROC-AUC: 0.805, Val ROC-AUC: 0.801\n"
     ]
    },
    {
     "name": "stderr",
     "output_type": "stream",
     "text": [
      "                                                               \r"
     ]
    },
    {
     "name": "stdout",
     "output_type": "stream",
     "text": [
      "Epoch 8, Train Loss: 0.5342, Val Loss: 0.5713, Train Acc: 0.7376, Val Acc: 0.7154, Train ROC-AUC: 0.808, Val ROC-AUC: 0.789\n",
      "No improvement in validation loss for 1 epochs.\n"
     ]
    },
    {
     "name": "stderr",
     "output_type": "stream",
     "text": [
      "                                                               \r"
     ]
    },
    {
     "name": "stdout",
     "output_type": "stream",
     "text": [
      "Epoch 9, Train Loss: 0.5321, Val Loss: 0.7365, Train Acc: 0.7391, Val Acc: 0.5458, Train ROC-AUC: 0.810, Val ROC-AUC: 0.696\n",
      "No improvement in validation loss for 2 epochs.\n"
     ]
    },
    {
     "name": "stderr",
     "output_type": "stream",
     "text": [
      "                                                                \r"
     ]
    },
    {
     "name": "stdout",
     "output_type": "stream",
     "text": [
      "Epoch 10, Train Loss: 0.5300, Val Loss: 0.5361, Train Acc: 0.7408, Val Acc: 0.7383, Train ROC-AUC: 0.811, Val ROC-AUC: 0.809\n"
     ]
    },
    {
     "name": "stderr",
     "output_type": "stream",
     "text": [
      "                                                                \r"
     ]
    },
    {
     "name": "stdout",
     "output_type": "stream",
     "text": [
      "Epoch 11, Train Loss: 0.5280, Val Loss: 0.5784, Train Acc: 0.7416, Val Acc: 0.7097, Train ROC-AUC: 0.813, Val ROC-AUC: 0.780\n",
      "No improvement in validation loss for 1 epochs.\n"
     ]
    },
    {
     "name": "stderr",
     "output_type": "stream",
     "text": [
      "                                                                \r"
     ]
    },
    {
     "name": "stdout",
     "output_type": "stream",
     "text": [
      "Epoch 12, Train Loss: 0.5251, Val Loss: 0.5302, Train Acc: 0.7436, Val Acc: 0.7410, Train ROC-AUC: 0.816, Val ROC-AUC: 0.812\n"
     ]
    },
    {
     "name": "stderr",
     "output_type": "stream",
     "text": [
      "                                                                \r"
     ]
    },
    {
     "name": "stdout",
     "output_type": "stream",
     "text": [
      "Epoch 13, Train Loss: 0.5230, Val Loss: 0.5501, Train Acc: 0.7448, Val Acc: 0.7322, Train ROC-AUC: 0.817, Val ROC-AUC: 0.805\n",
      "No improvement in validation loss for 1 epochs.\n"
     ]
    },
    {
     "name": "stderr",
     "output_type": "stream",
     "text": [
      "                                                                \r"
     ]
    },
    {
     "name": "stdout",
     "output_type": "stream",
     "text": [
      "Epoch 14, Train Loss: 0.5203, Val Loss: 0.5741, Train Acc: 0.7469, Val Acc: 0.6975, Train ROC-AUC: 0.820, Val ROC-AUC: 0.792\n",
      "No improvement in validation loss for 2 epochs.\n"
     ]
    },
    {
     "name": "stderr",
     "output_type": "stream",
     "text": [
      "                                                                \r"
     ]
    },
    {
     "name": "stdout",
     "output_type": "stream",
     "text": [
      "Epoch 15, Train Loss: 0.5177, Val Loss: 0.5290, Train Acc: 0.7486, Val Acc: 0.7434, Train ROC-AUC: 0.822, Val ROC-AUC: 0.814\n"
     ]
    },
    {
     "name": "stderr",
     "output_type": "stream",
     "text": [
      "                                                                \r"
     ]
    },
    {
     "name": "stdout",
     "output_type": "stream",
     "text": [
      "Epoch 16, Train Loss: 0.5152, Val Loss: 0.5301, Train Acc: 0.7501, Val Acc: 0.7401, Train ROC-AUC: 0.824, Val ROC-AUC: 0.811\n",
      "No improvement in validation loss for 1 epochs.\n"
     ]
    },
    {
     "name": "stderr",
     "output_type": "stream",
     "text": [
      "                                                                \r"
     ]
    },
    {
     "name": "stdout",
     "output_type": "stream",
     "text": [
      "Epoch 17, Train Loss: 0.5133, Val Loss: 0.5271, Train Acc: 0.7515, Val Acc: 0.7431, Train ROC-AUC: 0.825, Val ROC-AUC: 0.814\n"
     ]
    },
    {
     "name": "stderr",
     "output_type": "stream",
     "text": [
      "                                                                \r"
     ]
    },
    {
     "name": "stdout",
     "output_type": "stream",
     "text": [
      "Epoch 18, Train Loss: 0.5113, Val Loss: 0.5257, Train Acc: 0.7526, Val Acc: 0.7452, Train ROC-AUC: 0.827, Val ROC-AUC: 0.815\n"
     ]
    },
    {
     "name": "stderr",
     "output_type": "stream",
     "text": [
      "                                                                \r"
     ]
    },
    {
     "name": "stdout",
     "output_type": "stream",
     "text": [
      "Epoch 19, Train Loss: 0.5099, Val Loss: 0.5257, Train Acc: 0.7537, Val Acc: 0.7447, Train ROC-AUC: 0.828, Val ROC-AUC: 0.816\n",
      "No improvement in validation loss for 1 epochs.\n"
     ]
    },
    {
     "name": "stderr",
     "output_type": "stream",
     "text": [
      "                                                                \r"
     ]
    },
    {
     "name": "stdout",
     "output_type": "stream",
     "text": [
      "Epoch 20, Train Loss: 0.5091, Val Loss: 0.5254, Train Acc: 0.7541, Val Acc: 0.7445, Train ROC-AUC: 0.829, Val ROC-AUC: 0.816\n",
      "Finished training.\n"
     ]
    }
   ],
   "source": [
    "\n",
    "train_loss = []\n",
    "val_loss = []\n",
    "train_acc = []\n",
    "val_acc = []\n",
    "roc_auc_scores_train = []  \n",
    "roc_auc_scores_val = []    \n",
    "epoch_count = []\n",
    "\n",
    "best_roc_auc = 0.0\n",
    "best_model_state_dict = None\n",
    "best_val_loss = float('inf')  # Initialize best validation loss\n",
    "epochs_no_improve = 0  # Counter for early stopping\n",
    "early_stopping_patience = 5  # Stop if no improvement for this many epochs\n",
    "num_epochs = 20\n",
    "\n",
    "for epoch in range(num_epochs):\n",
    "    running_loss = 0.0\n",
    "    correct_predictions = 0\n",
    "    total_predictions = 0\n",
    "    y_true = []\n",
    "    y_scores = []\n",
    "\n",
    "    model.train()\n",
    "    with tqdm(dataset_loader.train_loader, desc=f\"Epoch {epoch+1}/{num_epochs}\", leave=False) as train_loader_with_progress:\n",
    "        for i, data in enumerate(train_loader_with_progress, 0):\n",
    "            inputs, labels = data\n",
    "            inputs, labels = inputs.to(device), labels.to(device).float()  # Convert labels to float for BCE loss\n",
    "            optimizer.zero_grad()\n",
    "            \n",
    "            outputs = model(inputs.permute(0, 3, 1, 2))            \n",
    "            loss = criterion(outputs, labels)\n",
    "            loss.backward()\n",
    "            optimizer.step()\n",
    "            running_loss += loss.item()\n",
    "\n",
    "            predicted = ((outputs) > 0.5).float()  \n",
    "            correct_predictions += (predicted == labels).sum().item()\n",
    "            total_predictions += labels.size(0)\n",
    "\n",
    "            y_true.extend(labels.cpu().numpy())\n",
    "            y_scores.extend((outputs).cpu().detach().numpy())  \n",
    "\n",
    "    train_loss.append(running_loss / len(dataset_loader.train_loader))\n",
    "    train_accuracy = correct_predictions / total_predictions\n",
    "    train_acc.append(train_accuracy)\n",
    "    epoch_count.append(epoch + 1)\n",
    "    roc_auc_train = roc_auc_score(y_true, y_scores)\n",
    "    roc_auc_scores_train.append(roc_auc_train)\n",
    "\n",
    "    # --- Validation Phase ---\n",
    "    model.eval()\n",
    "    val_running_loss = 0.0\n",
    "    correct_predictions_val = 0\n",
    "    total_predictions_val = 0\n",
    "    y_true_val = []\n",
    "    y_scores_val = []\n",
    "\n",
    "    with torch.no_grad():\n",
    "        for inputs_val, labels_val in dataset_loader.val_loader:\n",
    "            inputs_val, labels_val = inputs_val.to(device), labels_val.to(device).float()  \n",
    "            \n",
    "            outputs_val = model(inputs_val.permute(0, 3, 1, 2))\n",
    "            val_loss_batch = criterion(outputs_val, labels_val)\n",
    "            val_running_loss += val_loss_batch.item()\n",
    "\n",
    "            predicted_val = ((outputs_val) > 0.5).float()  \n",
    "            correct_predictions_val += (predicted_val == labels_val).sum().item()\n",
    "            total_predictions_val += labels_val.size(0)\n",
    "\n",
    "            y_true_val.extend(labels_val.cpu().numpy())\n",
    "            y_scores_val.extend((outputs_val).cpu().detach().numpy())  \n",
    "\n",
    "    val_loss_epoch = val_running_loss / len(dataset_loader.val_loader)\n",
    "    val_loss.append(val_loss_epoch)\n",
    "    val_accuracy = correct_predictions_val / total_predictions_val\n",
    "    val_acc.append(val_accuracy)\n",
    "    roc_auc_val = roc_auc_score(y_true_val, y_scores_val)\n",
    "    roc_auc_scores_val.append(roc_auc_val)\n",
    "\n",
    "    print(f\"Epoch {epoch+1}, Train Loss: {train_loss[-1]:.4f}, Val Loss: {val_loss_epoch:.4f}, Train Acc: {train_accuracy:.4f}, Val Acc: {val_accuracy:.4f}, Train ROC-AUC: {roc_auc_train:.3f}, Val ROC-AUC: {roc_auc_val:.3f}\")\n",
    "\n",
    "    scheduler.step()\n",
    "\n",
    "    # --- Early Stopping Logic ---\n",
    "    if val_loss_epoch < best_val_loss:\n",
    "        best_val_loss = val_loss_epoch\n",
    "        epochs_no_improve = 0  # Reset counter\n",
    "        best_model_state_dict = model.state_dict()\n",
    "        torch.save(best_model_state_dict, \"model_weights_Common_Task_1.pth\")\n",
    "# Save best model\n",
    "    else:\n",
    "        epochs_no_improve += 1\n",
    "        print(f\"No improvement in validation loss for {epochs_no_improve} epochs.\")\n",
    "\n",
    "    if epochs_no_improve >= early_stopping_patience:\n",
    "        print(f\"Early stopping triggered after {epoch+1} epochs!\")\n",
    "        break  # Stop training\n",
    "\n",
    "print(\"Finished training.\")"
   ]
  },
  {
   "cell_type": "code",
   "execution_count": 11,
   "id": "fc65a500",
   "metadata": {
    "execution": {
     "iopub.execute_input": "2025-04-03T09:22:06.127484Z",
     "iopub.status.busy": "2025-04-03T09:22:06.127163Z",
     "iopub.status.idle": "2025-04-03T09:22:06.422097Z",
     "shell.execute_reply": "2025-04-03T09:22:06.421184Z"
    },
    "papermill": {
     "duration": 1.091647,
     "end_time": "2025-04-03T09:22:06.423765",
     "exception": false,
     "start_time": "2025-04-03T09:22:05.332118",
     "status": "completed"
    },
    "tags": []
   },
   "outputs": [
    {
     "data": {
      "image/png": "[encoded data removed]",
      "text/plain": [
       "<Figure size 600x400 with 1 Axes>"
      ]
     },
     "metadata": {},
     "output_type": "display_data"
    }
   ],
   "source": [
    "epochs = range(1, len(train_loss) + 1)\n",
    "plt.figure(figsize=(6, 4)) \n",
    "plt.plot(epochs, train_loss, 'bo-', label='Train', markersize=5, linewidth=1.5)  # Blue with circles\n",
    "plt.plot(epochs, val_loss, 'rs-', label='Validation', markersize=5, linewidth=1.5)  # Red with squares\n",
    "plt.xlabel('Epochs')\n",
    "plt.ylabel('Loss')\n",
    "plt.title('Loss Curve')\n",
    "plt.legend()\n",
    "plt.grid(True)\n",
    "plt.show()\n"
   ]
  },
  {
   "cell_type": "code",
   "execution_count": 12,
   "id": "81b2a6a4",
   "metadata": {
    "execution": {
     "iopub.execute_input": "2025-04-03T09:22:07.900159Z",
     "iopub.status.busy": "2025-04-03T09:22:07.899822Z",
     "iopub.status.idle": "2025-04-03T09:22:08.088715Z",
     "shell.execute_reply": "2025-04-03T09:22:08.087848Z"
    },
    "papermill": {
     "duration": 0.945668,
     "end_time": "2025-04-03T09:22:08.090185",
     "exception": false,
     "start_time": "2025-04-03T09:22:07.144517",
     "status": "completed"
    },
    "tags": []
   },
   "outputs": [
    {
     "data": {
      "image/png": "[encoded data removed]",
      "text/plain": [
       "<Figure size 600x400 with 1 Axes>"
      ]
     },
     "metadata": {},
     "output_type": "display_data"
    }
   ],
   "source": [
    "epochs = range(1, len(train_acc) + 1)\n",
    "plt.figure(figsize=(6, 4))\n",
    "plt.plot(epochs, train_acc, 'bo-', label='Train', markersize=5, linewidth=1.5)\n",
    "plt.plot(epochs, val_acc, 'rs-', label='Validation', markersize=5, linewidth=1.5)\n",
    "plt.xlabel('Epochs')\n",
    "plt.ylabel('Accuracy')\n",
    "plt.title('Accuracy Curve')\n",
    "plt.legend()\n",
    "plt.grid(True)\n",
    "plt.show()"
   ]
  },
  {
   "cell_type": "code",
   "execution_count": 13,
   "id": "39be1578",
   "metadata": {
    "execution": {
     "iopub.execute_input": "2025-04-03T09:22:09.562947Z",
     "iopub.status.busy": "2025-04-03T09:22:09.562619Z",
     "iopub.status.idle": "2025-04-03T09:22:09.739080Z",
     "shell.execute_reply": "2025-04-03T09:22:09.738202Z"
    },
    "papermill": {
     "duration": 0.878262,
     "end_time": "2025-04-03T09:22:09.740477",
     "exception": false,
     "start_time": "2025-04-03T09:22:08.862215",
     "status": "completed"
    },
    "tags": []
   },
   "outputs": [
    {
     "data": {
      "image/png": "[encoded data removed]",
      "text/plain": [
       "<Figure size 640x480 with 1 Axes>"
      ]
     },
     "metadata": {},
     "output_type": "display_data"
    }
   ],
   "source": [
    "plt.plot(epochs, roc_auc_scores_train, 'bo-', label='Train', markersize=5, linewidth=1.5)\n",
    "plt.plot(epochs, roc_auc_scores_val, 'rs-', label='Validation', markersize=5, linewidth=1.5)\n",
    "plt.xlabel('Epoch')\n",
    "plt.ylabel('ROC-AUC')\n",
    "plt.title('ROC-AUC Curve')\n",
    "plt.legend()\n",
    "plt.show()\n"
   ]
  },
  {
   "cell_type": "code",
   "execution_count": 14,
   "id": "69da737b",
   "metadata": {
    "execution": {
     "iopub.execute_input": "2025-04-03T09:22:11.210949Z",
     "iopub.status.busy": "2025-04-03T09:22:11.210393Z",
     "iopub.status.idle": "2025-04-03T09:22:15.097166Z",
     "shell.execute_reply": "2025-04-03T09:22:15.096110Z"
    },
    "papermill": {
     "duration": 4.589537,
     "end_time": "2025-04-03T09:22:15.098791",
     "exception": false,
     "start_time": "2025-04-03T09:22:10.509254",
     "status": "completed"
    },
    "tags": []
   },
   "outputs": [
    {
     "name": "stdout",
     "output_type": "stream",
     "text": [
      "Test Loss: 0.5254, Test Accuracy: 0.7445, Test ROC-AUC: 0.8158\n"
     ]
    }
   ],
   "source": [
    "checkpoint = torch.load(\"/kaggle/working/model_weights_Common_Task_1.pth\")\n",
    "model = ResNet15(BasicBlock, [2, 2, 2]).to(device)\n",
    "model.load_state_dict(checkpoint)\n",
    "model.eval()\n",
    "\n",
    "test_running_loss = 0.0\n",
    "correct_predictions_test = 0\n",
    "total_predictions_test = 0\n",
    "y_true_test = []\n",
    "y_scores_test = []\n",
    "\n",
    "with torch.no_grad():\n",
    "    for inputs_test, labels_test in dataset_loader.val_loader:\n",
    "        inputs_test = inputs_test.to(device)\n",
    "        # Convert labels to float, matching training if necessary\n",
    "        labels_test = labels_test.to(device).float()\n",
    "        \n",
    "        # Permute input dimensions from (B, 32, 32, 2) to (B, 2, 32, 32)\n",
    "        outputs_test = model(inputs_test.permute(0, 3, 1, 2))\n",
    "        \n",
    "        # Option 1: Squeeze if needed to get [batch] shape\n",
    "        if outputs_test.dim() == 2 and outputs_test.size(1) == 1:\n",
    "            outputs_test = outputs_test.squeeze(1)\n",
    "        \n",
    "        test_loss_batch = criterion(outputs_test, labels_test)\n",
    "        test_running_loss += test_loss_batch.item()\n",
    "        \n",
    "        predicted_test = (outputs_test > 0.5).float()\n",
    "        correct_predictions_test += (predicted_test == labels_test).sum().item()\n",
    "        total_predictions_test += labels_test.size(0)\n",
    "        \n",
    "        y_true_test.extend(labels_test.cpu().numpy())\n",
    "        y_scores_test.extend(outputs_test.cpu().detach().numpy())\n",
    "\n",
    "# Use the val_loader length for computing average loss\n",
    "test_loss = test_running_loss / len(dataset_loader.val_loader)\n",
    "test_accuracy = correct_predictions_test / total_predictions_test\n",
    "roc_auc_test = roc_auc_score(y_true_test, y_scores_test)\n",
    "accuracy_test = accuracy_score(y_true_test, (np.array(y_scores_test) > 0.5))\n",
    "\n",
    "print(f\"Test Loss: {test_loss:.4f}, Test Accuracy: {test_accuracy:.4f}, Test ROC-AUC: {roc_auc_test:.4f}\")"
   ]
  },
  {
   "cell_type": "code",
   "execution_count": null,
   "id": "f62761f0",
   "metadata": {
    "execution": {
     "iopub.execute_input": "2025-04-03T09:22:16.636367Z",
     "iopub.status.busy": "2025-04-03T09:22:16.635872Z",
     "iopub.status.idle": "2025-04-03T09:22:16.870574Z",
     "shell.execute_reply": "2025-04-03T09:22:16.869762Z"
    },
    "papermill": {
     "duration": 1.005343,
     "end_time": "2025-04-03T09:22:16.871968",
     "exception": false,
     "start_time": "2025-04-03T09:22:15.866625",
     "status": "completed"
    },
    "tags": []
   },
   "outputs": [
    {
     "name": "stdout",
     "output_type": "stream",
     "text": [
      "\n",
      "--- Generating ROC Curve ---\n"
     ]
    },
    {
     "data": {
      "image/png": "[encoded data removed]",
      "text/plain": [
       "<Figure size 800x600 with 1 Axes>"
      ]
     },
     "metadata": {},
     "output_type": "display_data"
    }
   ],
   "source": [
    "\n",
    "fpr, tpr, thresholds = roc_curve(y_true_test, y_scores_test)\n",
    "roc_auc = auc(fpr, tpr)\n",
    "plt.figure(figsize=(8, 6))\n",
    "plt.plot(fpr, tpr, color='darkorange', lw=2, label=f'Model ROC curve (AUC = {roc_auc:.4f})')\n",
    "plt.plot([0, 1], [0, 1], color='navy', lw=2, linestyle='--', label='Chance level (AUC = 0.5)')\n",
    "\n",
    "plt.xlim([0.0, 1.0])\n",
    "plt.ylim([0.0, 1.05])\n",
    "plt.xlabel('False Positive Rate (FPR)')\n",
    "plt.ylabel('True Positive Rate (TPR)')\n",
    "plt.title('Receiver Operating Characteristic (ROC) Curve')\n",
    "plt.legend(loc=\"lower right\")\n",
    "plt.grid(True)\n",
    "plt.show()\n"
   ]
  }
 ],
 "metadata": {
  "kaggle": {
   "accelerator": "gpu",
   "dataSources": [
    {
     "datasetId": 4541045,
     "sourceId": 7764043,
     "sourceType": "datasetVersion"
    }
   ],
   "dockerImageVersionId": 30919,
   "isGpuEnabled": true,
   "isInternetEnabled": true,
   "language": "python",
   "sourceType": "notebook"
  },
  "kernelspec": {
   "display_name": "Python 3",
   "language": "python",
   "name": "python3"
  },
  "language_info": {
   "codemirror_mode": {
    "name": "ipython",
    "version": 3
   },
   "file_extension": ".py",
   "mimetype": "text/x-python",
   "name": "python",
   "nbconvert_exporter": "python",
   "pygments_lexer": "ipython3",
   "version": "3.10.12"
  },
  "papermill": {
   "default_parameters": {},
   "duration": 3196.537633,
   "end_time": "2025-04-03T09:22:22.951363",
   "environment_variables": {},
   "exception": null,
   "input_path": "__notebook__.ipynb",
   "output_path": "__notebook__.ipynb",
   "parameters": {},
   "start_time": "2025-04-03T08:29:06.413730",
   "version": "2.3.4"
  }
 },
 "nbformat": 4,
 "nbformat_minor": 5
}
